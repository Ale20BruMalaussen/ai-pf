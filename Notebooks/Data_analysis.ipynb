{
 "cells": [
  {
   "cell_type": "code",
   "execution_count": null,
   "id": "96ad7f85",
   "metadata": {},
   "outputs": [],
   "source": [
    "import os\n",
    "import glob\n",
    "import numpy as np\n",
    "import matplotlib.pyplot as plt\n",
    "%matplotlib inline"
   ]
  },
  {
   "cell_type": "code",
   "execution_count": null,
   "id": "88a3d9b8",
   "metadata": {},
   "outputs": [],
   "source": [
    "folder = 'old_NPZ_files'\n",
    "folder = '.'\n",
    "npz_files = glob.glob(folder + '/*x.npz')\n",
    "if folder == 'old_NPZ_files':\n",
    "    npz_files = npz_files[::2]\n",
    "data = [np.load(f, allow_pickle=True) for f in npz_files]\n",
    "if 'omega' in data[0]:\n",
    "    omega_key = 'omega'\n",
    "else:\n",
    "    omega_key = 'speed'\n",
    "npz_files"
   ]
  },
  {
   "cell_type": "code",
   "execution_count": null,
   "id": "6ea5159b",
   "metadata": {},
   "outputs": [],
   "source": [
    "bus_IDs = (3, 14, 17, 39)\n",
    "n_buses = 4\n",
    "var_names = ('F', 'Vd', 'Vq', 'Pe', 'Qe')\n",
    "n_vars = len(var_names)\n",
    "\n",
    "n_bins = 101\n",
    "\n",
    "fig,ax = plt.subplots(n_buses, n_vars, figsize=(n_vars * 2, n_buses * 2))\n",
    "cmap = plt.get_cmap('brg', len(data))\n",
    "for i in range(n_buses):\n",
    "    for j in range(n_vars):\n",
    "        for k,d in enumerate(data):\n",
    "            x = d[var_names[j]][:,i]\n",
    "            hist,edges = np.histogram(x, bins=n_bins, density=True)\n",
    "            ax[i,j].plot(edges[:-1] + np.diff(edges[:2])[0] / 2, hist, color=cmap(k),\n",
    "                         lw=1, label=' '.join(os.path.splitext(npz_files[k])[0].split('_')[1:]))\n",
    "            for side in 'right','top':\n",
    "                ax[i,j].spines[side].set_visible(False)\n",
    "ax[-1,-1].legend(loc='upper left', frameon=False)\n",
    "for i,var_name in enumerate(var_names):\n",
    "    ax[0,i].set_title(var_name.split('_')[0])\n",
    "for i,bus_ID in enumerate(bus_IDs):\n",
    "    ax[i,0].set_ylabel(f'Bus {bus_ID}')\n",
    "fig.tight_layout()\n",
    "fig.savefig(folder + '/bus_vars_variable_H.pdf')"
   ]
  },
  {
   "cell_type": "code",
   "execution_count": null,
   "id": "dd13d64d",
   "metadata": {
    "scrolled": true
   },
   "outputs": [],
   "source": [
    "bus_IDs = (3, 14, 17, 39)\n",
    "n_buses = 4\n",
    "var_names = ('F', 'Vd', 'Vq', 'Pe', 'Qe')\n",
    "n_vars = len(var_names)\n",
    "\n",
    "rng = (-4,4)\n",
    "n_bins = 31\n",
    "\n",
    "fig,ax = plt.subplots(n_buses, n_vars, sharex=True, sharey=True, figsize=(n_vars * 2, n_buses * 2))\n",
    "cmap = plt.get_cmap('brg', len(data))\n",
    "for i in range(n_buses):\n",
    "    for j in range(n_vars):\n",
    "        for k,d in enumerate(data):\n",
    "            X = np.array([d[var_names[j]][:,i] for d in data])\n",
    "            m = X.mean()\n",
    "            s = X.std()\n",
    "            x = (d[var_names[j]][:,i] - m) / s\n",
    "            hist,edges = np.histogram(x, bins=n_bins, range=rng, density=True)\n",
    "            ax[i,j].plot(edges[:-1] + np.diff(edges[:2])[0] / 2, hist, color=cmap(k),\n",
    "                         lw=1, label=' '.join(os.path.splitext(npz_files[k])[0].split('_')[1:]))\n",
    "            for side in 'right','top':\n",
    "                ax[i,j].spines[side].set_visible(False)\n",
    "ax[-1,-1].legend(loc='upper left', frameon=False)\n",
    "for i,var_name in enumerate(var_names):\n",
    "    ax[0,i].set_title(var_name.split('_')[0])\n",
    "for i,bus_ID in enumerate(bus_IDs):\n",
    "    ax[i,0].set_ylabel(f'Bus {bus_ID}')\n",
    "fig.tight_layout()\n",
    "fig.savefig(folder + '/bus_normalized_vars_variable_H.pdf')"
   ]
  },
  {
   "cell_type": "raw",
   "id": "e6bd779a",
   "metadata": {},
   "source": [
    "idx = data[0]['time'] < 10\n",
    "n_gen = data[0][omega_key].shape[1]\n",
    "fig,ax = plt.subplots(n_gen // 2, 2, sharex=True, sharey=True, figsize=(2 * 3, n_gen))\n",
    "ax = [a for row in ax for a in row]\n",
    "cmap = plt.get_cmap('brg', len(data))\n",
    "for i,d in enumerate(data):\n",
    "    for j,a in enumerate(ax):\n",
    "        a.plot(d['time'][idx], d[omega_key][idx,j], color=cmap(i), lw=1, \n",
    "               label=' '.join(os.path.splitext(npz_files[i])[0].split('_')[1:]))\n",
    "        a.set_title(f'Generator {j+1}')\n",
    "        for side in 'right','top':\n",
    "            a.spines[side].set_visible(False)\n",
    "        if j >= n_gen - 2:\n",
    "            a.set_xlabel('Time [s]')\n",
    "        if j % 2 == 0:\n",
    "            a.set_ylabel(r'$\\omega$')\n",
    "ax[0].legend(loc='best', frameon=False)\n",
    "fig.tight_layout()\n",
    "fig.savefig('omega_gen_variable_H.pdf')"
   ]
  },
  {
   "cell_type": "raw",
   "id": "029c4960",
   "metadata": {},
   "source": [
    "idx = data[0]['time'] < 600\n",
    "fig,ax = plt.subplots(2, 1, sharex=True)\n",
    "ax[0].plot(data[-1]['time'][idx], data[-1][omega_key][idx,0], 'g', lw=1)\n",
    "ax[0].plot(data[0]['time'][idx], data[0][omega_key][idx,0], 'b', lw=1)\n",
    "ax[1].plot(data[-1]['time'][idx], data[-1]['Vd'][idx,0], 'g', lw=1)\n",
    "ax[1].plot(data[0]['time'][idx], data[0]['Vd'][idx,0], 'b', lw=1)"
   ]
  },
  {
   "cell_type": "raw",
   "id": "c3e30119",
   "metadata": {},
   "source": [
    "time = data[0]['time']\n",
    "Vd = data[0]['Vd'][:,0]\n",
    "Vq = data[0]['Vq'][:,0]\n",
    "# V = data[0]['V'][:,0]\n",
    "Vmod = np.sqrt(Vd**2 + Vq**2)\n",
    "fig,ax = plt.subplots(2, 1, sharex=True)\n",
    "ax[0].plot(time, Vd, 'b', lw=1, label='Vd')\n",
    "# ax[0].plot(time, V, 'k', lw=1, label='V')\n",
    "ax[0].plot(time, Vmod, 'g', lw=1, label='Vmod')\n",
    "ax[1].plot(time, Vq, 'r', lw=1, label='Vq')\n",
    "ax[0].legend(loc='best')\n",
    "ax[1].legend(loc='best')"
   ]
  }
 ],
 "metadata": {
  "kernelspec": {
   "display_name": "Python 3",
   "language": "python",
   "name": "python3"
  },
  "language_info": {
   "codemirror_mode": {
    "name": "ipython",
    "version": 3
   },
   "file_extension": ".py",
   "mimetype": "text/x-python",
   "name": "python",
   "nbconvert_exporter": "python",
   "pygments_lexer": "ipython3",
   "version": "3.8.8"
  }
 },
 "nbformat": 4,
 "nbformat_minor": 5
}
