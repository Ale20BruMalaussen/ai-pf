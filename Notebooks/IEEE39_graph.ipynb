{
 "cells": [
  {
   "cell_type": "code",
   "execution_count": 1,
   "id": "a7ca4352",
   "metadata": {},
   "outputs": [],
   "source": [
    "import os\n",
    "import re\n",
    "import sys\n",
    "import numpy as np\n",
    "from numpy.random import RandomState, SeedSequence, MT19937\n",
    "import matplotlib.pyplot as plt\n",
    "\n",
    "powerfactory_path = r'C:\\Program Files\\DIgSILENT\\PowerFactory 2020 SP4\\Python\\3.8'\n",
    "if powerfactory_path not in sys.path:\n",
    "    sys.path.append(powerfactory_path)\n",
    "import powerfactory as pf\n",
    "\n",
    "try:\n",
    "    from pfcommon import *\n",
    "except:\n",
    "    sys.path.append('..')\n",
    "    from pfcommon import *\n",
    "\n",
    "cmap_name = 'viridis'\n",
    "verbose = True"
   ]
  },
  {
   "cell_type": "code",
   "execution_count": 2,
   "id": "e1388f00",
   "metadata": {},
   "outputs": [
    {
     "name": "stdout",
     "output_type": "stream",
     "text": [
      "Successfully obtained PowerFactory application.\n"
     ]
    }
   ],
   "source": [
    "app = pf.GetApplication()\n",
    "if app is None:\n",
    "    raise Exception('Cannot get PowerFactory application')\n",
    "else:\n",
    "    print('Successfully obtained PowerFactory application.')"
   ]
  },
  {
   "cell_type": "code",
   "execution_count": 3,
   "id": "d4ff9b80",
   "metadata": {},
   "outputs": [
    {
     "name": "stdout",
     "output_type": "stream",
     "text": [
      "Successfully activated project \\Terna_Inerzia\\IEEE39_rnd_load.\n"
     ]
    }
   ],
   "source": [
    "project_name = '\\\\Terna_Inerzia\\\\IEEE39_rnd_load'\n",
    "err = app.ActivateProject(project_name)\n",
    "if err:\n",
    "    raise Exception(f'Cannot activate project {project_name}')\n",
    "print(f'Successfully activated project {project_name}.')"
   ]
  },
  {
   "cell_type": "code",
   "execution_count": 4,
   "id": "6ae069ff",
   "metadata": {},
   "outputs": [
    {
     "name": "stdout",
     "output_type": "stream",
     "text": [
      "There are 10 generators.\n",
      "There are 34 lines.\n",
      "There are 39 buses.\n",
      "There are 19 loads.\n"
     ]
    }
   ],
   "source": [
    "generators = app.GetCalcRelevantObjects('*.ElmSym')\n",
    "lines = app.GetCalcRelevantObjects('*.ElmLne')\n",
    "buses = app.GetCalcRelevantObjects('*.ElmTerm')\n",
    "loads = app.GetCalcRelevantObjects('*.ElmLod')\n",
    "n_generators, n_lines, n_buses, n_loads = len(generators), len(lines), len(buses), len(loads)\n",
    "print(f'There are {n_generators} generators.')\n",
    "print(f'There are {n_lines} lines.')\n",
    "print(f'There are {n_buses} buses.')\n",
    "print(f'There are {n_loads} loads.')"
   ]
  },
  {
   "cell_type": "code",
   "execution_count": 24,
   "id": "7ed3ba64",
   "metadata": {},
   "outputs": [],
   "source": [
    "line_buses = lambda line: (int(re.findall('\\d+', line.bus1.cterm.loc_name)[0]), \\\n",
    "                           int(re.findall('\\d+', line.bus2.cterm.loc_name)[0]))\n",
    "def line_buses_str(line):\n",
    "    a,b = line_buses(line)\n",
    "    return f'{a:02d}_{b:02d}'"
   ]
  },
  {
   "cell_type": "code",
   "execution_count": 31,
   "id": "34566761",
   "metadata": {},
   "outputs": [],
   "source": [
    "lengths = {line_buses_str(line): line.dline for line in lines}\n",
    "R = {line_buses_str(line): line.typ_id.rline for line in lines}\n",
    "X = {line_buses_str(line): line.typ_id.xline for line in lines}\n",
    "keys = sorted(list(R.keys()))\n",
    "lengths = {key: lengths[key] for key in keys}\n",
    "R = {key: R[key] for key in keys}\n",
    "X = {key: X[key] for key in keys}\n",
    "W = {key: np.sqrt((R[key]*lengths[key])**2 + (X[key]*lengths[key])**2) for key in keys}"
   ]
  },
  {
   "cell_type": "code",
   "execution_count": 37,
   "id": "4ae8d253",
   "metadata": {},
   "outputs": [],
   "source": [
    "with open('IEEE39_graph.txt', 'w') as fid:\n",
    "    for key,weight in W.items():\n",
    "        bus1,bus2 = list(map(int, key.split('_')))\n",
    "        fid.write(f'{bus1} {bus2} {weight}\\n')"
   ]
  }
 ],
 "metadata": {
  "kernelspec": {
   "display_name": "Python 3 (ipykernel)",
   "language": "python",
   "name": "python3"
  },
  "language_info": {
   "codemirror_mode": {
    "name": "ipython",
    "version": 3
   },
   "file_extension": ".py",
   "mimetype": "text/x-python",
   "name": "python",
   "nbconvert_exporter": "python",
   "pygments_lexer": "ipython3",
   "version": "3.8.8"
  }
 },
 "nbformat": 4,
 "nbformat_minor": 5
}
