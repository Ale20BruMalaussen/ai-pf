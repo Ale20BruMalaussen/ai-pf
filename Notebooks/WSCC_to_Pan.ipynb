{
 "cells": [
  {
   "cell_type": "code",
   "execution_count": null,
   "id": "a7ca4352",
   "metadata": {},
   "outputs": [],
   "source": [
    "import re\n",
    "import sys\n",
    "import numpy as np\n",
    "\n",
    "powerfactory_path = r'C:\\Program Files\\DIgSILENT\\PowerFactory 2020 SP4\\Python\\3.8'\n",
    "if powerfactory_path not in sys.path:\n",
    "    sys.path.append(powerfactory_path)\n",
    "import powerfactory as pf\n",
    "\n",
    "try:\n",
    "    from pfcommon import *\n",
    "except:\n",
    "    sys.path.append('..')\n",
    "    from pfcommon import *"
   ]
  },
  {
   "cell_type": "code",
   "execution_count": null,
   "id": "e1388f00",
   "metadata": {},
   "outputs": [],
   "source": [
    "app = pf.GetApplication()\n",
    "if app is None:\n",
    "    raise Exception('Cannot get PowerFactory application')\n",
    "else:\n",
    "    print('Successfully obtained PowerFactory application.')"
   ]
  },
  {
   "cell_type": "code",
   "execution_count": null,
   "id": "d4ff9b80",
   "metadata": {},
   "outputs": [],
   "source": [
    "project_name = '\\\\Terna_Inerzia\\\\Nine-bus System'\n",
    "err = app.ActivateProject(project_name)\n",
    "if err:\n",
    "    raise Exception(f'Cannot activate project {project_name}')\n",
    "print(f'Successfully activated project {project_name}.')"
   ]
  },
  {
   "cell_type": "code",
   "execution_count": null,
   "id": "6ae069ff",
   "metadata": {},
   "outputs": [],
   "source": [
    "generators = app.GetCalcRelevantObjects('*.ElmSym')\n",
    "DSLs = app.GetCalcRelevantObjects('*.ElmDsl')\n",
    "AVRs = [dsl for dsl in DSLs if 'AVR' in dsl.loc_name]\n",
    "GOVs = [dsl for dsl in DSLs if 'GOV' in dsl.loc_name]\n",
    "power_plants = [comp_mod for comp_mod in app.GetCalcRelevantObjects('*.ElmComp')\n",
    "                if 'Plant' in comp_mod.loc_name]\n",
    "lines = app.GetCalcRelevantObjects('*.ElmLne')\n",
    "buses = app.GetCalcRelevantObjects('*.ElmTerm')\n",
    "loads = app.GetCalcRelevantObjects('*.ElmLod')\n",
    "transformers = app.GetCalcRelevantObjects('*.ElmTr2')\n",
    "n_generators, n_avrs, n_govs, n_plants = len(generators), len(AVRs), len(GOVs), len(power_plants)\n",
    "n_lines, n_buses, n_loads, n_transformers = len(lines), len(buses), len(loads), len(transformers)\n",
    "print(f'There are {n_plants} power plants.')\n",
    "print(f'There are {n_generators} generators.')\n",
    "print(f'There are {n_avrs} automatic voltage regulators.')\n",
    "print(f'There are {n_govs} turbine governors.')\n",
    "print(f'There are {n_lines} lines.')\n",
    "print(f'There are {n_buses} buses.')\n",
    "print(f'There are {n_loads} loads.')\n",
    "print(f'There are {n_transformers} transformers.')"
   ]
  },
  {
   "cell_type": "code",
   "execution_count": null,
   "id": "f4a603b2",
   "metadata": {},
   "outputs": [],
   "source": [
    "load_flow = app.GetFromStudyCase('ComLdf')\n",
    "err = load_flow.Execute()\n",
    "\n",
    "powerplants = []\n",
    "for plant in power_plants:\n",
    "    try:\n",
    "        powerplants.append(PowerPlant(plant))\n",
    "    except:\n",
    "        pass\n",
    "    \n",
    "get_name = lambda elem: elem.name\n",
    "\n",
    "powerplants = sorted(powerplants, key=lambda elem: elem.gen.name)\n",
    "generators_in_plants_names = [plant.gen.name for plant in powerplants]\n",
    "powergenerators = sorted([PowerGenerator(gen) for gen in generators \n",
    "                          if gen.loc_name not in generators_in_plants_names], key=get_name)\n",
    "powerloads = sorted([PowerLoad(load) for load in loads], key=get_name)\n",
    "powerbuses = sorted([PowerBus(bus) for bus in buses], key=get_name)\n",
    "powertransformers = [PowerTransformer(transformer) for transformer in transformers]\n",
    "powerlines = sorted([PowerLine(line) for line in lines], key=get_name)"
   ]
  },
  {
   "cell_type": "code",
   "execution_count": null,
   "id": "69b7b49a",
   "metadata": {},
   "outputs": [],
   "source": [
    "with open('wscc_PF_1_km_lines.inc', 'w') as fid:\n",
    "    for plant in powerplants:\n",
    "        fid.write(str(plant) + '\\n\\n')\n",
    "    for gen in powergenerators:\n",
    "        fid.write(str(gen) + '\\n\\n')\n",
    "    for load in powerloads:\n",
    "        fid.write(str(load) + '\\n')\n",
    "    fid.write('\\n')\n",
    "    for line in powerlines:\n",
    "        fid.write(str(line) + '\\n')\n",
    "    fid.write('\\n')\n",
    "    for trans in powertransformers:\n",
    "        fid.write(str(trans) + '\\n')\n",
    "    fid.write('\\n')\n",
    "    for bus in powerbuses:\n",
    "        fid.write(str(bus) + '\\n')"
   ]
  }
 ],
 "metadata": {
  "kernelspec": {
   "display_name": "Python 3 (ipykernel)",
   "language": "python",
   "name": "python3"
  },
  "language_info": {
   "codemirror_mode": {
    "name": "ipython",
    "version": 3
   },
   "file_extension": ".py",
   "mimetype": "text/x-python",
   "name": "python",
   "nbconvert_exporter": "python",
   "pygments_lexer": "ipython3",
   "version": "3.8.8"
  }
 },
 "nbformat": 4,
 "nbformat_minor": 5
}
