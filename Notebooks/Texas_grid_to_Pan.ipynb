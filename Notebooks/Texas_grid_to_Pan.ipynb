{
 "cells": [
  {
   "cell_type": "code",
   "execution_count": null,
   "id": "a7ca4352",
   "metadata": {},
   "outputs": [],
   "source": [
    "import re\n",
    "import sys\n",
    "from itertools import chain\n",
    "import numpy as np\n",
    "\n",
    "powerfactory_path = r'C:\\Program Files\\DIgSILENT\\PowerFactory 2020 SP4\\Python\\3.8'\n",
    "if powerfactory_path not in sys.path:\n",
    "    sys.path.append(powerfactory_path)\n",
    "import powerfactory as pf\n",
    "\n",
    "try:\n",
    "    from pfcommon import *\n",
    "except:\n",
    "    sys.path.append('..')\n",
    "    from pfcommon import *"
   ]
  },
  {
   "cell_type": "code",
   "execution_count": null,
   "id": "f97b2143",
   "metadata": {},
   "outputs": [],
   "source": [
    "def get_objects(app, pattern, keep_out_of_service=False):\n",
    "    objs = app.GetCalcRelevantObjects(pattern)\n",
    "    if keep_out_of_service:\n",
    "        return objs\n",
    "    return [obj for obj in objs if not obj.outserv]"
   ]
  },
  {
   "cell_type": "markdown",
   "id": "94acbc60",
   "metadata": {},
   "source": [
    "## Part I\n",
    "First, we start the application and activate the desired project"
   ]
  },
  {
   "cell_type": "code",
   "execution_count": null,
   "id": "e1388f00",
   "metadata": {},
   "outputs": [],
   "source": [
    "app = pf.GetApplication()\n",
    "if app is None:\n",
    "    raise Exception('Cannot get PowerFactory application')\n",
    "else:\n",
    "    print('Successfully obtained PowerFactory application.')"
   ]
  },
  {
   "cell_type": "code",
   "execution_count": null,
   "id": "d4ff9b80",
   "metadata": {},
   "outputs": [],
   "source": [
    "project_name = '\\\\Terna_Inerzia\\\\Texas Grid'\n",
    "err = app.ActivateProject(project_name)\n",
    "if err:\n",
    "    raise Exception(f'Cannot activate project {project_name}')\n",
    "print(f'Successfully activated project {project_name}.')"
   ]
  },
  {
   "cell_type": "markdown",
   "id": "01b3ba42",
   "metadata": {},
   "source": [
    "## Part II\n",
    "Then, we collect all the objects that make up the network: at this stage, these are DIgSILENT objects."
   ]
  },
  {
   "cell_type": "markdown",
   "id": "29ed1bf7",
   "metadata": {},
   "source": [
    "#### Generators"
   ]
  },
  {
   "cell_type": "code",
   "execution_count": null,
   "id": "73f3f137",
   "metadata": {},
   "outputs": [],
   "source": [
    "generators = get_objects(app, '*.ElmSym')\n",
    "n_generators = len(generators)\n",
    "print(f'There are {n_generators} generators.')"
   ]
  },
  {
   "cell_type": "code",
   "execution_count": null,
   "id": "6195fcee",
   "metadata": {},
   "outputs": [],
   "source": [
    "slack = np.array([gen.ip_ctrl for gen in generators])\n",
    "np.where(slack)[0]"
   ]
  },
  {
   "cell_type": "code",
   "execution_count": null,
   "id": "0d23a5c8",
   "metadata": {},
   "outputs": [],
   "source": [
    "generators[319].loc_name"
   ]
  },
  {
   "cell_type": "markdown",
   "id": "ce711abf",
   "metadata": {},
   "source": [
    "#### Loads"
   ]
  },
  {
   "cell_type": "code",
   "execution_count": null,
   "id": "1e192186",
   "metadata": {},
   "outputs": [],
   "source": [
    "loads = [load for load in get_objects(app, '*.ElmLod') if load.plini > 0 and load.qlini > 0]\n",
    "n_loads = len(loads)\n",
    "print(f'There are {n_loads} loads.')"
   ]
  },
  {
   "cell_type": "markdown",
   "id": "2752cae9",
   "metadata": {},
   "source": [
    "#### Lines"
   ]
  },
  {
   "cell_type": "code",
   "execution_count": null,
   "id": "b5e3543f",
   "metadata": {},
   "outputs": [],
   "source": [
    "lines = get_objects(app, '*.ElmLne')\n",
    "n_lines = len(lines)\n",
    "print(f'There are {n_lines} lines.')"
   ]
  },
  {
   "cell_type": "markdown",
   "id": "248c5d73",
   "metadata": {},
   "source": [
    "#### Transformers"
   ]
  },
  {
   "cell_type": "code",
   "execution_count": null,
   "id": "26ca1d68",
   "metadata": {},
   "outputs": [],
   "source": [
    "transformers = get_objects(app, '*.ElmTr2')\n",
    "n_transformers = len(transformers)\n",
    "print(f'There are {n_transformers} transformers.')"
   ]
  },
  {
   "cell_type": "markdown",
   "id": "6644e1f5",
   "metadata": {},
   "source": [
    "#### Static VAR systems"
   ]
  },
  {
   "cell_type": "code",
   "execution_count": null,
   "id": "b3bb5f25",
   "metadata": {},
   "outputs": [],
   "source": [
    "SVSs = get_objects(app, '*.ElmSvs')\n",
    "n_SVSs = len(SVSs)\n",
    "print(f'There are {n_SVSs} static VAR systems.')"
   ]
  },
  {
   "cell_type": "markdown",
   "id": "eb26033c",
   "metadata": {},
   "source": [
    "#### Storage"
   ]
  },
  {
   "cell_type": "code",
   "execution_count": null,
   "id": "0101e0ef",
   "metadata": {},
   "outputs": [],
   "source": [
    "storage = get_objects(app, '*.ElmStorage')\n",
    "n_storage = len(storage)\n",
    "print(f'There are {n_storage} storage elements.')"
   ]
  },
  {
   "cell_type": "markdown",
   "id": "374d6e17",
   "metadata": {},
   "source": [
    "#### DSL objects\n",
    "These are objects implemented using DIgSILENT Simulation Language (DSL)"
   ]
  },
  {
   "cell_type": "code",
   "execution_count": null,
   "id": "74863ce1",
   "metadata": {},
   "outputs": [],
   "source": [
    "DSLs = get_objects(app, '*.ElmDsl')\n",
    "\n",
    "AVRs = [dsl for dsl in DSLs if dsl.typ_id.loc_name[:4] == 'avr_']\n",
    "GOVs = [dsl for dsl in DSLs if dsl.typ_id.loc_name[:4] == 'gov_']\n",
    "PSSs = [dsl for dsl in DSLs if dsl.typ_id.loc_name[:4] == 'pss_']\n",
    "DRPs = [dsl for dsl in DSLs if dsl.typ_id.loc_name[:4] == 'drp_']\n",
    "power_plants = [comp_mod for comp_mod in app.GetCalcRelevantObjects('*.ElmComp')\n",
    "                if 'Comp sym_' in comp_mod.loc_name]\n",
    "\n",
    "n_DSLs = len(DSLs)\n",
    "n_AVRs = len(AVRs)\n",
    "n_GOVs = len(GOVs)\n",
    "n_PSSs = len(PSSs)\n",
    "n_DRPs = len(DRPs)\n",
    "n_power_plants = len(power_plants)\n",
    "\n",
    "if n_DSLs != n_AVRs + n_GOVs + n_PSSs + n_DRPs:\n",
    "    raise Exception('Missing some DSL')\n",
    "\n",
    "AVR_types = set([avr.loc_name for avr in AVRs])\n",
    "GOV_types = set([gov.loc_name for gov in GOVs])\n",
    "PSS_types = set([pss.loc_name for pss in PSSs])\n",
    "DRP_types = set([drp.loc_name for drp in DRPs])\n",
    "\n",
    "print(f'There are {n_power_plants} power plants.')\n",
    "\n",
    "print(f'There are {n_DSLs} DSL objects subdivided among:')\n",
    "print(f'   {n_AVRs} AVRs (types: ' + ', '.join(AVR_types) + ')')\n",
    "print(f'   {n_GOVs} GOVs (types: ' + ', '.join(GOV_types) + ')')\n",
    "print(f'   {n_PSSs} PSSs (type:  ' + ', '.join(PSS_types) + ')')\n",
    "print(f'   {n_DRPs} DRPs (type:  ' + ', '.join(DRP_types) + ')')"
   ]
  },
  {
   "cell_type": "raw",
   "id": "ee8b468c",
   "metadata": {},
   "source": [
    "cnt = 0\n",
    "bus_number, group_number = [], []\n",
    "for gov in GOVs:\n",
    "    if gov.loc_name == 'IEEEG1':\n",
    "        cnt += 1\n",
    "        if gov.T2 == 0:\n",
    "            name = re.findall('sym_\\d+_\\d+', gov.GetFullName())[0]\n",
    "            num,grp = map(int, name.split('_')[1:])\n",
    "            bus_number.append(num)\n",
    "            group_number.append(grp)\n",
    "print(f'There are {cnt} governors of type IEEE G1.')\n",
    "for num in sorted(bus_number):\n",
    "    print(num)"
   ]
  },
  {
   "cell_type": "markdown",
   "id": "c94cb991",
   "metadata": {},
   "source": [
    "There should be none of the following:"
   ]
  },
  {
   "cell_type": "code",
   "execution_count": null,
   "id": "5d565e1e",
   "metadata": {},
   "outputs": [],
   "source": [
    "shunts = get_objects(app, '*.ElmShnt')\n",
    "capacitors = get_objects(app, '*.ElmScap')\n",
    "impedances = get_objects(app, '*.ElmZpu')\n",
    "n_shunts, n_capacitors, n_impedances = len(shunts), len(capacitors), len(impedances)\n",
    "print(f'There are {n_shunts} shunts.')\n",
    "print(f'There are {n_capacitors} series capacitors.')\n",
    "print(f'There are {n_impedances} common impedances.')"
   ]
  },
  {
   "cell_type": "code",
   "execution_count": null,
   "id": "c2374ee7",
   "metadata": {},
   "outputs": [],
   "source": [
    "bus_names = []\n",
    "for obj in chain(lines, capacitors, impedances):\n",
    "    for i in 1,2:\n",
    "        bus_name = obj.GetAttribute(f'bus{i}').cterm.loc_name\n",
    "        if bus_name not in bus_names:\n",
    "            bus_names.append(bus_name)\n",
    "for obj in chain(generators, loads, shunts):\n",
    "    bus_name = obj.bus1.cterm.loc_name\n",
    "    if bus_name not in bus_names:\n",
    "        bus_names.append(bus_name)\n",
    "for obj in transformers:\n",
    "    for c in 'hl':\n",
    "        bus_name = obj.GetAttribute(f'bus{c}v').cterm.loc_name\n",
    "        if bus_name not in bus_names:\n",
    "            bus_names.append(bus_name)\n",
    "all_in_service_buses = get_objects(app, '*.ElmTerm')\n",
    "buses = [bus for bus in all_in_service_buses if bus.loc_name in bus_names]\n",
    "n_buses = len(buses)\n",
    "print(f'There are {n_buses} buses.')"
   ]
  },
  {
   "cell_type": "markdown",
   "id": "7e60cfa0",
   "metadata": {},
   "source": [
    "## Part III\n",
    "Here, we convert all the DIgSILENT objects to the corresponding Python class representation.\n",
    "<br/>\n",
    "But first, run a load flow analysis and make sure that there are no errors:"
   ]
  },
  {
   "cell_type": "code",
   "execution_count": null,
   "id": "6adb6d68",
   "metadata": {},
   "outputs": [],
   "source": [
    "load_flow = app.GetFromStudyCase('ComLdf')\n",
    "err = load_flow.Execute()\n",
    "if err:\n",
    "    print('Error when running a load flow analysis.')\n",
    "else:\n",
    "    print('Successfully run a load flow analysis.')"
   ]
  },
  {
   "cell_type": "code",
   "execution_count": null,
   "id": "5f819df6",
   "metadata": {},
   "outputs": [],
   "source": [
    "# shortcut function\n",
    "get_name = lambda elem: elem.name"
   ]
  },
  {
   "cell_type": "markdown",
   "id": "a9bdd387",
   "metadata": {},
   "source": [
    "Group together all the objects that make up a powr plant, i.e., a synchronous machine, an AVR, a governor, a PSS and optionally a droop controller."
   ]
  },
  {
   "cell_type": "code",
   "execution_count": null,
   "id": "c906b32a",
   "metadata": {},
   "outputs": [],
   "source": [
    "class PowerSystemStabilizer (object):\n",
    "    def __init__(self, pss, type_name):\n",
    "        pass\n",
    "    \n",
    "class DroopController (object):\n",
    "    def __init__(self, drp, type_name):\n",
    "        pass\n",
    "\n",
    "class TexasPowerPlant (object):\n",
    "    def __init__(self, power_plant):\n",
    "        self.name = power_plant.loc_name\n",
    "        slots = power_plant.pblk\n",
    "        elements = power_plant.pelm\n",
    "        for slot,element in zip(slots, elements):\n",
    "            if element is not None:\n",
    "                element_name = element.loc_name\n",
    "                if 'sym' in element_name:\n",
    "                    self.gen = PowerGenerator(element.obj_id)\n",
    "                else:\n",
    "                    try:\n",
    "                        type_name = element.typ_id.loc_name\n",
    "                        if type_name[:4] == 'avr_':\n",
    "                            self.avr = AutomaticVoltageRegulator(element, type_name=element_name)\n",
    "                        elif type_name[:4] == 'gov_':\n",
    "                            self.gov = TurbineGovernor(element, type_name=element_name)\n",
    "                        elif type_name[:4] == 'pss_':\n",
    "                            self.pss = PowerSystemStabilizer(element, type_name=element_name)\n",
    "                        elif type_name[:4] == 'drp_':\n",
    "                            self.droop = DroopController(element, type_name=elemnt_name)\n",
    "                    except:\n",
    "                        pass\n",
    "        self.avr.vrating = self.gen.vrating\n",
    "                    \n",
    "    def __str__(self):\n",
    "        return 'TexasPowerPlant'\n",
    "#         bus_id = self.gen.bus_id\n",
    "#         avr_str = self.avr.fmt.format(f'bus{bus_id}', f'avr{bus_id}')\n",
    "#         if self.gov.type_name.upper() == 'IEEEG1':\n",
    "#             gov_str = self.gov.fmt.format(f'php{bus_id}', f'omega{bus_id}')\n",
    "#             gen_str = self.gen.fmt.format(f'avr{bus_id}', f'php{bus_id}')\n",
    "#         elif self.gov.type_name.upper() == 'IEEEG3':\n",
    "#             gov_str = self.gov.fmt.format(f'pm{bus_id}', f'omega{bus_id}')\n",
    "#             gen_str = self.gen.fmt.format(f'avr{bus_id}', f'pm{bus_id}')\n",
    "#         else:\n",
    "#             raise Exception(f'Unknown governor type \"{self.gov.type_name}\"')\n",
    "#         return avr_str + '\\n\\n' + gov_str + '\\n\\n' + gen_str"
   ]
  },
  {
   "cell_type": "code",
   "execution_count": null,
   "id": "21113f81",
   "metadata": {},
   "outputs": [],
   "source": [
    "plant = power_plants[0]\n",
    "slots = plant.pblk\n",
    "elements = plant.pelm\n",
    "print('Slots:')\n",
    "for i,slot in enumerate(slots):\n",
    "    print(f'[{i+1:2d}] {slot.loc_name}')\n",
    "print('Elements:')\n",
    "for i,elem in enumerate(elements):\n",
    "    if elem is not None:\n",
    "        print(f'[{i+1:2d}] {elem.loc_name} -> ')"
   ]
  },
  {
   "cell_type": "code",
   "execution_count": null,
   "id": "63f2f98a",
   "metadata": {},
   "outputs": [],
   "source": [
    "gen = PowerGenerator(elements[0].obj_id)\n",
    "print(gen)"
   ]
  },
  {
   "cell_type": "code",
   "execution_count": null,
   "id": "22cfc090",
   "metadata": {},
   "outputs": [],
   "source": [
    "raise Exception('stop here')"
   ]
  },
  {
   "cell_type": "code",
   "execution_count": null,
   "id": "f4a603b2",
   "metadata": {},
   "outputs": [],
   "source": [
    "powerplants = []\n",
    "for plant in power_plants:\n",
    "    try:\n",
    "        powerplants.append(TexasPowerPlant(plant))\n",
    "    except:\n",
    "        pass\n",
    "\n",
    "powerplants = sorted(powerplants, key=lambda elem: elem.gen.name)\n",
    "generators_in_plants_names = [plant.gen.name for plant in powerplants]"
   ]
  },
  {
   "cell_type": "code",
   "execution_count": null,
   "id": "0fb72efb",
   "metadata": {},
   "outputs": [],
   "source": [
    "powergenerators = sorted([PowerGenerator(gen) for gen in generators \n",
    "                          if gen.loc_name not in generators_in_plants_names], key=get_name)\n",
    "powerloads = sorted([PowerLoad(load) for load in loads], key=get_name)\n",
    "powerbuses = sorted([PowerBus(bus) for bus in buses], key=get_name)\n",
    "powertransformers = sorted([PowerTransformer(transformer, voltages_from='bus') for transformer in transformers],\n",
    "                           key=get_name)\n",
    "powerlines = sorted([PowerLine(line) for line in lines], key=get_name)\n",
    "# powershunts = sorted([Shunt(shunt) for shunt in shunts], key=get_name)\n",
    "# powercapacitors = sorted([SeriesCapacitor(cap) for cap in capacitors], key=get_name)\n",
    "# powerimpedances = sorted([CommonImpedance(imp) for imp in impedances], key=get_name)"
   ]
  },
  {
   "cell_type": "markdown",
   "id": "b6d48fe7",
   "metadata": {},
   "source": [
    "## Part IV\n",
    "Finally, we use the string representation of each Python object to write a Pan netlist."
   ]
  },
  {
   "cell_type": "raw",
   "id": "55428c81",
   "metadata": {},
   "source": [
    "with open('texas_grid.inc', 'w') as fid:\n",
    "    for gen in powergenerators:\n",
    "        fid.write(str(gen) + '\\n')\n",
    "    fid.write('\\n')\n",
    "    for load in powerloads:\n",
    "        fid.write(str(load) + '\\n')\n",
    "    fid.write('\\n')\n",
    "    for line in powerlines:\n",
    "        fid.write(str(line) + '\\n')\n",
    "    fid.write('\\n')\n",
    "    for trans in powertransformers:\n",
    "        fid.write(str(trans) + '\\n')\n",
    "    fid.write('\\n')\n",
    "    for bus in powerbuses:\n",
    "        fid.write(str(bus) + '\\n')\n",
    "    fid.write('\\n')\n",
    "    for shunt in powershunts:\n",
    "        fid.write(str(shunt) + '\\n')\n",
    "    fid.write('\\n')\n",
    "    for cap in powercapacitors:\n",
    "        fid.write(str(cap) + '\\n')\n",
    "    fid.write('\\n')\n",
    "    for imp in powerimpedances:\n",
    "        fid.write(str(imp) + '\\n')"
   ]
  }
 ],
 "metadata": {
  "kernelspec": {
   "display_name": "Python 3 (ipykernel)",
   "language": "python",
   "name": "python3"
  },
  "language_info": {
   "codemirror_mode": {
    "name": "ipython",
    "version": 3
   },
   "file_extension": ".py",
   "mimetype": "text/x-python",
   "name": "python",
   "nbconvert_exporter": "python",
   "pygments_lexer": "ipython3",
   "version": "3.8.8"
  }
 },
 "nbformat": 4,
 "nbformat_minor": 5
}
