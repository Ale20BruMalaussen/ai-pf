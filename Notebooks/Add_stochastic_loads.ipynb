{
 "cells": [
  {
   "cell_type": "code",
   "execution_count": null,
   "id": "a1002912",
   "metadata": {},
   "outputs": [],
   "source": [
    "import os\n",
    "import re\n",
    "import sys\n",
    "import numpy as np\n",
    "import pandas as pd\n",
    "import cmath\n",
    "import matplotlib.pyplot as plt\n",
    "import seaborn as sns\n",
    "\n",
    "powerfactory_path = r'C:\\Program Files\\DIgSILENT\\PowerFactory 2020 SP4\\Python\\3.8'\n",
    "if powerfactory_path not in sys.path:\n",
    "    sys.path.append(powerfactory_path)\n",
    "import powerfactory as pf\n",
    "\n",
    "try:\n",
    "    from pfcommon import *\n",
    "except:\n",
    "    sys.path.append('..')\n",
    "    from pfcommon import *"
   ]
  },
  {
   "cell_type": "code",
   "execution_count": null,
   "id": "9f7247c7",
   "metadata": {},
   "outputs": [],
   "source": [
    "def find_in_contents(container, name):\n",
    "    for obj in container.GetContents():\n",
    "        if obj.loc_name == name:\n",
    "            return obj\n",
    "    return None\n",
    "\n",
    "class StochasticLoad (object):\n",
    "    def __init__(self, load, grid, app, n_samples, P=None, Q=None, outdir='.'):\n",
    "        self.load = load\n",
    "        self.grid = grid\n",
    "        self.app = app\n",
    "        self.n_samples = n_samples\n",
    "        if P is not None:\n",
    "            self.Pm,self.Ps = P\n",
    "        else:\n",
    "            self.Pm,self.Ps = load.plini, load.plini/100*5\n",
    "        if Q is not None:\n",
    "            self.Qm,self.Qs = Q\n",
    "        else:\n",
    "            self.Qm,self.Qs = load.qlini, load.qlini/100*5\n",
    "        self.meas_filepath = os.path.join(outdir, load.loc_name.replace(' ', '_') + '_PQ.dat')\n",
    "\n",
    "        library = find_in_contents(self.app.GetActiveProject(), 'Library')\n",
    "        if library is None:\n",
    "            raise Exception('Cannot locate library')\n",
    "        user_models = find_in_contents(library, 'User Defined Models')\n",
    "        if user_models is None:\n",
    "            raise Exception('Cannot locate user models')\n",
    "        self.frame = find_in_contents(user_models, 'TimeVaryingLoadFrame')\n",
    "        if self.frame is None:\n",
    "            raise Exception('Cannot locate time-varying load frame')\n",
    "\n",
    "    def _write_load_file(self, store_tPQ=False):\n",
    "        tPQ = np.zeros((n_samples, 3))\n",
    "        tPQ[:,0] = t\n",
    "        tPQ[:,1] = self.Pm + self.Ps * np.random.normal(size=self.n_samples)\n",
    "        tPQ[:,2] = self.Qm + self.Qs * np.random.normal(size=self.n_samples)\n",
    "        with open(self.meas_filepath, 'w') as fid:\n",
    "            fid.write('2\\n\\n')\n",
    "            for row in tPQ:\n",
    "                fid.write(f'{row[0]:.6f}\\t{row[1]:.2f}\\t{row[2]:.2f}\\n\\n')\n",
    "        if store_tPQ:\n",
    "            self.tPQ = tPQ\n",
    "\n",
    "    def build(self):\n",
    "        ld_name = self.load.loc_name.replace(' ', '_')\n",
    "        self._write_load_file(store_tPQ=True)\n",
    "        self.meas_file = self.grid.CreateObject('ElmFile', 'meas_' + ld_name)\n",
    "        self.meas_file.f_name = self.meas_filepath\n",
    "        self.comp_model = grid.CreateObject('ElmComp', 'stochastic_' + ld_name)\n",
    "        self.comp_model.typ_id = self.frame\n",
    "        self.comp_model.SetAttribute(\"pelm\", [self.meas_file, self.load])\n",
    "        \n",
    "    def clean(self):\n",
    "        self.meas_file.Delete()\n",
    "        self.comp_model.Delete()"
   ]
  },
  {
   "cell_type": "markdown",
   "id": "6afe6339",
   "metadata": {},
   "source": [
    "#### Get the PowerFactory application"
   ]
  },
  {
   "cell_type": "code",
   "execution_count": null,
   "id": "794c11cb",
   "metadata": {},
   "outputs": [],
   "source": [
    "app = pf.GetApplication()\n",
    "if app is None:\n",
    "    raise Exception('Cannot get PowerFactory application')\n",
    "print('Got PowerFactory application.')"
   ]
  },
  {
   "cell_type": "markdown",
   "id": "56bfc3a1",
   "metadata": {},
   "source": [
    "#### Activate the project\n",
    "We start with the simple 9-bus system, which contains only three loads."
   ]
  },
  {
   "cell_type": "code",
   "execution_count": null,
   "id": "a8c8e7a9",
   "metadata": {},
   "outputs": [],
   "source": [
    "project_name = '\\\\Terna_Inerzia\\\\Nine-bus System'\n",
    "err = app.ActivateProject(project_name)\n",
    "if err:\n",
    "    raise Exception(f'Cannot activate project {project_name}')\n",
    "print(f'Activated project \"{project_name}\".')"
   ]
  },
  {
   "cell_type": "markdown",
   "id": "13368967",
   "metadata": {},
   "source": [
    "#### Get the active project"
   ]
  },
  {
   "cell_type": "code",
   "execution_count": null,
   "id": "834f5e0f",
   "metadata": {},
   "outputs": [],
   "source": [
    "project = app.GetActiveProject()\n",
    "if project is None:\n",
    "    raise Exception('Cannot get active project')\n",
    "print('Got active project.')"
   ]
  },
  {
   "cell_type": "markdown",
   "id": "40e42527",
   "metadata": {},
   "source": [
    "#### Get some info on the network"
   ]
  },
  {
   "cell_type": "code",
   "execution_count": null,
   "id": "adabc329",
   "metadata": {},
   "outputs": [],
   "source": [
    "generators = app.GetCalcRelevantObjects('*.ElmSym')\n",
    "lines = app.GetCalcRelevantObjects('*.ElmLne')\n",
    "buses = app.GetCalcRelevantObjects('*.ElmTerm')\n",
    "loads = app.GetCalcRelevantObjects('*.ElmLod')\n",
    "transformers = app.GetCalcRelevantObjects('*.ElmTr2')\n",
    "n_generators, n_lines, n_buses = len(generators), len(lines), len(buses)\n",
    "n_loads, n_transformers = len(loads), len(transformers)\n",
    "print(f'There are {n_generators} generators.')\n",
    "print(f'There are {n_lines} lines.')\n",
    "print(f'There are {n_buses} buses.')\n",
    "print(f'There are {n_loads} loads.')\n",
    "print(f'There are {n_transformers} transformers.')"
   ]
  },
  {
   "cell_type": "markdown",
   "id": "7475c7c3",
   "metadata": {},
   "source": [
    "#### Run a power flow analysis\n",
    "This is just to make sure that everything works fine."
   ]
  },
  {
   "cell_type": "code",
   "execution_count": null,
   "id": "f00eb63f",
   "metadata": {},
   "outputs": [],
   "source": [
    "study_cases_proj_folder = app.GetProjectFolder('study')\n",
    "if study_cases_proj_folder is None:\n",
    "    raise Exception('Cannot get the study cases project folder')\n",
    "print('Got study cases project folder.')\n",
    "PF_study_case_name = '01- Load Flow.IntCase'\n",
    "study_cases = study_cases_proj_folder.GetContents(PF_study_case_name)\n",
    "if len(study_cases) == 0:\n",
    "    raise Exception(f'Cannot get study case \"{PF-study_case_name}\".')\n",
    "PF_study_case = study_cases[0]\n",
    "print(f'Got study case \"{PF_study_case_name}\".')\n",
    "err = PF_study_case.Activate()\n",
    "if err:\n",
    "    print(f'Study case \"{PF_study_case_name}\" was already activated.')\n",
    "else:\n",
    "    print(f'Activated study case \"{PF_study_case_name}\".')"
   ]
  },
  {
   "cell_type": "code",
   "execution_count": null,
   "id": "7bff2d8d",
   "metadata": {},
   "outputs": [],
   "source": [
    "lf_res = run_power_flow(app, study_cases_proj_folder, PF_study_case_name, generators,\n",
    "                       loads, buses, lines, transformers)\n",
    "print_power_flow(lf_res)"
   ]
  },
  {
   "cell_type": "markdown",
   "id": "af86f855",
   "metadata": {},
   "source": [
    "#### Make all the loads in the network stochastic\n",
    "First of all, we activate the study case called `09- Stochastic Loads`."
   ]
  },
  {
   "cell_type": "code",
   "execution_count": null,
   "id": "06425d69",
   "metadata": {},
   "outputs": [],
   "source": [
    "study_case_name = '09- Stochastic Loads'\n",
    "study_case = study_cases_proj_folder.GetContents(study_case_name)[0]\n",
    "err = study_case.Activate()\n",
    "if err:\n",
    "    raise Exception(f'Cannot activate study case {study_case_name}')"
   ]
  },
  {
   "cell_type": "code",
   "execution_count": null,
   "id": "a92818f9",
   "metadata": {},
   "outputs": [],
   "source": [
    "srate = 1000.\n",
    "dt = 1/srate\n",
    "tend = 100\n",
    "t = np.r_[0 : tend : dt]\n",
    "n_samples = t.size"
   ]
  },
  {
   "cell_type": "code",
   "execution_count": null,
   "id": "d4cbe213",
   "metadata": {},
   "outputs": [],
   "source": [
    "stochastic = True\n",
    "if stochastic:\n",
    "    grids = app.GetCalcRelevantObjects('*.ElmNet')\n",
    "    grid = grids[0]\n",
    "    loads = app.GetCalcRelevantObjects('*.ElmLod')\n",
    "    stoch_loads = []\n",
    "    for load in loads:\n",
    "        stoch_load = StochasticLoad(load, grid, app, n_samples,\n",
    "                                    outdir='C:\\\\Users\\\\Terna_Inerzia\\\\Desktop\\\\ai-pf\\\\PF')\n",
    "        stoch_load.build()\n",
    "        stoch_loads.append(stoch_load)"
   ]
  },
  {
   "cell_type": "markdown",
   "id": "263a68da",
   "metadata": {},
   "source": [
    "#### Compute the initial condition of the simulation"
   ]
  },
  {
   "cell_type": "code",
   "execution_count": null,
   "id": "7217ac5f",
   "metadata": {},
   "outputs": [],
   "source": [
    "inc = app.GetFromStudyCase('ComInc')\n",
    "inc.iopt_sim = 'rms'\n",
    "inc.iopt_coiref = 2\n",
    "inc.tstart = 0\n",
    "inc.dtgrd = dt\n",
    "err = inc.Execute()\n",
    "if err:\n",
    "    raise Exception('Cannot compute initial condition')"
   ]
  },
  {
   "cell_type": "markdown",
   "id": "47a12963",
   "metadata": {},
   "source": [
    "#### Tell PowerFactory which variables should be saved to its internal file"
   ]
  },
  {
   "cell_type": "code",
   "execution_count": null,
   "id": "ca3aa8cc",
   "metadata": {},
   "outputs": [],
   "source": [
    "# speed, mechanical torque, electrical torque, terminal voltage, electrical power\n",
    "var_names = 's:xspeed', #'s:xme', 's:xmt', 's:ut', 's:pgt'\n",
    "res = app.GetFromStudyCase('*.ElmRes')\n",
    "for gen in generators:\n",
    "    for var_name in var_names:\n",
    "        res.AddVariable(gen, var_name)"
   ]
  },
  {
   "cell_type": "markdown",
   "id": "7254abdf",
   "metadata": {},
   "source": [
    "#### Run the transient simulation"
   ]
  },
  {
   "cell_type": "code",
   "execution_count": null,
   "id": "2df290e9",
   "metadata": {},
   "outputs": [],
   "source": [
    "sim = app.GetFromStudyCase('ComSim')\n",
    "sim.tstop = tend\n",
    "err = sim.Execute()\n",
    "if err:\n",
    "    raise Exception('Cannot run transient simulation')"
   ]
  },
  {
   "cell_type": "markdown",
   "id": "d89a05cd",
   "metadata": {},
   "source": [
    "#### Get the data"
   ]
  },
  {
   "cell_type": "code",
   "execution_count": null,
   "id": "eae147b2",
   "metadata": {},
   "outputs": [],
   "source": [
    "res.Load()\n",
    "time = get_simulation_time(res)\n",
    "data = {}\n",
    "for var_name in var_names:\n",
    "    data[var_name] = get_simulation_variables(res, var_name, elements=generators)"
   ]
  },
  {
   "cell_type": "code",
   "execution_count": null,
   "id": "9d5ce8a1",
   "metadata": {},
   "outputs": [],
   "source": [
    "fig,ax = plt.subplots(1, 1, figsize=(6,4))\n",
    "cmap = plt.get_cmap('viridis', n_generators)\n",
    "for i in range(n_generators):\n",
    "    ax.plot(time, data['s:xspeed'][:,i], color=cmap(i), lw=1)\n",
    "sns.despine()\n",
    "ax.set_xlabel('Time [s]')\n",
    "ax.set_ylabel('ω [p.u.]')\n",
    "ax.set_ylim([0.9964,0.9972])\n",
    "fig.tight_layout()"
   ]
  },
  {
   "cell_type": "markdown",
   "id": "4e4b4634",
   "metadata": {},
   "source": [
    "#### Remove the composite models that were added previously"
   ]
  },
  {
   "cell_type": "code",
   "execution_count": null,
   "id": "071e5cea",
   "metadata": {},
   "outputs": [],
   "source": [
    "do_remove = True\n",
    "if stochastic and do_remove:\n",
    "    for load in stoch_loads:\n",
    "        load.clean()"
   ]
  },
  {
   "cell_type": "raw",
   "id": "eb84c7e1",
   "metadata": {},
   "source": [
    "load = stoch_loads[0]\n",
    "fig,(ax1,ax2) = plt.subplots(2, 1, sharex=True, figsize=(6,3))\n",
    "ax1.plot(load.tPQ[:,0], load.tPQ[:,1], 'k', lw=1)\n",
    "ax2.plot(load.tPQ[:,0], load.tPQ[:,2], 'r', lw=1)\n",
    "sns.despine()\n",
    "ax1.set_ylabel('P [MW]')\n",
    "ax2.set_ylabel('Q [MVA]')\n",
    "ax2.set_xlabel('Time [s]')\n",
    "fig.tight_layout()"
   ]
  }
 ],
 "metadata": {
  "kernelspec": {
   "display_name": "Python 3 (ipykernel)",
   "language": "python",
   "name": "python3"
  },
  "language_info": {
   "codemirror_mode": {
    "name": "ipython",
    "version": 3
   },
   "file_extension": ".py",
   "mimetype": "text/x-python",
   "name": "python",
   "nbconvert_exporter": "python",
   "pygments_lexer": "ipython3",
   "version": "3.8.8"
  }
 },
 "nbformat": 4,
 "nbformat_minor": 5
}
