{
 "cells": [
  {
   "cell_type": "code",
   "execution_count": null,
   "id": "4e2bd028",
   "metadata": {},
   "outputs": [],
   "source": [
    "import sys\n",
    "import numpy as np\n",
    "import pickle\n",
    "from scipy.optimize import fsolve, bisect\n",
    "\n",
    "powerfactory_path = r'C:\\Program Files\\DIgSILENT\\PowerFactory 2020 SP4\\Python\\3.8'\n",
    "if powerfactory_path not in sys.path:\n",
    "    sys.path.append(powerfactory_path)\n",
    "import powerfactory as pf\n",
    "\n",
    "try:\n",
    "    from pfcommon import *\n",
    "except:\n",
    "    sys.path.append('..')\n",
    "    from pfcommon import *"
   ]
  },
  {
   "cell_type": "code",
   "execution_count": null,
   "id": "83d377af",
   "metadata": {},
   "outputs": [],
   "source": [
    "app = pf.GetApplication()\n",
    "if app is None:\n",
    "    raise Exception('Cannot get PowerFactory application')\n",
    "else:\n",
    "    print('Successfully obtained PowerFactory application.')"
   ]
  },
  {
   "cell_type": "code",
   "execution_count": null,
   "id": "066cb3d5",
   "metadata": {},
   "outputs": [],
   "source": [
    "project_name = '\\\\Terna_Inerzia\\\\IEEE39 w/ Stoch. Load & Compensator'\n",
    "# project_name = '\\\\Terna_Inerzia\\\\IEEE39 w/ Stoch. Load'\n",
    "err = app.ActivateProject(project_name)\n",
    "if err:\n",
    "    raise Exception(f'Cannot activate project {project_name}')\n",
    "print(f'Successfully activated project {project_name}.')"
   ]
  },
  {
   "cell_type": "code",
   "execution_count": null,
   "id": "0f9bcbc7",
   "metadata": {},
   "outputs": [],
   "source": [
    "project = app.GetActiveProject()\n",
    "if project is None:\n",
    "    raise Exception('Cannot get active project')\n",
    "print('Successfully obtained active project.')"
   ]
  },
  {
   "cell_type": "code",
   "execution_count": null,
   "id": "b5a84cd1",
   "metadata": {},
   "outputs": [],
   "source": [
    "project_folders = {}\n",
    "for folder_name in ('study',):\n",
    "    project_folders[folder_name] = app.GetProjectFolder(folder_name)\n",
    "    if project_folders[folder_name] is None:\n",
    "        raise Exception(f'No folder \"{folder_name}\" present')\n",
    "    print(f'Successfully obtained folder \"{folder_name}\".')"
   ]
  },
  {
   "cell_type": "code",
   "execution_count": null,
   "id": "8f39b601",
   "metadata": {},
   "outputs": [],
   "source": [
    "generators = app.GetCalcRelevantObjects('*.ElmSym')\n",
    "lines = app.GetCalcRelevantObjects('*.ElmLne')\n",
    "buses = app.GetCalcRelevantObjects('*.ElmTerm')\n",
    "loads = app.GetCalcRelevantObjects('*.ElmLod')\n",
    "n_generators, n_lines, n_buses, n_loads = len(generators), len(lines), len(buses), len(loads)\n",
    "print(f'There are {n_generators} generators.')\n",
    "print(f'There are {n_lines} lines.')\n",
    "print(f'There are {n_buses} buses.')\n",
    "print(f'There are {n_loads} loads.')"
   ]
  },
  {
   "cell_type": "code",
   "execution_count": null,
   "id": "4db3a474",
   "metadata": {},
   "outputs": [],
   "source": [
    "P_gen = {}\n",
    "S_gen = {}\n",
    "H_gen = {}\n",
    "\n",
    "default_H = {\n",
    "    'G 01': 5.0,\n",
    "    'G 02': 4.33,\n",
    "    'G 03': 4.47,\n",
    "    'G 04': 3.57,\n",
    "    'G 05': 4.33,\n",
    "    'G 06': 4.35,\n",
    "    'G 07': 3.77,\n",
    "    'G 08': 3.47,\n",
    "    'G 09': 3.45,\n",
    "    'G 10': 4.20,\n",
    "    'G 11': 0.1\n",
    "}\n",
    "coeff = 1\n",
    "H = {k: coeff*v for k,v in default_H.items()}\n",
    "for generator in generators:\n",
    "    name = generator.loc_name\n",
    "    generator_type = generator.typ_id\n",
    "    generator_type.h = H[name]\n",
    "    P_gen[name] = generator.pgini\n",
    "    S_gen[name] = generator_type.sgn\n",
    "    H_gen[name] = generator_type.h\n",
    "    print(f'{name}: P = {P_gen[name]:4.0f} MW, S = {S_gen[name]:5.0f} MVA, inertia = {H_gen[name]:5.2f} s.')"
   ]
  },
  {
   "cell_type": "code",
   "execution_count": null,
   "id": "6f5252a8",
   "metadata": {},
   "outputs": [],
   "source": [
    "areas_map = {\n",
    "    1: ['G 02', 'G 03', 'G 10'],\n",
    "    2: ['G 04', 'G 05', 'G 06', 'G 07'],\n",
    "    3: ['G 08', 'G 09'],\n",
    "    4: ['G 01']\n",
    "}\n",
    "if n_generators == 1:\n",
    "    areas_map[1].append('G 11')\n",
    "H_area = {}   # inertia\n",
    "E_area = {}   # energy\n",
    "M_area = {}   # momentum\n",
    "for area_id,generator_names in areas_map.items():\n",
    "    num, den = 0,0\n",
    "    for generator_name in generator_names:\n",
    "        num += S_gen[generator_name] * H_gen[generator_name]\n",
    "        den += S_gen[generator_name]\n",
    "    H_area[area_id] = num / den \n",
    "    E_area[area_id] = num * 1e-3\n",
    "    M_area[area_id] = 2 * num * 1e-3 / 60\n",
    "print('Area inertias:  [{}] s.'.format(', '.join(list(map(lambda s: f'{s:5.2f}', H_area.values())))))\n",
    "print('Area energies:  [{}] GW s.'.format(', '.join(list(map(lambda s: f'{s:5.2f}', E_area.values())))))\n",
    "print('Area momentums: [{}] GW s^2.'.format(', '.join(list(map(lambda s: f'{s:5.2f}', M_area.values())))))"
   ]
  },
  {
   "cell_type": "code",
   "execution_count": null,
   "id": "564832e3",
   "metadata": {},
   "outputs": [],
   "source": [
    "study_case_name = '1. Power Flow'"
   ]
  },
  {
   "cell_type": "code",
   "execution_count": null,
   "id": "d8be4ac9",
   "metadata": {},
   "outputs": [],
   "source": [
    "if n_generators == 11:\n",
    "    def cost(usetp, generator_name, app, project_folders, generators, loads, buses, study_case_name):\n",
    "        idx = [gen.loc_name for gen in generators].index(generator_name)\n",
    "        generators[idx].usetp = usetp\n",
    "        lf = run_load_flow(app, project_folders['study'], generators, loads, buses, study_case_name)\n",
    "        return lf['generators'][generator_name]['Q']\n",
    "    \n",
    "    generator_name = 'G 11'\n",
    "    optim_usetp = bisect(cost, 0.9, 1.1, args=(generator_name, app, project_folders, generators, loads, buses, study_case_name))\n",
    "    print(f'Optimal value of voltage set point for generator \"{generator_name}\": {optim_usetp:.4f} p.u.')"
   ]
  },
  {
   "cell_type": "code",
   "execution_count": null,
   "id": "53cf2a32",
   "metadata": {},
   "outputs": [],
   "source": [
    "lf_res = run_load_flow(app, project_folders['study'], generators, loads, buses, study_case_name)"
   ]
  },
  {
   "cell_type": "code",
   "execution_count": null,
   "id": "fa0afcc7",
   "metadata": {},
   "outputs": [],
   "source": [
    "filename = 'IEEE39_LF'\n",
    "if n_generators == 10:\n",
    "    filename += '_with_compensator'\n",
    "pickle.dump(lf_res, open(filename + '.pkl','wb'))"
   ]
  },
  {
   "cell_type": "code",
   "execution_count": null,
   "id": "34b8513d",
   "metadata": {},
   "outputs": [],
   "source": [
    "print_load_flow(lf_res)"
   ]
  }
 ],
 "metadata": {
  "kernelspec": {
   "display_name": "Python 3 (ipykernel)",
   "language": "python",
   "name": "python3"
  },
  "language_info": {
   "codemirror_mode": {
    "name": "ipython",
    "version": 3
   },
   "file_extension": ".py",
   "mimetype": "text/x-python",
   "name": "python",
   "nbconvert_exporter": "python",
   "pygments_lexer": "ipython3",
   "version": "3.8.8"
  }
 },
 "nbformat": 4,
 "nbformat_minor": 5
}
