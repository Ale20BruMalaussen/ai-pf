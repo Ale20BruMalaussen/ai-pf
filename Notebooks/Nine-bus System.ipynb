{
 "cells": [
  {
   "cell_type": "code",
   "execution_count": 1,
   "id": "66edd5da",
   "metadata": {},
   "outputs": [],
   "source": [
    "import os\n",
    "import sys\n",
    "import numpy as np\n",
    "import matplotlib.pyplot as plt\n",
    "\n",
    "powerfactory_path = r'C:\\Program Files\\DIgSILENT\\PowerFactory 2020 SP4\\Python\\3.8'\n",
    "if powerfactory_path not in sys.path:\n",
    "    sys.path.append(powerfactory_path)\n",
    "import powerfactory as pf\n",
    "\n",
    "from pfcommon import *"
   ]
  },
  {
   "cell_type": "code",
   "execution_count": 2,
   "id": "1b5714f5",
   "metadata": {},
   "outputs": [
    {
     "name": "stdout",
     "output_type": "stream",
     "text": [
      "Successfully obtained PowerFactory application.\n"
     ]
    }
   ],
   "source": [
    "app = pf.GetApplication()\n",
    "if app is None:\n",
    "    raise Exception('Cannot get PowerFactory application')\n",
    "else:\n",
    "    print('Successfully obtained PowerFactory application.')"
   ]
  },
  {
   "cell_type": "code",
   "execution_count": 3,
   "id": "e26c6cb3",
   "metadata": {},
   "outputs": [
    {
     "name": "stdout",
     "output_type": "stream",
     "text": [
      "Successfully activated project \\Terna_Inerzia\\Nine-bus System.\n"
     ]
    }
   ],
   "source": [
    "project_name = '\\\\Terna_Inerzia\\\\Nine-bus System'\n",
    "err = app.ActivateProject(project_name)\n",
    "if err:\n",
    "    raise Exception(f'Cannot activate project {project_name}')\n",
    "print(f'Successfully activated project {project_name}.')"
   ]
  },
  {
   "cell_type": "code",
   "execution_count": 4,
   "id": "9b1fb135",
   "metadata": {},
   "outputs": [
    {
     "name": "stdout",
     "output_type": "stream",
     "text": [
      "Successfully obtained active project.\n"
     ]
    }
   ],
   "source": [
    "project = app.GetActiveProject()\n",
    "if project is None:\n",
    "    raise Exception('Cannot get active project')\n",
    "print('Successfully obtained active project.')"
   ]
  },
  {
   "cell_type": "code",
   "execution_count": 5,
   "id": "358fdad9",
   "metadata": {},
   "outputs": [
    {
     "name": "stdout",
     "output_type": "stream",
     "text": [
      "Successfully obtained folder \"study\".\n"
     ]
    }
   ],
   "source": [
    "project_folders = {}\n",
    "for folder_name in ('study',):\n",
    "    project_folders[folder_name] = app.GetProjectFolder(folder_name)\n",
    "    if project_folders[folder_name] is None:\n",
    "        raise Exception(f'No folder \"{folder_name}\" present')\n",
    "    print(f'Successfully obtained folder \"{folder_name}\".')"
   ]
  },
  {
   "cell_type": "markdown",
   "id": "110bd51a",
   "metadata": {},
   "source": [
    "## Load flow analysis"
   ]
  },
  {
   "cell_type": "code",
   "execution_count": 6,
   "id": "b9ccde66",
   "metadata": {},
   "outputs": [
    {
     "name": "stdout",
     "output_type": "stream",
     "text": [
      "Successfully activated study case 01- Load Flow.\n"
     ]
    }
   ],
   "source": [
    "study_case_name = '01- Load Flow'\n",
    "if '.IntCase' not in study_case_name and False:\n",
    "    study_case_name += '.IntCase'\n",
    "study_case = project_folders['study'].GetContents(study_case_name)[0]\n",
    "err = study_case.Activate() # don't know why this returns 1\n",
    "# if err:\n",
    "#     raise Exception(f'Cannot activate study case {study_case_name}')\n",
    "print(f'Successfully activated study case {study_case_name}.')"
   ]
  },
  {
   "cell_type": "code",
   "execution_count": 7,
   "id": "8cbc52c3",
   "metadata": {},
   "outputs": [
    {
     "name": "stdout",
     "output_type": "stream",
     "text": [
      "Successfully run load flow.\n"
     ]
    }
   ],
   "source": [
    "load_flow = app.GetFromStudyCase('ComLdf')\n",
    "err = load_flow.Execute()\n",
    "if err:\n",
    "    raise Exception(f'Cannot run load flow')\n",
    "print(f'Successfully run load flow.')"
   ]
  },
  {
   "cell_type": "code",
   "execution_count": 8,
   "id": "507e7951",
   "metadata": {},
   "outputs": [
    {
     "name": "stdout",
     "output_type": "stream",
     "text": [
      "Bus 1: voltage = 1.040 pu\n",
      "Bus 2: voltage = 1.025 pu\n",
      "Bus 3: voltage = 1.025 pu\n",
      "Bus 4: voltage = 1.026 pu\n",
      "Bus 5: voltage = 0.996 pu\n",
      "Bus 6: voltage = 1.013 pu\n",
      "Bus 7: voltage = 1.026 pu\n",
      "Bus 8: voltage = 1.016 pu\n",
      "Bus 9: voltage = 1.032 pu\n"
     ]
    }
   ],
   "source": [
    "for bus in app.GetCalcRelevantObjects('*.ElmTerm'):\n",
    "    voltage = bus.GetAttribute('m:u')\n",
    "    print(f'{bus.loc_name}: voltage = {voltage:.3f} pu')"
   ]
  },
  {
   "cell_type": "markdown",
   "id": "869a25e9",
   "metadata": {},
   "source": [
    "## Transient stability analysis"
   ]
  },
  {
   "cell_type": "code",
   "execution_count": 9,
   "id": "addbc695",
   "metadata": {},
   "outputs": [
    {
     "name": "stdout",
     "output_type": "stream",
     "text": [
      "Successfully activated study case 09- Transient Stability.IntCase.\n"
     ]
    }
   ],
   "source": [
    "study_case_name = '09- Transient Stability'\n",
    "if '.IntCase' not in study_case_name:\n",
    "    study_case_name += '.IntCase'\n",
    "study_case = project_folders['study'].GetContents(study_case_name)[0]\n",
    "err = study_case.Activate() # don't know why this returns 1\n",
    "# if err:\n",
    "#     raise Exception(f'Cannot activate study case {study_case_name}')\n",
    "print(f'Successfully activated study case {study_case_name}.')"
   ]
  },
  {
   "cell_type": "code",
   "execution_count": 10,
   "id": "b992de25",
   "metadata": {},
   "outputs": [],
   "source": [
    "monitored_variables = {\n",
    "    '*.ElmSym': ['s:xspeed']\n",
    "}\n",
    "# the results of the transient simulation will be stored in this variable\n",
    "res = app.GetFromStudyCase('*.ElmRes')\n",
    "for elm_name,var_names in monitored_variables.items():\n",
    "    for element in app.GetCalcRelevantObjects(elm_name):\n",
    "        for var_name in var_names:\n",
    "            res.AddVariable(element, var_name)"
   ]
  },
  {
   "cell_type": "code",
   "execution_count": 11,
   "id": "2a1f3534",
   "metadata": {},
   "outputs": [],
   "source": [
    "line = app.GetCalcRelevantObjects('Line 5-7.ElmLne')[0]\n",
    "event_folder = app.GetFromStudyCase('IntEvt')\n",
    "events = {}\n",
    "for event_name in 'short_circuit', 'clear_short':\n",
    "    event_folder.CreateObject('EvtShc', event_name)\n",
    "    evt = event_folder.GetContents(event_name + '.EvtShc')[0]\n",
    "    if event_name == 'short_circuit':\n",
    "        evt.p_target = line\n",
    "        evt.i_shc = 0 # 3-phase short circuit\n",
    "        evt.time = 1\n",
    "    elif event_name == 'clear_short':\n",
    "        evt.p_target = line\n",
    "        evt.i_shc = 4 # clear short circuit\n",
    "        evt.time = 1.1\n",
    "    events[event_name] = evt"
   ]
  },
  {
   "cell_type": "code",
   "execution_count": 12,
   "id": "ce3ffc27",
   "metadata": {},
   "outputs": [
    {
     "name": "stdout",
     "output_type": "stream",
     "text": [
      "Successfully computed initial condition.\n"
     ]
    }
   ],
   "source": [
    "inc = app.GetFromStudyCase('ComInc')\n",
    "inc.iopt_sim = 'rms'\n",
    "inc.tstart = 0\n",
    "inc.dtgrd = 1e-3\n",
    "err = inc.Execute()\n",
    "if err:\n",
    "    raise Exception('Cannot compute initial condition')\n",
    "print('Successfully computed initial condition.')"
   ]
  },
  {
   "cell_type": "code",
   "execution_count": 13,
   "id": "6d337a05",
   "metadata": {},
   "outputs": [
    {
     "name": "stdout",
     "output_type": "stream",
     "text": [
      "Successfully run transient simulation.\n"
     ]
    }
   ],
   "source": [
    "sim = app.GetFromStudyCase('ComSim')\n",
    "sim.tstop = 10\n",
    "err = sim.Execute()\n",
    "if err:\n",
    "    raise Exception('Cannot run transient simulation')\n",
    "print('Successfully run transient simulation.')"
   ]
  },
  {
   "cell_type": "code",
   "execution_count": 14,
   "id": "8d7a4941",
   "metadata": {},
   "outputs": [],
   "source": [
    "res.Load()\n",
    "for event in events.values():\n",
    "    event.Delete()"
   ]
  },
  {
   "cell_type": "code",
   "execution_count": 15,
   "id": "2fc3393d",
   "metadata": {},
   "outputs": [],
   "source": [
    "time = get_simulation_time(res)\n",
    "speed,generators = get_simulation_variables(res, 's:xspeed', elements_name='*.ElmSym', app=app, full_output=True)"
   ]
  },
  {
   "cell_type": "code",
   "execution_count": 16,
   "id": "ce75907e",
   "metadata": {},
   "outputs": [
    {
     "data": {
      "image/png": "[encoded data removed]",
      "text/plain": [
       "<Figure size 576x288 with 1 Axes>"
      ]
     },
     "metadata": {
      "needs_background": "light"
     },
     "output_type": "display_data"
    }
   ],
   "source": [
    "col = 'kmg'\n",
    "fig,ax = plt.subplots(1, 1, figsize=(8,4))\n",
    "for i,generator in enumerate(generators):\n",
    "    ax.plot(time, speed[:,i], col[i], lw=1, label=generator.loc_name)\n",
    "ax.legend(loc='lower right')\n",
    "for side in 'right','top':\n",
    "    ax.spines[side].set_visible(False)\n",
    "ax.set_xlabel('Time [s]')\n",
    "ax.set_ylabel('Speed [p.u.]')\n",
    "ax.grid(which='major', axis='both', lw=0.5, ls=':')\n",
    "fig.tight_layout()\n",
    "fig.savefig('Nine-bus_line_fault.pdf')"
   ]
  }
 ],
 "metadata": {
  "kernelspec": {
   "display_name": "Python 3",
   "language": "python",
   "name": "python3"
  },
  "language_info": {
   "codemirror_mode": {
    "name": "ipython",
    "version": 3
   },
   "file_extension": ".py",
   "mimetype": "text/x-python",
   "name": "python",
   "nbconvert_exporter": "python",
   "pygments_lexer": "ipython3",
   "version": "3.8.8"
  }
 },
 "nbformat": 4,
 "nbformat_minor": 5
}
