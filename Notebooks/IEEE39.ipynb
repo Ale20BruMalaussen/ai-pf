{
 "cells": [
  {
   "cell_type": "markdown",
   "id": "44a7aa91",
   "metadata": {},
   "source": [
    "### This notebook is not updated to reflect the last additions to [this other notebook](IEEE39_with_stochastic_load.ipynb)."
   ]
  },
  {
   "cell_type": "code",
   "execution_count": null,
   "id": "66edd5da",
   "metadata": {},
   "outputs": [],
   "source": [
    "import os\n",
    "import sys\n",
    "import numpy as np\n",
    "from numpy.random import RandomState, SeedSequence, MT19937\n",
    "import matplotlib.pyplot as plt\n",
    "\n",
    "powerfactory_path = r'C:\\Program Files\\DIgSILENT\\PowerFactory 2020 SP4\\Python\\3.8'\n",
    "if powerfactory_path not in sys.path:\n",
    "    sys.path.append(powerfactory_path)\n",
    "import powerfactory as pf\n",
    "\n",
    "from pfcommon import *"
   ]
  },
  {
   "cell_type": "code",
   "execution_count": null,
   "id": "1b5714f5",
   "metadata": {},
   "outputs": [],
   "source": [
    "app = pf.GetApplication()\n",
    "if app is None:\n",
    "    raise Exception('Cannot get PowerFactory application')\n",
    "else:\n",
    "    print('Successfully obtained PowerFactory application.')"
   ]
  },
  {
   "cell_type": "code",
   "execution_count": null,
   "id": "e26c6cb3",
   "metadata": {},
   "outputs": [],
   "source": [
    "project_name = '\\\\Terna_Inerzia\\\\39 Bus New England System'\n",
    "err = app.ActivateProject(project_name)\n",
    "if err:\n",
    "    raise Exception(f'Cannot activate project {project_name}')\n",
    "print(f'Successfully activated project {project_name}.')"
   ]
  },
  {
   "cell_type": "code",
   "execution_count": null,
   "id": "9b1fb135",
   "metadata": {},
   "outputs": [],
   "source": [
    "project = app.GetActiveProject()\n",
    "if project is None:\n",
    "    raise Exception('Cannot get active project')\n",
    "print('Successfully obtained active project.')"
   ]
  },
  {
   "cell_type": "code",
   "execution_count": null,
   "id": "358fdad9",
   "metadata": {},
   "outputs": [],
   "source": [
    "project_folders = {}\n",
    "for folder_name in ('study',):\n",
    "    project_folders[folder_name] = app.GetProjectFolder(folder_name)\n",
    "    if project_folders[folder_name] is None:\n",
    "        raise Exception(f'No folder \"{folder_name}\" present')\n",
    "    print(f'Successfully obtained folder \"{folder_name}\".')"
   ]
  },
  {
   "cell_type": "code",
   "execution_count": null,
   "id": "f599ec09",
   "metadata": {},
   "outputs": [],
   "source": [
    "generators = app.GetCalcRelevantObjects('*.ElmSym')\n",
    "lines = app.GetCalcRelevantObjects('*.ElmLne')\n",
    "buses = app.GetCalcRelevantObjects('*.ElmTerm')\n",
    "loads = app.GetCalcRelevantObjects('*.ElmLod')\n",
    "n_generators, n_lines, n_buses, n_loads = len(generators), len(lines), len(buses), len(loads)\n",
    "print(f'There are {n_generators} generators.')\n",
    "print(f'There are {n_lines} lines.')\n",
    "print(f'There are {n_buses} buses.')\n",
    "print(f'There are {n_loads} loads.')"
   ]
  },
  {
   "cell_type": "code",
   "execution_count": null,
   "id": "9f04f888",
   "metadata": {},
   "outputs": [],
   "source": [
    "for line in lines:\n",
    "    line_type = line.GetAttribute('typ_id')\n",
    "    vrating = line_type.GetAttribute('uline')\n",
    "    print(f'{line.loc_name}: Vrating = {vrating:6.1f} kV.')"
   ]
  },
  {
   "cell_type": "code",
   "execution_count": null,
   "id": "4d19ed75",
   "metadata": {},
   "outputs": [],
   "source": [
    "P = {}\n",
    "S = {}\n",
    "H = {}\n",
    "for generator in generators:\n",
    "    i = int(generator.loc_name.split(' ')[1])\n",
    "    generator_type = generator.GetAttribute('typ_id')\n",
    "    P[i] = generator.GetAttribute('pgini')\n",
    "    S[i] = generator_type.GetAttribute('sgn')\n",
    "    H[i] = generator_type.GetAttribute('h')\n",
    "    print(f'{generator.loc_name}: P = {P[i]:4.0f} MW, S = {S[i]:5.0f} MVA, inertia = {H[i]:5.2f} s.')"
   ]
  },
  {
   "cell_type": "code",
   "execution_count": null,
   "id": "4a3f9267",
   "metadata": {},
   "outputs": [],
   "source": [
    "areas_map = {\n",
    "    1: [2, 3, 10],\n",
    "    2: [4, 5, 6, 7],\n",
    "    3: [8, 9],\n",
    "    4: [1]\n",
    "}\n",
    "Harea = {}   # inertia\n",
    "Earea = {}   # energy\n",
    "Marea = {}   # momentum\n",
    "for area_id,generator_ids in areas_map.items():\n",
    "    num, den = 0,0\n",
    "    for generator_id in generator_ids:\n",
    "        num += S[generator_id] * H[generator_id]\n",
    "        den += S[generator_id]\n",
    "    Harea[area_id] = num / den \n",
    "    Earea[area_id] = num * 1e-3\n",
    "    Marea[area_id] = 2 * num * 1e-3 / 60\n",
    "print('Area inertias:  [{}] s.'.format(', '.join(list(map(lambda s: f'{s:5.2f}', Harea.values())))))\n",
    "print('Area energies:  [{}] GW s.'.format(', '.join(list(map(lambda s: f'{s:5.2f}', Earea.values())))))\n",
    "print('Area momentums: [{}] GW s^2.'.format(', '.join(list(map(lambda s: f'{s:5.2f}', Marea.values())))))"
   ]
  },
  {
   "cell_type": "markdown",
   "id": "110bd51a",
   "metadata": {},
   "source": [
    "## Load flow analysis"
   ]
  },
  {
   "cell_type": "code",
   "execution_count": null,
   "id": "b9ccde66",
   "metadata": {},
   "outputs": [],
   "source": [
    "study_case_name = '1. Power Flow'\n",
    "study_case = project_folders['study'].GetContents(study_case_name)[0]\n",
    "err = study_case.Activate() # don't know why this returns 1\n",
    "# if err:\n",
    "#     raise Exception(f'Cannot activate study case {study_case_name}')\n",
    "print(f'Successfully activated study case {study_case_name}.')"
   ]
  },
  {
   "cell_type": "code",
   "execution_count": null,
   "id": "8cbc52c3",
   "metadata": {},
   "outputs": [],
   "source": [
    "load_flow = app.GetFromStudyCase('ComLdf')\n",
    "err = load_flow.Execute()\n",
    "if err:\n",
    "    raise Exception(f'Cannot run load flow')\n",
    "print(f'Successfully run load flow.')"
   ]
  },
  {
   "cell_type": "code",
   "execution_count": null,
   "id": "16e52dbd",
   "metadata": {},
   "outputs": [],
   "source": [
    "Ptot = 0\n",
    "Qtot = 0\n",
    "for gen in generators:\n",
    "    P = gen.GetAttribute('m:Psum:bus1')\n",
    "    Q = gen.GetAttribute('m:Qsum:bus1')\n",
    "    I = gen.GetAttribute('m:I:bus1')\n",
    "    Ptot += P\n",
    "    Qtot += Q\n",
    "    print(f'{gen.loc_name}: P = {P:7.2f} MW, Q = {Q:6.2f} MVAR, I = {I:6.3f} kA.')\n",
    "print(f'Total P = {Ptot*1e-3:5.2f} GW, total Q = {Qtot*1e-3:5.2f} GVAR')"
   ]
  },
  {
   "cell_type": "code",
   "execution_count": null,
   "id": "507e7951",
   "metadata": {},
   "outputs": [],
   "source": [
    "Ptot = 0\n",
    "Qtot = 0\n",
    "for load in loads:\n",
    "    P = load.GetAttribute('m:Psum:bus1')\n",
    "    Q = load.GetAttribute('m:Qsum:bus1')\n",
    "    I = load.GetAttribute('m:I:bus1')\n",
    "    V = load.GetAttribute('m:U1:bus1')    # line-to-ground voltage\n",
    "    Vl = load.GetAttribute('m:U1l:bus1')  # line-to-line voltage\n",
    "    Ptot += P\n",
    "    Qtot += Q\n",
    "    print(f'{load.loc_name}: P = {P:7.2f} MW, Q = {Q:6.2f} MVAR, I = {I:6.3f} kA, V = {V:8.3f} kV.')\n",
    "print(f'Total P = {Ptot*1e-3:5.2f} GW, total Q = {Qtot*1e-3:5.2f} GVAR')"
   ]
  },
  {
   "cell_type": "code",
   "execution_count": null,
   "id": "e7338258",
   "metadata": {},
   "outputs": [],
   "source": [
    "power_types = ['gen','load','flow','out']\n",
    "print('Power types: (' + ' '.join(power_types) + ')')\n",
    "for bus in buses:\n",
    "    P = {power_type: bus.GetAttribute(f'm:P{power_type}') for power_type in power_types}\n",
    "    Q = {power_type: bus.GetAttribute(f'm:Q{power_type}') for power_type in power_types}\n",
    "    V = bus.GetAttribute('m:U')\n",
    "    Pline = ' '.join([f'{P[power_type]:6.1f}' for power_type in power_types])\n",
    "    Qline = ' '.join([f'{Q[power_type]:6.1f}' for power_type in power_types])\n",
    "    print(f'{bus.loc_name}: V = {V:8.3f} kV, (' + Pline + ') MW, (' + Qline + ') MVar')"
   ]
  },
  {
   "cell_type": "markdown",
   "id": "869a25e9",
   "metadata": {},
   "source": [
    "## Transient stability analysis"
   ]
  },
  {
   "cell_type": "code",
   "execution_count": null,
   "id": "b72bf7ed",
   "metadata": {},
   "outputs": [],
   "source": [
    "study_case_name = '5. Transient Stability'\n",
    "if '.IntCase' not in study_case_name and False:\n",
    "    study_case_name += '.IntCase'\n",
    "study_case = project_folders['study'].GetContents(study_case_name)[0]\n",
    "err = study_case.Activate() # don't know why this returns 1\n",
    "# if err:\n",
    "#     raise Exception(f'Cannot activate study case {study_case_name}')\n",
    "print(f'Successfully activated study case {study_case_name}.')"
   ]
  },
  {
   "cell_type": "markdown",
   "id": "99fd625c",
   "metadata": {},
   "source": [
    "Objects that will be used in the following:"
   ]
  },
  {
   "cell_type": "code",
   "execution_count": null,
   "id": "58828abd",
   "metadata": {},
   "outputs": [],
   "source": [
    "generators = app.GetCalcRelevantObjects('*.ElmSym')\n",
    "loads = app.GetCalcRelevantObjects('*.ElmLod')\n",
    "buses = app.GetCalcRelevantObjects('*.ElmTerm')"
   ]
  },
  {
   "cell_type": "code",
   "execution_count": null,
   "id": "b992de25",
   "metadata": {},
   "outputs": [],
   "source": [
    "monitored_variables = {\n",
    "    '*.ElmSym': ['s:xspeed'],\n",
    "    '*.ElmLod': ['m:Psum:bus1', 'm:Qsum:bus1'],\n",
    "    '*.ElmTerm': ['m:u', 'm:ur', 'm:ui', 'm:u1', 'm:u1r', 'm:u1i', 'm:Pflow', 'm:Qflow', 'm:Pout', 'm:Qout']\n",
    "}\n",
    "# the results of the transient simulation will be stored in this variable\n",
    "res = app.GetFromStudyCase('*.ElmRes')\n",
    "for elements,var_names in monitored_variables.items():\n",
    "    for element in app.GetCalcRelevantObjects(elements):\n",
    "        for var_name in var_names:\n",
    "            res.AddVariable(element, var_name)"
   ]
  },
  {
   "cell_type": "code",
   "execution_count": null,
   "id": "ce3ffc27",
   "metadata": {},
   "outputs": [],
   "source": [
    "dt = 10 # [ms]\n",
    "inc = app.GetFromStudyCase('ComInc')\n",
    "inc.iopt_sim = 'rms'\n",
    "inc.tstart = 0\n",
    "inc.dtgrd = dt\n",
    "err = inc.Execute()\n",
    "if err:\n",
    "    raise Exception('Cannot compute initial condition')\n",
    "print('Successfully computed initial condition.')"
   ]
  },
  {
   "cell_type": "code",
   "execution_count": null,
   "id": "6d337a05",
   "metadata": {},
   "outputs": [],
   "source": [
    "sim = app.GetFromStudyCase('ComSim')\n",
    "sim.tstop = 0.5\n",
    "# sim.dtstop = dt\n",
    "err = sim.Execute()\n",
    "if err:\n",
    "    raise Exception('Cannot run transient simulation')\n",
    "print('Successfully run transient simulation.')\n",
    "res.Load()"
   ]
  },
  {
   "cell_type": "markdown",
   "id": "3b56285d",
   "metadata": {},
   "source": [
    "Get the data:"
   ]
  },
  {
   "cell_type": "code",
   "execution_count": null,
   "id": "2fc3393d",
   "metadata": {},
   "outputs": [],
   "source": [
    "# dtsim = get_simulation_dt(res) # [s]\n",
    "# dec = int(dt // dtsim)\n",
    "dec = 1\n",
    "\n",
    "sys.stdout.write('.')\n",
    "sys.stdout.flush()\n",
    "time = get_simulation_time(res, decimation=dec)\n",
    "\n",
    "sys.stdout.write('.')\n",
    "sys.stdout.flush()\n",
    "speed = get_simulation_variables(res, 's:xspeed', elements=generators, decimation=dec)\n",
    "\n",
    "sys.stdout.write('.')\n",
    "sys.stdout.flush()\n",
    "P = get_simulation_variables(res, 'm:Psum:bus1', elements=loads, decimation=dec)\n",
    "\n",
    "sys.stdout.write('.')\n",
    "sys.stdout.flush()\n",
    "Q = get_simulation_variables(res, 'm:Qsum:bus1', elements=loads, decimation=dec)\n",
    "\n",
    "sys.stdout.write('.')\n",
    "sys.stdout.flush()\n",
    "V = get_simulation_variables(res, 'm:u', elements=buses, decimation=dec)\n",
    "\n",
    "sys.stdout.write('.')\n",
    "sys.stdout.flush()\n",
    "Vr = get_simulation_variables(res, 'm:ur', elements=buses, decimation=dec)\n",
    "\n",
    "sys.stdout.write('.')\n",
    "sys.stdout.flush()\n",
    "Vi = get_simulation_variables(res, 'm:ui', elements=buses, decimation=dec)"
   ]
  },
  {
   "cell_type": "code",
   "execution_count": null,
   "id": "ce75907e",
   "metadata": {},
   "outputs": [],
   "source": [
    "cmap = plt.get_cmap('Set2', n_generators)\n",
    "fig,ax = plt.subplots(1, 1, figsize=(8,4))\n",
    "if len(speed.shape) > 1:\n",
    "    for i,generator in enumerate(generators):\n",
    "        ax.plot(time, speed[:,i], color=cmap(i), lw=1, label=generator.loc_name)\n",
    "else:\n",
    "    ax.plot(time, speed, color='k', lw=1, label=generator.loc_name)\n",
    "ax.legend(loc='upper right')\n",
    "for side in 'right','top':\n",
    "    ax.spines[side].set_visible(False)\n",
    "ax.set_xlabel('Time [s]')\n",
    "ax.set_ylabel('Speed [p.u.]')\n",
    "ax.grid(which='major', axis='both', lw=0.5, ls=':')\n",
    "fig.tight_layout()"
   ]
  },
  {
   "cell_type": "code",
   "execution_count": null,
   "id": "e3152bc7",
   "metadata": {},
   "outputs": [],
   "source": [
    "cmap = plt.get_cmap('Set2', len(buses))\n",
    "fig,ax = plt.subplots(2, 1, figsize=(8,5), sharex=True)\n",
    "for i,load in enumerate(loads):\n",
    "    ax[0].plot(time, P[:,i], color=cmap(i), lw=1, label=load.loc_name)\n",
    "    ax[1].plot(time, Q[:,i], color=cmap(i), lw=1, label=load.loc_name)\n",
    "# ax[0].legend(loc='upper left')\n",
    "for a in ax:\n",
    "    a.grid(which='major', axis='both', lw=0.5, ls=':')\n",
    "    for side in 'right','top':\n",
    "        a.spines[side].set_visible(False)\n",
    "ax[1].set_xlabel('Time [s]')\n",
    "ax[0].set_ylabel('P [MW]')\n",
    "ax[1].set_ylabel('Q [MVAR]')\n",
    "fig.tight_layout()"
   ]
  },
  {
   "cell_type": "code",
   "execution_count": null,
   "id": "429b7442",
   "metadata": {},
   "outputs": [],
   "source": [
    "cmap = plt.get_cmap('Set2', len(buses))\n",
    "fig,ax = plt.subplots(3, 1, figsize=(8,7), sharex=True)\n",
    "for i,load in enumerate(buses):\n",
    "    ax[0].plot(time, V[:,i], color=cmap(i), lw=1, label=load.loc_name)\n",
    "    ax[1].plot(time, Vr[:,i], color=cmap(i), lw=1, label=load.loc_name)\n",
    "    ax[2].plot(time, Vi[:,i], color=cmap(i), lw=1, label=load.loc_name)\n",
    "# ax[0].legend(loc='upper left')\n",
    "for a in ax:\n",
    "    a.grid(which='major', axis='both', lw=0.5, ls=':')\n",
    "    for side in 'right','top':\n",
    "        a.spines[side].set_visible(False)\n",
    "ax[-1].set_xlabel('Time [s]')\n",
    "ax[0].set_ylabel('V [p.u.]')\n",
    "ax[1].set_ylabel('Vr [p.u.]')\n",
    "ax[2].set_ylabel('Vi [p.u.]')\n",
    "fig.tight_layout()"
   ]
  }
 ],
 "metadata": {
  "kernelspec": {
   "display_name": "Python 3",
   "language": "python",
   "name": "python3"
  },
  "language_info": {
   "codemirror_mode": {
    "name": "ipython",
    "version": 3
   },
   "file_extension": ".py",
   "mimetype": "text/x-python",
   "name": "python",
   "nbconvert_exporter": "python",
   "pygments_lexer": "ipython3",
   "version": "3.8.8"
  }
 },
 "nbformat": 4,
 "nbformat_minor": 5
}
