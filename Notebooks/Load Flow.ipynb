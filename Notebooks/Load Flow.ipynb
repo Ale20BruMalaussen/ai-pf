{
 "cells": [
  {
   "cell_type": "code",
   "execution_count": null,
   "id": "ce0c94db",
   "metadata": {},
   "outputs": [],
   "source": [
    "import os\n",
    "import sys\n",
    "import numpy as np\n",
    "import matplotlib.pyplot as plt\n",
    "\n",
    "powerfactory_path = r'C:\\Program Files\\DIgSILENT\\PowerFactory 2020 SP4\\Python\\3.8'\n",
    "if powerfactory_path not in sys.path:\n",
    "    sys.path.append(powerfactory_path)\n",
    "import powerfactory as %pfile"
   ]
  },
  {
   "cell_type": "code",
   "execution_count": null,
   "id": "39745e12",
   "metadata": {},
   "outputs": [],
   "source": [
    "def print_load_flow_results():\n",
    "    generators = app.GetCalcRelevantObjects('*.ElmSym')\n",
    "    lines = app.GetCalcRelevantObjects('*.ElmLne')\n",
    "    buses = app.GetCalcRelevantObjects('*.ElmTerm')\n",
    "    loads = app.GetCalcRelevantObjects('*.ElmLod')\n",
    "    \n",
    "    print('Generators:')   \n",
    "    for i,gen in enumerate(generators):\n",
    "        P = gen.GetAttribute('c:p')\n",
    "        Q = gen.GetAttribute('c:q')\n",
    "        loading = gen.GetAttribute('c:loading')\n",
    "        print(f'[{i+1:02d}] {gen.loc_name}: P = {P:.2f} MW, Q = {Q:.2f} MVAR, loading = {loading:.1f}%.')\n",
    "        \n",
    "    print('Lines:')\n",
    "    for i,line in enumerate(lines):\n",
    "        loading = line.GetAttribute('c:loading')\n",
    "        maxload = line.GetAttribute('c:maxload')\n",
    "        print(f'[{i+1:02d}] {line.loc_name}: loading = {loading:.1f}/{maxload:.1f}%.')\n",
    "        \n",
    "    print('Buses:')\n",
    "    for i,bus in enumerate(buses):\n",
    "        voltage = bus.GetAttribute('m:u')\n",
    "        phase = bus.GetAttribute('m:phiu')\n",
    "        print(f'[{i+1:02d}] voltage @ {bus.loc_name}: {voltage:.2f} pu ({phase:.2f} deg).')\n",
    "        \n",
    "    print('Loads:')\n",
    "    for i,load in enumerate(loads):\n",
    "        P = load.GetAttribute('m:Psum:bus1')\n",
    "        Q = load.GetAttribute('m:Qsum:bus1')\n",
    "        print(f'[{i+1:02d}] {load.loc_name}: P = {P:.2f} MW, Q = {Q:.2f} MVAR.')"
   ]
  },
  {
   "cell_type": "code",
   "execution_count": null,
   "id": "55fce10f",
   "metadata": {},
   "outputs": [],
   "source": [
    "app = pf.GetApplication()\n",
    "if app is None:\n",
    "    raise Exception('Cannot get PowerFactory application')\n",
    "else:\n",
    "    print('Successfully obtained PowerFactory application.')"
   ]
  },
  {
   "cell_type": "code",
   "execution_count": null,
   "id": "de4c0c74",
   "metadata": {},
   "outputs": [],
   "source": [
    "project_name = 'PythonTutorial_Introduction'\n",
    "err = app.ActivateProject(project_name)\n",
    "if err:\n",
    "    raise Exception(f'Cannot activate project {project_name}')\n",
    "print(f'Successfully activated project {project_name}.')"
   ]
  },
  {
   "cell_type": "code",
   "execution_count": null,
   "id": "7cf51c68",
   "metadata": {},
   "outputs": [],
   "source": [
    "project = app.GetActiveProject()\n",
    "if project is None:\n",
    "    raise Exception('Cannot get active project')\n",
    "print('Successfully obtained active project.')"
   ]
  },
  {
   "cell_type": "code",
   "execution_count": null,
   "id": "c648b966",
   "metadata": {},
   "outputs": [],
   "source": [
    "project_folders = {}\n",
    "for folder_name in ('study',):\n",
    "    project_folders[folder_name] = app.GetProjectFolder(folder_name)\n",
    "    if project_folders[folder_name] is None:\n",
    "        raise Exception(f'No folder \"{folder_name}\" present')\n",
    "    print(f'Successfully obtained folder \"{folder_name}\".')"
   ]
  },
  {
   "cell_type": "code",
   "execution_count": null,
   "id": "812acfd2",
   "metadata": {},
   "outputs": [],
   "source": [
    "study_case_name = 'LoadFlow'\n",
    "if '.IntCase' not in study_case_name:\n",
    "    study_case_name += '.IntCase'\n",
    "study_case = project_folders['study'].GetContents(study_case_name)[0]\n",
    "err = study_case.Activate() # don't know why this returns 1\n",
    "# if err:\n",
    "#     raise Exception(f'Cannot activate study case {study_case_name}')\n",
    "print(f'Successfully activated study case {study_case_name}.')"
   ]
  },
  {
   "cell_type": "code",
   "execution_count": null,
   "id": "29d8794b",
   "metadata": {},
   "outputs": [],
   "source": [
    "load_flow = app.GetFromStudyCase('ComLdf')"
   ]
  },
  {
   "cell_type": "code",
   "execution_count": null,
   "id": "c966fb34",
   "metadata": {},
   "outputs": [],
   "source": [
    "err = load_flow.Execute()\n",
    "if err:\n",
    "    raise Exception(f'Cannot run load flow')\n",
    "print_load_flow_results()"
   ]
  },
  {
   "cell_type": "code",
   "execution_count": null,
   "id": "a512b94f",
   "metadata": {},
   "outputs": [],
   "source": [
    "load = app.GetCalcRelevantObjects('General Load 1.ElmLod')[0]\n",
    "line_to_load = app.GetCalcRelevantObjects('Line to Load.ElmLne')[0]\n",
    "P = np.r_[10. : 101. : 5.]\n",
    "loading = np.zeros(P.size)\n",
    "for i,p in enumerate(P):\n",
    "    load.plini = p\n",
    "    err = load_flow.Execute()\n",
    "    if err:\n",
    "        raise Exception('Cannot run load flow for P = {p:.2f} MW.')\n",
    "    loading[i] = line_to_load.GetAttribute('c:loading')"
   ]
  },
  {
   "cell_type": "code",
   "execution_count": null,
   "id": "2c22ab34",
   "metadata": {},
   "outputs": [],
   "source": [
    "fig,ax = plt.subplots(1, 1)\n",
    "ax.plot(P, loading, 'ko-', lw=1, markerfacecolor='w')\n",
    "ax.set_xlabel('P [MW]')\n",
    "ax.set_ylabel('Loading [%]')\n",
    "for side in 'right','top':\n",
    "    ax.spines[side].set_visible(False)\n",
    "ax.grid(which='major', axis='both', lw=0.5, ls=':')\n",
    "fig.tight_layout()"
   ]
  },
  {
   "cell_type": "code",
   "execution_count": null,
   "id": "713a7c22",
   "metadata": {},
   "outputs": [],
   "source": []
  }
 ],
 "metadata": {
  "kernelspec": {
   "display_name": "Python 3 (ipykernel)",
   "language": "python",
   "name": "python3"
  },
  "language_info": {
   "codemirror_mode": {
    "name": "ipython",
    "version": 3
   },
   "file_extension": ".py",
   "mimetype": "text/x-python",
   "name": "python",
   "nbconvert_exporter": "python",
   "pygments_lexer": "ipython3",
   "version": "3.8.8"
  }
 },
 "nbformat": 4,
 "nbformat_minor": 5
}
