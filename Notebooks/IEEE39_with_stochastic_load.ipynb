{
 "cells": [
  {
   "cell_type": "code",
   "execution_count": null,
   "id": "66edd5da",
   "metadata": {},
   "outputs": [],
   "source": [
    "import os\n",
    "import re\n",
    "import sys\n",
    "import numpy as np\n",
    "from numpy.random import RandomState, SeedSequence, MT19937\n",
    "import matplotlib.pyplot as plt\n",
    "\n",
    "powerfactory_path = r'C:\\Program Files\\DIgSILENT\\PowerFactory 2020 SP4\\Python\\3.8'\n",
    "if powerfactory_path not in sys.path:\n",
    "    sys.path.append(powerfactory_path)\n",
    "import powerfactory as pf\n",
    "\n",
    "try:\n",
    "    from pfcommon import *\n",
    "except:\n",
    "    sys.path.append('..')\n",
    "    from pfcommon import *\n",
    "\n",
    "cmap_name = 'viridis'\n",
    "verbose = True"
   ]
  },
  {
   "cell_type": "code",
   "execution_count": null,
   "id": "1b5714f5",
   "metadata": {},
   "outputs": [],
   "source": [
    "app = pf.GetApplication()\n",
    "if app is None:\n",
    "    raise Exception('Cannot get PowerFactory application')\n",
    "else:\n",
    "    print('Successfully obtained PowerFactory application.')"
   ]
  },
  {
   "cell_type": "code",
   "execution_count": null,
   "id": "e26c6cb3",
   "metadata": {},
   "outputs": [],
   "source": [
    "project_name = '\\\\Terna_Inerzia\\\\IEEE39 w/ Stoch. Load'\n",
    "err = app.ActivateProject(project_name)\n",
    "if err:\n",
    "    raise Exception(f'Cannot activate project {project_name}')\n",
    "print(f'Successfully activated project {project_name}.')"
   ]
  },
  {
   "cell_type": "code",
   "execution_count": null,
   "id": "9b1fb135",
   "metadata": {},
   "outputs": [],
   "source": [
    "project = app.GetActiveProject()\n",
    "if project is None:\n",
    "    raise Exception('Cannot get active project')\n",
    "print('Successfully obtained active project.')"
   ]
  },
  {
   "cell_type": "code",
   "execution_count": null,
   "id": "358fdad9",
   "metadata": {},
   "outputs": [],
   "source": [
    "project_folders = {}\n",
    "for folder_name in ('study',):\n",
    "    project_folders[folder_name] = app.GetProjectFolder(folder_name)\n",
    "    if project_folders[folder_name] is None:\n",
    "        raise Exception(f'No folder \"{folder_name}\" present')\n",
    "    print(f'Successfully obtained folder \"{folder_name}\".')"
   ]
  },
  {
   "cell_type": "code",
   "execution_count": null,
   "id": "f599ec09",
   "metadata": {},
   "outputs": [],
   "source": [
    "generators = app.GetCalcRelevantObjects('*.ElmSym')\n",
    "lines = app.GetCalcRelevantObjects('*.ElmLne')\n",
    "buses = app.GetCalcRelevantObjects('*.ElmTerm')\n",
    "loads = app.GetCalcRelevantObjects('*.ElmLod')\n",
    "n_generators, n_lines, n_buses, n_loads = len(generators), len(lines), len(buses), len(loads)\n",
    "print(f'There are {n_generators} generators.')\n",
    "print(f'There are {n_lines} lines.')\n",
    "print(f'There are {n_buses} buses.')\n",
    "print(f'There are {n_loads} loads.')"
   ]
  },
  {
   "cell_type": "code",
   "execution_count": null,
   "id": "9f04f888",
   "metadata": {},
   "outputs": [],
   "source": [
    "for line in lines:\n",
    "    vrating = line.typ_id.uline\n",
    "    print(f'{line.loc_name}: Vrating = {vrating:6.1f} kV.')"
   ]
  },
  {
   "cell_type": "code",
   "execution_count": null,
   "id": "7a151bd9",
   "metadata": {},
   "outputs": [],
   "source": [
    "for bus in buses:\n",
    "    vrating = bus.uknom\n",
    "    print(f'{bus.loc_name}: Vrating = {vrating:6.1f} kV.')"
   ]
  },
  {
   "cell_type": "code",
   "execution_count": null,
   "id": "2d3882fc",
   "metadata": {},
   "outputs": [],
   "source": [
    "P_load = {}\n",
    "Q_load = {}\n",
    "for load in loads:\n",
    "    name = load.loc_name\n",
    "    P_load[name] = load.plini\n",
    "    Q_load[name] = load.qlini\n",
    "    if verbose: print(f'{name}: P = {P_load[name]:7.2f} MW, Q = {Q_load[name]:6.2f} MVA')"
   ]
  },
  {
   "cell_type": "code",
   "execution_count": null,
   "id": "79b10a63",
   "metadata": {},
   "outputs": [],
   "source": [
    "P_gen = {}\n",
    "S_gen = {}\n",
    "H_gen = {}\n",
    "\n",
    "default_H = {\n",
    "    'G 01': 5.0,\n",
    "    'G 02': 4.33,\n",
    "    'G 03': 4.47,\n",
    "    'G 04': 3.57,\n",
    "    'G 05': 4.33,\n",
    "    'G 06': 4.35,\n",
    "    'G 07': 3.77,\n",
    "    'G 08': 3.47,\n",
    "    'G 09': 3.45,\n",
    "    'G 10': 4.20\n",
    "}\n",
    "coeff = 1\n",
    "H = {k: coeff*v for k,v in default_H.items()}\n",
    "output_file = f'IEEE39_H_{coeff:g}x.npz'\n",
    "for generator in generators:\n",
    "    #i = get_ID(generator)\n",
    "    name = generator.loc_name\n",
    "    generator_type = generator.typ_id\n",
    "    generator_type.h = H[name]\n",
    "    P_gen[name] = generator.pgini\n",
    "    S_gen[name] = generator_type.sgn\n",
    "    H_gen[name] = generator_type.h\n",
    "    print(f'{name}: P = {P_gen[name]:4.0f} MW, S = {S_gen[name]:5.0f} MVA, inertia = {H_gen[name]:5.2f} s.')"
   ]
  },
  {
   "cell_type": "code",
   "execution_count": null,
   "id": "4a3f9267",
   "metadata": {},
   "outputs": [],
   "source": [
    "areas_map = {\n",
    "    1: ['G 02', 'G 03', 'G 10'],\n",
    "    2: ['G 04', 'G 05', 'G 06', 'G 07'],\n",
    "    3: ['G 08', 'G 09'],\n",
    "    4: ['G 01']\n",
    "}\n",
    "H_area = {}   # inertia\n",
    "E_area = {}   # energy\n",
    "M_area = {}   # momentum\n",
    "for area_id,generator_names in areas_map.items():\n",
    "    num, den = 0,0\n",
    "    for generator_name in generator_names:\n",
    "        num += S_gen[generator_name] * H_gen[generator_name]\n",
    "        den += S_gen[generator_name]\n",
    "    H_area[area_id] = num / den \n",
    "    E_area[area_id] = num * 1e-3\n",
    "    M_area[area_id] = 2 * num * 1e-3 / 60\n",
    "print('Area inertias:  [{}] s.'.format(', '.join(list(map(lambda s: f'{s:5.2f}', H_area.values())))))\n",
    "print('Area energies:  [{}] GW s.'.format(', '.join(list(map(lambda s: f'{s:5.2f}', E_area.values())))))\n",
    "print('Area momentums: [{}] GW s^2.'.format(', '.join(list(map(lambda s: f'{s:5.2f}', M_area.values())))))"
   ]
  },
  {
   "cell_type": "markdown",
   "id": "869a25e9",
   "metadata": {},
   "source": [
    "## Transient stability analysis"
   ]
  },
  {
   "cell_type": "code",
   "execution_count": null,
   "id": "b72bf7ed",
   "metadata": {},
   "outputs": [],
   "source": [
    "study_case_name = '5. Transient Stability'\n",
    "if '.IntCase' not in study_case_name and False:\n",
    "    study_case_name += '.IntCase'\n",
    "study_case = project_folders['study'].GetContents(study_case_name)[0]\n",
    "err = study_case.Activate() # don't know why this returns 1\n",
    "# if err:\n",
    "#     raise Exception(f'Cannot activate study case {study_case_name}')\n",
    "print(f'Successfully activated study case {study_case_name}.')"
   ]
  },
  {
   "cell_type": "markdown",
   "id": "99fd625c",
   "metadata": {},
   "source": [
    "Objects that will be used in the following:"
   ]
  },
  {
   "cell_type": "code",
   "execution_count": null,
   "id": "58828abd",
   "metadata": {},
   "outputs": [],
   "source": [
    "generators = app.GetCalcRelevantObjects('*.ElmSym')\n",
    "loads = app.GetCalcRelevantObjects('*.ElmLod')\n",
    "buses = app.GetCalcRelevantObjects('*.ElmTerm')"
   ]
  },
  {
   "cell_type": "markdown",
   "id": "2b8c1e92",
   "metadata": {},
   "source": [
    "Find the load that should be stochastic:"
   ]
  },
  {
   "cell_type": "code",
   "execution_count": null,
   "id": "566bfdbf",
   "metadata": {},
   "outputs": [],
   "source": [
    "stochastic_load_name = 'Load 03'\n",
    "found = False\n",
    "for load in loads:\n",
    "    if load.loc_name == stochastic_load_name:\n",
    "        stochastic_load = load\n",
    "        found = True\n",
    "        print(f'Found load named {stochastic_load_name}.')\n",
    "        break\n",
    "if not found:\n",
    "    raise Exception(f'Cannot find load named {stochastic_load_name}')\n",
    "\n",
    "composite_model_name = 'Stochastic Load'\n",
    "found = False\n",
    "for composite_model in app.GetCalcRelevantObjects('*.ElmComp'):\n",
    "    if composite_model.loc_name == composite_model_name:\n",
    "        stochastic_load_model = composite_model\n",
    "        found = True\n",
    "        print(f'Found composite model named {composite_model_name}.')\n",
    "        break\n",
    "if not found:\n",
    "    raise Exception(f'Cannot find composite model named {composite_model_name}')\n",
    "\n",
    "for slot,net_element in zip(stochastic_load_model.pblk, stochastic_load_model.pelm):\n",
    "    if slot.loc_name == 'load slot':\n",
    "        net_element = stochastic_load\n",
    "        print(f'Set {stochastic_load_name} as stochastic load.')"
   ]
  },
  {
   "cell_type": "markdown",
   "id": "4f753844",
   "metadata": {},
   "source": [
    "Find the path of the file containing the dynamics of the stochastic load"
   ]
  },
  {
   "cell_type": "code",
   "execution_count": null,
   "id": "8e3bcf2e",
   "metadata": {},
   "outputs": [],
   "source": [
    "measurement_file_obj = app.GetCalcRelevantObjects('*.ElmFile')[0]\n",
    "stochastic_load_filename = measurement_file_obj.f_name\n",
    "print(f'The stochastic load file is {stochastic_load_filename}.')"
   ]
  },
  {
   "cell_type": "markdown",
   "id": "50fd8338",
   "metadata": {},
   "source": [
    "Write the file with the stochastic load"
   ]
  },
  {
   "cell_type": "code",
   "execution_count": null,
   "id": "cdb75339",
   "metadata": {},
   "outputs": [],
   "source": [
    "frand = 100     # [Hz]\n",
    "dt = 1 / frand  # [s]\n",
    "tend = 10 * 60  # [s]\n",
    "N = int(tend / dt) + 1\n",
    "seed = 100\n",
    "stddev = 20     # [MW]\n",
    "tau = 2         # [s]\n",
    "P0 = stochastic_load.plini\n",
    "Q0 = stochastic_load.qlini\n",
    "rs = RandomState(MT19937(SeedSequence(seed)))\n",
    "ou = OU(dt, P0, stddev, tau, N, rs)\n",
    "tPQ = np.zeros((N,3))\n",
    "tPQ[:,0] = np.linspace(0, tend, N)\n",
    "tPQ[:,1] = ou\n",
    "tPQ[:,2] = Q0\n",
    "with open(stochastic_load_filename, 'w') as fid:\n",
    "    fid.write('2\\n\\n')\n",
    "    for row in tPQ:\n",
    "        fid.write(f'{row[0]:.6f}\\t{row[1]:.2f}\\t{row[2]:.2f}\\n\\n')"
   ]
  },
  {
   "cell_type": "code",
   "execution_count": null,
   "id": "5f05f09d",
   "metadata": {},
   "outputs": [],
   "source": [
    "fig,ax = plt.subplots(2, 1, sharex=True, figsize=(8,4))\n",
    "ax[0].plot(tPQ[:,0], tPQ[:,1], color=[.6,.6,.6], lw=1)\n",
    "ax[0].plot([0, tend], P0 + np.zeros(2), 'b--', lw=2)\n",
    "ax[1].plot(tPQ[:,0], tPQ[:,2], 'r', lw=1)\n",
    "for a in ax:\n",
    "    a.grid(which='major', axis='both', lw=0.5, ls=':')\n",
    "    for side in 'right','top':\n",
    "        a.spines[side].set_visible(False)\n",
    "ax[1].set_xlabel('Time [s]')\n",
    "ax[0].set_ylabel('P [MW]')\n",
    "ax[1].set_ylabel('Q [MVAR]')\n",
    "ax[0].set_xlim([0,tend])\n",
    "fig.tight_layout()"
   ]
  },
  {
   "cell_type": "code",
   "execution_count": null,
   "id": "b992de25",
   "metadata": {},
   "outputs": [],
   "source": [
    "monitored_variables = {\n",
    "    '*.ElmSym':  ['s:xspeed', 'c:fi'],\n",
    "    '*.ElmLod':  ['m:Psum:bus1', 'm:Qsum:bus1'],\n",
    "    '*.ElmTerm': ['m:u', 'm:ur', 'm:ui', 'm:u1', 'm:u1r', 'm:u1i', 'm:fe'],\n",
    "    '*.ElmLne':  ['m:P:bus1', 'm:Q:bus1', 'm:Psum:bus1', 'm:Qsum:bus1', 'm:Psum:bus2', 'm:Qsum:bus2']\n",
    "}\n",
    "# the results of the transient simulation will be stored in this variable\n",
    "res = app.GetFromStudyCase('*.ElmRes')\n",
    "for elements,var_names in monitored_variables.items():\n",
    "    for element in app.GetCalcRelevantObjects(elements):\n",
    "        for var_name in var_names:\n",
    "            res.AddVariable(element, var_name)"
   ]
  },
  {
   "cell_type": "code",
   "execution_count": null,
   "id": "ce3ffc27",
   "metadata": {},
   "outputs": [],
   "source": [
    "inc = app.GetFromStudyCase('ComInc')\n",
    "inc.iopt_sim = 'rms'\n",
    "inc.iopt_coiref = 2\n",
    "inc.tstart = 0\n",
    "inc.dtgrd = dt * 1e3\n",
    "err = inc.Execute()\n",
    "if err:\n",
    "    raise Exception('Cannot compute initial condition')\n",
    "print('Successfully computed initial condition.')"
   ]
  },
  {
   "cell_type": "code",
   "execution_count": null,
   "id": "6d337a05",
   "metadata": {},
   "outputs": [],
   "source": [
    "%%timeit -n 1 -r 1\n",
    "sim = app.GetFromStudyCase('ComSim')\n",
    "sim.tstop = tend\n",
    "err = sim.Execute()\n",
    "if err:\n",
    "    raise Exception('Cannot run transient simulation')\n",
    "print('Successfully run transient simulation.')\n",
    "res.Load()"
   ]
  },
  {
   "cell_type": "markdown",
   "id": "3b56285d",
   "metadata": {},
   "source": [
    "### Get the data"
   ]
  },
  {
   "cell_type": "code",
   "execution_count": null,
   "id": "1b8a10dc",
   "metadata": {},
   "outputs": [],
   "source": [
    "# we find the buses and the lines in this way (and not with a list comprehension) so they have\n",
    "# the same order in data_buses and data_lines as in bus_IDs and line_IDs\n",
    "\n",
    "bus_IDs = (3, 14, 17, 39)\n",
    "data_buses = []\n",
    "for bus_ID in bus_IDs:\n",
    "    for bus in buses:\n",
    "        if get_ID(bus) == bus_ID:\n",
    "            data_buses.append(bus)\n",
    "            break\n",
    "\n",
    "line_IDs = ((3,4), (14,15), (16,17), (1,39))\n",
    "data_lines = []\n",
    "for line_ID in line_IDs:\n",
    "    for line in lines:\n",
    "        if get_line_bus_IDs(line) == line_ID:\n",
    "            data_lines.append(line)\n",
    "            break\n",
    "\n",
    "sampling_rate = 10. # [Hz]\n",
    "dtsim = get_simulation_dt(res)\n",
    "dec = int((1 / sampling_rate) // dtsim)\n",
    "print(f'Decimation: {dec}')\n",
    "\n",
    "sys.stdout.write('Reading time... ')\n",
    "sys.stdout.flush()\n",
    "time = get_simulation_time(res, decimation=dec)\n",
    "sys.stdout.write('done.\\n')\n",
    "\n",
    "sys.stdout.write('Reading generators omega... ')\n",
    "sys.stdout.flush()\n",
    "omega = get_simulation_variables(res, 's:xspeed', elements=generators, decimation=dec)\n",
    "omega_norm = normalize(omega)\n",
    "sys.stdout.write('done.\\n')\n",
    "\n",
    "sys.stdout.write('Reading generators delta... ')\n",
    "sys.stdout.flush()\n",
    "delta = get_simulation_variables(res, 'c:fi', elements=generators, decimation=dec)\n",
    "sys.stdout.write('done.\\n')\n",
    "\n",
    "sys.stdout.write('Reading electrical frequencies... ')\n",
    "sys.stdout.flush()\n",
    "F = get_simulation_variables(res, 'm:fe', elements=data_buses, decimation=dec)\n",
    "F_norm = normalize(F)\n",
    "sys.stdout.write('done.\\n')\n",
    "\n",
    "sys.stdout.write('Reading V... ')\n",
    "sys.stdout.flush()\n",
    "V = get_simulation_variables(res, 'm:u', elements=data_buses, decimation=dec)\n",
    "V_norm = normalize(V)\n",
    "sys.stdout.write('done.\\n')\n",
    "\n",
    "sys.stdout.write('Reading Vd... ')\n",
    "sys.stdout.flush()\n",
    "Vd_uncorr = get_simulation_variables(res, 'm:ur', elements=data_buses, decimation=dec)\n",
    "sys.stdout.write('done.\\n')\n",
    "\n",
    "sys.stdout.write('Reading Vq... ')\n",
    "sys.stdout.flush()\n",
    "Vq_uncorr = get_simulation_variables(res, 'm:ui', elements=data_buses, decimation=dec)\n",
    "sys.stdout.write('done.\\n')\n",
    "\n",
    "sys.stdout.write('Reading Pe... ')\n",
    "sys.stdout.flush()\n",
    "Pe = get_simulation_variables(res, 'm:P:bus1', elements=data_lines, decimation=dec)\n",
    "Pe_norm = normalize(Pe)\n",
    "sys.stdout.write('done.\\n')\n",
    "\n",
    "sys.stdout.write('Reading Pq... ')\n",
    "sys.stdout.flush()\n",
    "Qe = get_simulation_variables(res, 'm:Q:bus1', elements=data_lines, decimation=dec)\n",
    "Qe_norm = normalize(Qe)\n",
    "sys.stdout.write('done.\\n')\n",
    "\n",
    "res.Release()"
   ]
  },
  {
   "cell_type": "markdown",
   "id": "9e4e2b8a",
   "metadata": {},
   "source": [
    "### Compute the corrected values of Vd and Vq"
   ]
  },
  {
   "cell_type": "code",
   "execution_count": null,
   "id": "234473df",
   "metadata": {},
   "outputs": [],
   "source": [
    "Vd, Vq = correct_Vd_Vq(Vd_uncorr, Vq_uncorr, delta[:,0])\n",
    "Vd_norm = normalize(Vd)\n",
    "Vq_norm = normalize(Vq)"
   ]
  },
  {
   "cell_type": "markdown",
   "id": "8d706be8",
   "metadata": {},
   "source": [
    "### Save the data"
   ]
  },
  {
   "cell_type": "code",
   "execution_count": null,
   "id": "b6a9e44e",
   "metadata": {},
   "outputs": [],
   "source": [
    "data = {\n",
    "    'H_gen': H_gen, 'H_area': H_area, 'E_area': E_area, 'M_area': M_area,\n",
    "    'time': time, 'F': F, 'F_norm': F_norm, 'V': V, 'V_norm': V_norm,\n",
    "    'Vd': Vd, 'Vd_norm': Vd_norm, 'Vq': Vq, 'Vq_norm': Vq_norm,\n",
    "    'Pe': Pe, 'Pe_norm': Pe_norm, 'Qe': Qe, 'Qe_norm': Qe_norm,\n",
    "    'omega': omega, 'omega_norm': omega_norm, 'Vd_uncorr': Vd_uncorr,\n",
    "    'Vq_uncorr': Vq_uncorr, 'delta': delta, 'tPQ': tPQ\n",
    "}\n",
    "np.savez_compressed(output_file, **data)"
   ]
  },
  {
   "cell_type": "markdown",
   "id": "09fbc608",
   "metadata": {},
   "source": [
    "### Plot the (normalized) frequency at the buses of interest"
   ]
  },
  {
   "cell_type": "code",
   "execution_count": null,
   "id": "ce75907e",
   "metadata": {},
   "outputs": [],
   "source": [
    "cmap = plt.get_cmap(cmap_name, len(bus_IDs))\n",
    "fig,ax = plt.subplots(1, 1, figsize=(8,3))\n",
    "for i,bus in enumerate(data_buses):\n",
    "    ax.plot(time, F_norm[:,i], color=cmap(i), lw=1, label=bus.loc_name)\n",
    "ax.legend(loc='upper right')\n",
    "ax.set_ylim([-4,4])\n",
    "for side in 'right','top':\n",
    "    ax.spines[side].set_visible(False)\n",
    "ax.set_xlabel('Time [s]')\n",
    "ax.set_ylabel('Norm. frequency')\n",
    "ax.grid(which='major', axis='both', lw=0.5, ls=':')\n",
    "fig.tight_layout()"
   ]
  },
  {
   "cell_type": "markdown",
   "id": "a1e2cd22",
   "metadata": {},
   "source": [
    "### Plot the uncorrected voltages at the buses of interest"
   ]
  },
  {
   "cell_type": "code",
   "execution_count": null,
   "id": "fc673387",
   "metadata": {},
   "outputs": [],
   "source": [
    "cmap = plt.get_cmap(cmap_name, len(bus_IDs))\n",
    "fig,ax = plt.subplots(2, 1, figsize=(8,5))\n",
    "for i,bus in enumerate(data_buses):\n",
    "    ax[0].plot(time, Vd_uncorr[:,i], color=cmap(i), lw=1, label=bus.loc_name)\n",
    "    ax[1].plot(time, Vq_uncorr[:,i], color=cmap(i), lw=1)\n",
    "ax[0].legend(loc='upper right')\n",
    "for a in ax:\n",
    "    a.set_ylim([-1.2, 1.2])\n",
    "    a.grid(which='major', axis='both', lw=0.5, ls=':')\n",
    "    for side in 'right','top':\n",
    "        a.spines[side].set_visible(False)\n",
    "ax[-1].set_xlabel('Time [s]')\n",
    "ax[0].set_ylabel('Uncorrected Vd')\n",
    "ax[1].set_ylabel('Uncorrected Vq')\n",
    "fig.tight_layout()"
   ]
  },
  {
   "cell_type": "markdown",
   "id": "8462d12d",
   "metadata": {},
   "source": [
    "### Plot the (normalized) corrected voltages at the buses of interest"
   ]
  },
  {
   "cell_type": "code",
   "execution_count": null,
   "id": "cd38239e",
   "metadata": {},
   "outputs": [],
   "source": [
    "cmap = plt.get_cmap(cmap_name, len(bus_IDs))\n",
    "fig,ax = plt.subplots(2, 1, figsize=(8,5))\n",
    "for i,bus in enumerate(data_buses):\n",
    "    ax[0].plot(time, Vd_norm[:,i], color=cmap(i), lw=1, label=bus.loc_name)\n",
    "    ax[1].plot(time, Vq_norm[:,i], color=cmap(i), lw=1)\n",
    "ax[0].legend(loc='upper right')\n",
    "for a in ax:\n",
    "    a.set_ylim([-4,4])\n",
    "    a.grid(which='major', axis='both', lw=0.5, ls=':')\n",
    "    for side in 'right','top':\n",
    "        a.spines[side].set_visible(False)\n",
    "ax[-1].set_xlabel('Time [s]')\n",
    "ax[0].set_ylabel('Norm. Vd')\n",
    "ax[1].set_ylabel('Norm. Vq')\n",
    "fig.tight_layout()"
   ]
  },
  {
   "cell_type": "markdown",
   "id": "811de268",
   "metadata": {},
   "source": [
    "### Plot the active and reactive powers at the buses of interest"
   ]
  },
  {
   "cell_type": "code",
   "execution_count": null,
   "id": "a96d60c0",
   "metadata": {},
   "outputs": [],
   "source": [
    "cmap = plt.get_cmap(cmap_name, len(line_IDs))\n",
    "fig,ax = plt.subplots(2, 1, figsize=(8,5))\n",
    "for i,bus in enumerate(data_buses):\n",
    "    ax[0].plot(time, Pe[:,i], color=cmap(i), lw=1, label=bus.loc_name)\n",
    "    ax[1].plot(time, Qe[:,i], color=cmap(i), lw=1)\n",
    "ax[0].legend(loc='upper right')\n",
    "for a in ax:\n",
    "    a.grid(which='major', axis='both', lw=0.5, ls=':')\n",
    "    for side in 'right','top':\n",
    "        a.spines[side].set_visible(False)\n",
    "ax[-1].set_xlabel('Time [s]')\n",
    "ax[0].set_ylabel('Norm. Pe')\n",
    "ax[1].set_ylabel('Norm. Qe')\n",
    "fig.tight_layout()"
   ]
  },
  {
   "cell_type": "markdown",
   "id": "de38798d",
   "metadata": {},
   "source": [
    "### Plot the (normalized) active and reactive powers at the buses of interest"
   ]
  },
  {
   "cell_type": "code",
   "execution_count": null,
   "id": "8a38ffd9",
   "metadata": {},
   "outputs": [],
   "source": [
    "cmap = plt.get_cmap(cmap_name, len(line_IDs))\n",
    "fig,ax = plt.subplots(2, 1, figsize=(8,5))\n",
    "for i,bus in enumerate(data_buses):\n",
    "    ax[0].plot(time, Pe_norm[:,i], color=cmap(i), lw=1, label=bus.loc_name)\n",
    "    ax[1].plot(time, Qe_norm[:,i], color=cmap(i), lw=1)\n",
    "ax[0].legend(loc='upper right')\n",
    "for a in ax:\n",
    "    a.set_ylim([-4,4])\n",
    "    a.grid(which='major', axis='both', lw=0.5, ls=':')\n",
    "    for side in 'right','top':\n",
    "        a.spines[side].set_visible(False)\n",
    "ax[-1].set_xlabel('Time [s]')\n",
    "ax[0].set_ylabel('Norm. Pe')\n",
    "ax[1].set_ylabel('Norm. Qe')\n",
    "fig.tight_layout()"
   ]
  }
 ],
 "metadata": {
  "kernelspec": {
   "display_name": "Python 3 (ipykernel)",
   "language": "python",
   "name": "python3"
  },
  "language_info": {
   "codemirror_mode": {
    "name": "ipython",
    "version": 3
   },
   "file_extension": ".py",
   "mimetype": "text/x-python",
   "name": "python",
   "nbconvert_exporter": "python",
   "pygments_lexer": "ipython3",
   "version": "3.8.8"
  }
 },
 "nbformat": 4,
 "nbformat_minor": 5
}
