{
 "cells": [
  {
   "cell_type": "code",
   "execution_count": null,
   "id": "a990093d",
   "metadata": {},
   "outputs": [],
   "source": [
    "import numpy as np\n",
    "import pickle\n",
    "import re\n",
    "import os\n",
    "import sys\n",
    "if '..' not in sys.path:\n",
    "    sys.path.append('..')\n",
    "from pfcommon import parse_Amat_file"
   ]
  },
  {
   "cell_type": "code",
   "execution_count": null,
   "id": "6800378c",
   "metadata": {},
   "outputs": [],
   "source": [
    "folder = 'default_const_P_loads'\n",
    "# folder = 'G02_double_H_const_P_loads'\n",
    "data_folder = os.path.join('..','..','modal_analysis','IEEE39',folder)\n",
    "vars_file = os.path.join(data_folder, 'VariableToIdx_Jacobian.txt')\n",
    "var_idx = {}\n",
    "state_vars, voltages, currents, signals = {}, {}, {}, {}\n",
    "with open(vars_file, 'r') as fid:\n",
    "    for line in fid:\n",
    "        line = line.strip()\n",
    "        if len(line) == 0:\n",
    "            continue\n",
    "        elif ';' in line:\n",
    "            tokens = [token.lstrip() for token in line.split(';')]\n",
    "            var_type = tokens[2].lower()\n",
    "        else:\n",
    "            idx = int(re.findall('\\d+', line)[0]) - 1\n",
    "            var_name = re.findall('\"[a-zA-Z0-9:]*\"', line)[0][1:-1]\n",
    "            obj_name = re.findall('[ ]+.*[ ]+', line)[0].strip().split(os.path.sep)[-1].split('.')[0].replace(' ', '_')\n",
    "            if obj_name not in var_idx:\n",
    "                var_idx[obj_name] = {}\n",
    "                state_vars[obj_name] = []\n",
    "                voltages[obj_name] = []\n",
    "                currents[obj_name] = []\n",
    "                signals[obj_name] = []\n",
    "            var_idx[obj_name][var_name] = idx\n",
    "            if 'state' in var_type:\n",
    "                state_vars[obj_name].append(var_name)\n",
    "            elif 'voltage' in var_type:\n",
    "                voltages[obj_name].append(var_name)\n",
    "            elif 'current' in var_type:\n",
    "                currents[obj_name].append(var_name)\n",
    "            elif 'signal' in var_type:\n",
    "                signals[obj_name].append(var_name)"
   ]
  },
  {
   "cell_type": "code",
   "execution_count": null,
   "id": "2582828c",
   "metadata": {},
   "outputs": [],
   "source": [
    "J = parse_Amat_file(os.path.join(data_folder, 'Jacobian.mtl'))\n",
    "A = parse_Amat_file(os.path.join(data_folder, 'Amat.mtl'))\n",
    "N_state_vars = np.sum([len(v) for v in state_vars.values()])\n",
    "N_algebraic_vars = J.shape[0] - N_state_vars\n",
    "print(f'# of state variables: {N_state_vars}.')\n",
    "print(f'# of algebraic variables: {N_algebraic_vars}.')"
   ]
  },
  {
   "cell_type": "code",
   "execution_count": null,
   "id": "f2033f1b",
   "metadata": {},
   "outputs": [],
   "source": [
    "Jfx = J[:N_state_vars, :N_state_vars]\n",
    "Jfy = J[:N_state_vars, N_state_vars:]\n",
    "Jgx = J[N_state_vars:, :N_state_vars]\n",
    "Jgy = J[N_state_vars:, N_state_vars:]\n",
    "tmp = Jfx - Jfy @ np.linalg.inv(Jgy) @ Jgx\n",
    "assert np.all(np.abs(A-tmp) < 1e-8)"
   ]
  },
  {
   "cell_type": "code",
   "execution_count": null,
   "id": "aabfa47f",
   "metadata": {},
   "outputs": [],
   "source": [
    "col_idx = [var_idx['Bus_03']['ur'], var_idx['Bus_03']['ui']]\n",
    "if 'Load_03' in var_idx:\n",
    "    col_idx.append(var_idx['Load_03']['ir:bus1'])\n",
    "    col_idx.append(var_idx['Load_03']['ii:bus1'])\n",
    "print(col_idx)\n",
    "col_idx = np.array(col_idx)"
   ]
  },
  {
   "cell_type": "code",
   "execution_count": null,
   "id": "1bf0020a",
   "metadata": {
    "scrolled": false
   },
   "outputs": [],
   "source": [
    "for i,row in enumerate(J[:,col_idx]):\n",
    "    if np.any(row != 0):\n",
    "        sys.stdout.write('{:3d} [ '.format(i))\n",
    "        for val in row:\n",
    "            sys.stdout.write('{:8.1f} '.format(val))\n",
    "        print(']')"
   ]
  }
 ],
 "metadata": {
  "kernelspec": {
   "display_name": "Python 3 (ipykernel)",
   "language": "python",
   "name": "python3"
  },
  "language_info": {
   "codemirror_mode": {
    "name": "ipython",
    "version": 3
   },
   "file_extension": ".py",
   "mimetype": "text/x-python",
   "name": "python",
   "nbconvert_exporter": "python",
   "pygments_lexer": "ipython3",
   "version": "3.10.9"
  }
 },
 "nbformat": 4,
 "nbformat_minor": 5
}
