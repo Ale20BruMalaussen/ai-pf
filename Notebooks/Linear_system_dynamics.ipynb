{
 "cells": [
  {
   "cell_type": "code",
   "execution_count": null,
   "id": "7cd21e83",
   "metadata": {},
   "outputs": [],
   "source": [
    "import os\n",
    "import re\n",
    "import sys\n",
    "import numpy as np\n",
    "from scipy.io import savemat\n",
    "import matplotlib.pyplot as plt\n",
    "import matplotlib\n",
    "import seaborn as sns\n",
    "\n",
    "if not '..' in sys.path:\n",
    "    sys.path.append('..')\n",
    "from pfcommon import parse_Amat_file, parse_vars_file\n",
    "\n",
    "matplotlib.rc('font', **{'family': 'sans-serif', 'sans-serif': 'Arial', 'size': 9})\n",
    "matplotlib.rc('axes', **{'linewidth': 0.75})\n",
    "\n",
    "%matplotlib inline"
   ]
  },
  {
   "cell_type": "code",
   "execution_count": null,
   "id": "5532f487",
   "metadata": {},
   "outputs": [],
   "source": [
    "base_folder = 'C:\\\\Users\\\\Terna_Inerzia\\\\Desktop\\\\modal_analysis\\\\IEEE39'\n",
    "sys_name = 'IEEE39'\n",
    "conditions = 'default', 'G02_double_H'\n",
    "fmin, fmax, steps_per_decade = -6, 2, 1000\n",
    "F, TF, gen_names = {}, {}, {}\n",
    "Htot, Etot, Mtot = {}, {}, {}\n",
    "H, S = {}, {}\n",
    "P, Q = {}, {}\n",
    "A, cols, var_names, model_names = {}, {}, {}, {}\n",
    "mag, phase = {}, {}\n",
    "B = {}\n",
    "for cond in conditions:\n",
    "    data_file = os.path.join(base_folder, cond, 'TF_{}_{}_{}_{}.npz'.\n",
    "                             format(sys_name, fmin, fmax, steps_per_decade))\n",
    "    A_file = os.path.join(base_folder, cond, 'Amat.mtl')\n",
    "    vars_file = os.path.join(base_folder, cond, 'VariableToIdx_Amat.txt')\n",
    "    A[cond] = parse_Amat_file(A_file)\n",
    "    cols[cond],var_names[cond],model_names[cond] = parse_vars_file(vars_file)\n",
    "    data = np.load(data_file, allow_pickle=True)\n",
    "    F[cond] = data['F']\n",
    "    gen_names[cond] = data['gen_names']\n",
    "    Htot[cond] = data['inertia']\n",
    "    Etot[cond] = data['energy']\n",
    "    Mtot[cond] = data['momentum']\n",
    "    H_dict, S_dict = data['H'].item(), data['S'].item()\n",
    "    H[cond] = np.array([H_dict[sm] for sm in gen_names[cond]])\n",
    "    S[cond] = np.array([S_dict[sm] for sm in gen_names[cond]])\n",
    "    PF = data['PF_without_slack'].item()\n",
    "    n_SMs = len(gen_names[cond])\n",
    "    P[cond], Q[cond] = np.zeros(n_SMs), np.zeros(n_SMs)\n",
    "    for i,sm in enumerate(gen_names[cond]):\n",
    "        if sm in PF['SMs']:\n",
    "            key = sm\n",
    "        else:\n",
    "            key = sm + '____GEN_____'\n",
    "        P[cond][i] = PF['SMs'][key]['P']\n",
    "        Q[cond][i] = PF['SMs'][key]['Q']\n",
    "    B[cond] = H[conditions[0]] / H[cond]"
   ]
  },
  {
   "cell_type": "code",
   "execution_count": null,
   "id": "f27984e0",
   "metadata": {},
   "outputs": [],
   "source": [
    "Nf = int(fmax - fmin) * steps_per_decade + 1\n",
    "F = np.logspace(fmin, fmax, Nf)\n",
    "J = A[cond]\n",
    "Nv = J.shape[0]\n",
    "I = np.eye(Nv)\n",
    "M = np.zeros((Nf, Nv, Nv), dtype=complex)"
   ]
  },
  {
   "cell_type": "code",
   "execution_count": null,
   "id": "1f9293b6",
   "metadata": {},
   "outputs": [],
   "source": [
    "TF = {cond: np.zeros((Nf,Nv), dtype=complex) for cond in conditions}\n",
    "jdx, = np.where(B['G02_double_H'] != 1)\n",
    "for cond in conditions:\n",
    "    b = np.zeros(Nv)\n",
    "    omega_col_idx, = np.where([vname == 'speed' and 'ElmSym' in mname \\\n",
    "                               for vname, mname in zip(var_names[cond],model_names[cond])])\n",
    "#     b[omega_col_idx[jdx]] = B[cond][jdx]\n",
    "    b[omega_col_idx] = B[cond]\n",
    "    for i in range(Nf):\n",
    "        M[i,:,:] = np.linalg.inv(-J + 1j*2*np.pi*F[i]*I)\n",
    "        TF[cond][i,:] = M[i,:,:] @ b\n",
    "    TF[cond] = TF[cond][:,omega_col_idx]\n",
    "    mag[cond] = 20*np.log10(np.abs(TF[cond]))\n",
    "    phase[cond] = np.angle(TF[cond])"
   ]
  },
  {
   "cell_type": "code",
   "execution_count": null,
   "id": "2de8f501",
   "metadata": {},
   "outputs": [],
   "source": [
    "outfile = 'TF_{}_{}_{}_{}'.format(sys_name, fmin, fmax, steps_per_decade)\n",
    "mdict = {'conditions': conditions,\n",
    "         'H': np.array(list(Htot.values())),\n",
    "         'M': np.array(list(Mtot.values())),\n",
    "         'E': np.array(list(Etot.values()))}\n",
    "for cond in conditions:\n",
    "    mdict['F_'+cond] = F\n",
    "    mdict['TF_'+cond] = TF[cond]\n",
    "    mdict['mag_'+cond] = mag[cond]\n",
    "    mdict['phase_'+cond] = phase[cond]\n",
    "    mdict['gen_names_'+cond] = gen_names[cond]\n",
    "    mdict['H_'+cond] = H[cond]\n",
    "    mdict['S_'+cond] = S[cond]\n",
    "    mdict['P_'+cond] = P[cond]\n",
    "    mdict['Q_'+cond] = Q[cond]\n",
    "savemat(os.path.join(base_folder, outfile + '.mat'), mdict)"
   ]
  },
  {
   "cell_type": "code",
   "execution_count": null,
   "id": "d0bb73e7",
   "metadata": {},
   "outputs": [],
   "source": [
    "%matplotlib notebook\n",
    "fig,ax = plt.subplots(2, 1, figsize=(6,5), sharex=True)\n",
    "col = 'krgb'\n",
    "for i,cond in enumerate(conditions):\n",
    "    ax[0].plot(F, mag[cond][:,0], col[i], lw=1, label=cond.replace('_',' ') + \\\n",
    "               r': M={:.0f} MW$\\cdot \\mathrm{{s}}^2$'.format(Mtot[cond]))\n",
    "    ax[0].plot(F, mag[cond], col[i], lw=1)\n",
    "#     ax[1].plot(F, phase[cond], col[i], lw=1)\n",
    "    ϕ = phase[cond]\n",
    "    ϕ[ϕ>1] -= 2*np.pi\n",
    "    ax[1].plot(F, ϕ, col[i], lw=1)\n",
    "ax[0].legend(loc='lower left', frameon=False, fontsize=10)\n",
    "ax[0].set_xscale('log')\n",
    "ax[1].set_xlabel('Frequency [Hz]')\n",
    "ax[0].set_ylabel('Magnitude [dB20]')\n",
    "ax[1].set_ylabel('Phase [rad]')\n",
    "sns.despine()\n",
    "fig.tight_layout()\n",
    "plt.savefig(os.path.join(base_folder, outfile + '.pdf'))"
   ]
  }
 ],
 "metadata": {
  "kernelspec": {
   "display_name": "Python 3 (ipykernel)",
   "language": "python",
   "name": "python3"
  },
  "language_info": {
   "codemirror_mode": {
    "name": "ipython",
    "version": 3
   },
   "file_extension": ".py",
   "mimetype": "text/x-python",
   "name": "python",
   "nbconvert_exporter": "python",
   "pygments_lexer": "ipython3",
   "version": "3.10.9"
  }
 },
 "nbformat": 4,
 "nbformat_minor": 5
}
