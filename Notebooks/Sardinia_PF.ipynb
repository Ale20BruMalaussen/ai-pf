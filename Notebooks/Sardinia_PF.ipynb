{
 "cells": [
  {
   "cell_type": "code",
   "execution_count": null,
   "id": "2a4fc2b0",
   "metadata": {},
   "outputs": [],
   "source": [
    "import sys\n",
    "import numpy as np\n",
    "import seaborn as sns\n",
    "import matplotlib.pyplot as plt"
   ]
  },
  {
   "cell_type": "code",
   "execution_count": null,
   "id": "ba263c21",
   "metadata": {},
   "outputs": [],
   "source": [
    "def print_PF_summary(pf):\n",
    "    print('{:12s} {:>10s} {:>10s}'.format('', 'P [MW]', 'Q [MVAr]'))\n",
    "    print('-' * 33)\n",
    "    Ptot,Qtot = 0,0\n",
    "    coeff = {'SMs': -1, 'SGs': -1, 'loads': 1, 'lines': 1, 'transformers': 1}\n",
    "    for key in coeff:\n",
    "        if key in ('lines','transformers'):\n",
    "            P = coeff[key] * np.sum(list(pf[key]['Ptot'].values()))\n",
    "            Q = coeff[key] * np.sum(list(pf[key]['Qtot'].values()))\n",
    "        else:\n",
    "            P = coeff[key] * pf[key]['Ptot']\n",
    "            Q = coeff[key] * pf[key]['Qtot']\n",
    "        Ptot += P\n",
    "        Qtot += Q\n",
    "        print('{:<12s} {:10.2f} {:10.2f}'.format(key, P, Q))\n",
    "    print('=' * 33)\n",
    "    print('{:12s} {:10.2f} {:10.2f}'.format('TOTAL', Ptot, Qtot))"
   ]
  },
  {
   "cell_type": "code",
   "execution_count": null,
   "id": "c59c5f5b",
   "metadata": {},
   "outputs": [],
   "source": [
    "config_IDs = (44,17)\n",
    "blob = {}\n",
    "data, PF = {}, {}\n",
    "time, speed = {}, {}\n",
    "for ID in config_IDs:\n",
    "    blob[ID] = {}\n",
    "    data[ID], PF[ID] = {}, {}\n",
    "    time[ID], speed[ID] = {}, {}\n",
    "    for suffix,key in zip(('', 'no_'), 'YN'):\n",
    "        blob[ID][key] = np.load('../{}slack_{}.npz'.format(suffix,ID), allow_pickle=True)\n",
    "        data[ID][key] = blob[ID][key]['data'].item()\n",
    "        PF[ID][key] = blob[ID][key]['PF'].item()\n",
    "        time[ID][key] = blob[ID][key]['time']\n",
    "        speed[ID][key] = data[ID][key]['gen']['s:xspeed']"
   ]
  },
  {
   "cell_type": "code",
   "execution_count": null,
   "id": "2e134133",
   "metadata": {},
   "outputs": [],
   "source": [
    "for slack in 'YN':\n",
    "    for ID in config_IDs:\n",
    "        print('>>>>> Fiumesanto {} - Slack {} <<<<<'.format('ON' if ID == 44 else 'OFF',\n",
    "                                                            'ON' if slack == 'Y' else 'OFF'))\n",
    "        print_PF_summary(PF[ID][slack])\n",
    "        print()"
   ]
  },
  {
   "cell_type": "code",
   "execution_count": null,
   "id": "5384a115",
   "metadata": {},
   "outputs": [],
   "source": [
    "ID = 44\n",
    "print('{:^4s} {:26s} {:>8s} {:>8s} {:>8s} {:>8s}'.format('#', 'NAME', 'P+slack', 'P-slack', 'Q+slack', 'Q-slack'))\n",
    "print('-' * 67)\n",
    "for i,sm in enumerate(PF[ID]['Y']['SMs']):\n",
    "    if 'GEN' in sm:\n",
    "        sys.stdout.write('[{:2d}] {:26s} '.format(i+1, sm))\n",
    "        for pq in 'PQ':\n",
    "            for slack in 'YN':\n",
    "                sys.stdout.write('{:8.1f} '.format(PF[ID][slack]['SMs'][sm][pq]))\n",
    "        sys.stdout.write('\\n')\n",
    "print('=' * 67)\n",
    "print('{:^4s} {:>26s} {:>8.1f} {:>8.1f} {:>8.1f} {:>8.1f}'.format('', 'TOTAL:',\n",
    "                                                                 PF[ID]['Y']['SMs']['Ptot'],\n",
    "                                                                 PF[ID]['N']['SMs']['Ptot'],\n",
    "                                                                 PF[ID]['Y']['SMs']['Qtot'],\n",
    "                                                                 PF[ID]['N']['SMs']['Qtot']\n",
    "                                                                ))"
   ]
  },
  {
   "cell_type": "code",
   "execution_count": null,
   "id": "2c4daf2c",
   "metadata": {},
   "outputs": [],
   "source": [
    "fig,ax = plt.subplots(2, 1, figsize=(6,5), sharex=True)\n",
    "col = {'Y': 'k', 'N': 'r'}\n",
    "j = 0\n",
    "for ID,a in zip(config_IDs,ax):\n",
    "    for slack in 'YN':\n",
    "        a.plot(time[ID][slack], speed[ID][slack][:,j], col[slack], lw=1)\n",
    "        a.set_ylabel('ω [p.u.]')\n",
    "ax[0].set_title('Fiumesanto OFF')\n",
    "ax[1].set_title('Fiumesanto ON')\n",
    "ax[-1].set_xlabel('Time [s]')\n",
    "sns.despine()\n",
    "fig.tight_layout()"
   ]
  }
 ],
 "metadata": {
  "kernelspec": {
   "display_name": "Python 3 (ipykernel)",
   "language": "python",
   "name": "python3"
  },
  "language_info": {
   "codemirror_mode": {
    "name": "ipython",
    "version": 3
   },
   "file_extension": ".py",
   "mimetype": "text/x-python",
   "name": "python",
   "nbconvert_exporter": "python",
   "pygments_lexer": "ipython3",
   "version": "3.10.9"
  }
 },
 "nbformat": 4,
 "nbformat_minor": 5
}
