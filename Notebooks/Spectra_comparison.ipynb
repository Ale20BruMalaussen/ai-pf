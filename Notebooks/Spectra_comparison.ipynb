{
 "cells": [
  {
   "cell_type": "code",
   "execution_count": null,
   "id": "a9cb2bd9",
   "metadata": {},
   "outputs": [],
   "source": [
    "import os\n",
    "import sys\n",
    "import glob\n",
    "import numpy as np\n",
    "from scipy.fft import fft, fftfreq\n",
    "import seaborn as sns\n",
    "import matplotlib\n",
    "import matplotlib.pyplot as plt\n",
    "from matplotlib.ticker import FixedLocator, NullLocator, FixedFormatter\n",
    "fontsize = 9\n",
    "lw = 0.75\n",
    "matplotlib.rc('font', **{'family': 'Arial', 'size': fontsize})\n",
    "matplotlib.rc('axes', **{'linewidth': 0.75, 'labelsize': fontsize})\n",
    "matplotlib.rc('xtick', **{'labelsize': fontsize})\n",
    "matplotlib.rc('ytick', **{'labelsize': fontsize})\n",
    "matplotlib.rc('xtick.major', **{'width': lw, 'size':3})\n",
    "matplotlib.rc('ytick.major', **{'width': lw, 'size':3})\n",
    "matplotlib.rc('ytick.minor', **{'width': lw, 'size':1.5})\n",
    "OU_tau = 20e-3"
   ]
  },
  {
   "cell_type": "code",
   "execution_count": null,
   "id": "61a033bd",
   "metadata": {},
   "outputs": [],
   "source": [
    "expt_name = 'default_const_P_loads'\n",
    "# expt_name = 'G02_double_H_const_P_loads'\n",
    "folder = os.path.join('..','..','modal_analysis','IEEE39',expt_name)\n",
    "AC_data_file = os.path.join(folder,'IEEE39_AC_TF_-6.0_2.0_1000.npz')\n",
    "AC_data = np.load(AC_data_file, allow_pickle=True)\n",
    "dB = AC_data['dB'].item()"
   ]
  },
  {
   "cell_type": "code",
   "execution_count": null,
   "id": "c1c56bb0",
   "metadata": {},
   "outputs": [],
   "source": [
    "tran_data_file = os.path.join(folder,'IEEE39_tran.npz')\n",
    "tran_blob = np.load(tran_data_file, allow_pickle=True)\n",
    "tran_time = tran_blob['time']\n",
    "tran_data = tran_blob['data'].item()\n",
    "tran_speed = tran_data['gen']['s:xspeed']"
   ]
  },
  {
   "cell_type": "code",
   "execution_count": null,
   "id": "fc7faecc",
   "metadata": {},
   "outputs": [],
   "source": [
    "tran_M = tran_blob['momentum'].item()\n",
    "AC_M = AC_data['Mtot'].item()\n",
    "M = tran_M"
   ]
  },
  {
   "cell_type": "code",
   "execution_count": null,
   "id": "745e75fd",
   "metadata": {},
   "outputs": [],
   "source": [
    "dur = 900 # [s]\n",
    "dt = tran_time[1] - tran_time[0]\n",
    "n_samples = int(dur/dt)\n",
    "tran_freq = fftfreq(n_samples, dt)[:n_samples//2]\n",
    "tran_speedf = np.zeros((tran_freq.size, tran_speed.shape[1]))\n",
    "for j in range(tran_speed.shape[1]):\n",
    "    n_trials = tran_speed.shape[0] // n_samples\n",
    "    X = np.reshape(tran_speed[:n_trials*n_samples,j], (n_trials, n_samples))\n",
    "    tmp = fft(X-1)\n",
    "    tran_speedf[:,j] = np.mean(2.0 / n_samples * np.abs(tmp[:,:n_samples//2]), axis=0)"
   ]
  },
  {
   "cell_type": "code",
   "execution_count": null,
   "id": "149179b3",
   "metadata": {
    "scrolled": true
   },
   "outputs": [],
   "source": [
    "device_names = tran_blob['device_names'].item()['gen']\n",
    "if len(device_names) == 10:\n",
    "    rows,cols = 2,5\n",
    "elif len(device_names) == 18:\n",
    "    rows,cols = 3,6\n",
    "w,h = 3,2.5\n",
    "fig,ax = plt.subplots(rows, cols, figsize=(cols*w, rows*h), sharex=True, sharey=True)\n",
    "ticks = np.logspace(-4, 2, 7)\n",
    "F0 = 0.1\n",
    "col = 'kr'\n",
    "cmap = plt.get_cmap('tab10', len(AC_data))\n",
    "lw = 1\n",
    "names = tran_blob['device_names'].item()['gen']\n",
    "AC_freq = AC_data['F']\n",
    "for k,name in enumerate(device_names[:rows*cols]):\n",
    "    i,j = k//cols, k%cols\n",
    "    try:\n",
    "        idx = names.index(name)\n",
    "        jdx = np.abs(tran_freq-F0).argmin()\n",
    "        y = dB*np.log10(tran_speedf[:,idx])\n",
    "        ax[i,j].semilogx(tran_freq[1:], y[1:]-y[jdx], 'k', lw=lw, label='M = {:.0f} MJs'.format(M))\n",
    "        idx = np.where(AC_data['SM_names'] == name)[0][0]\n",
    "        AC_freq = AC_data['F']\n",
    "        jdx = np.abs(AC_data['F']-F0).argmin()\n",
    "        y = AC_data['mag'][:,idx]\n",
    "        ax[i,j].semilogx(AC_freq, y-y[jdx], 'r', lw=1)\n",
    "        ax[i,j].plot(1/OU_tau/(2*np.pi)+np.zeros(2), [-80,20], ':', color=[0,.8,.4], lw=2)\n",
    "        ax[i,j].set_title(name.split('___')[0], fontsize=8)\n",
    "        ax[i,j].xaxis.set_major_locator(FixedLocator(ticks))\n",
    "        ax[i,j].xaxis.set_minor_locator(NullLocator())\n",
    "        ax[i,j].xaxis.set_major_formatter(FixedFormatter([f'{tick:g}' for tick in ticks]))\n",
    "        ax[i,j].set_xlim(ticks[[0,-1]])\n",
    "    except:\n",
    "        print(f'Device name {name} missing')\n",
    "ax[0,0].legend(loc='lower left', frameon=False, fontsize=6)\n",
    "for a in ax[-1,:]:\n",
    "    a.set_xlabel('Frequency [Hz]')\n",
    "for a in ax[:,0]:\n",
    "    a.set_ylabel(f'[dB{dB}]')\n",
    "sns.despine()\n",
    "fig.tight_layout()\n",
    "plt.savefig(os.path.join(folder, 'spectra_comparison.pdf'))"
   ]
  }
 ],
 "metadata": {
  "kernelspec": {
   "display_name": "Python 3 (ipykernel)",
   "language": "python",
   "name": "python3"
  },
  "language_info": {
   "codemirror_mode": {
    "name": "ipython",
    "version": 3
   },
   "file_extension": ".py",
   "mimetype": "text/x-python",
   "name": "python",
   "nbconvert_exporter": "python",
   "pygments_lexer": "ipython3",
   "version": "3.10.9"
  }
 },
 "nbformat": 4,
 "nbformat_minor": 5
}
