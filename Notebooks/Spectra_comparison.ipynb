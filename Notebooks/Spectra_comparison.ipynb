{
 "cells": [
  {
   "cell_type": "code",
   "execution_count": null,
   "id": "a9cb2bd9",
   "metadata": {},
   "outputs": [],
   "source": [
    "import os\n",
    "import sys\n",
    "import glob\n",
    "import numpy as np\n",
    "# from scipy.fft import fft, fftfreq\n",
    "from scipy.signal import welch\n",
    "import seaborn as sns\n",
    "import matplotlib\n",
    "import matplotlib.pyplot as plt\n",
    "from matplotlib.ticker import FixedLocator, NullLocator, FixedFormatter\n",
    "fontsize = 9\n",
    "lw = 0.75\n",
    "matplotlib.rc('font', **{'family': 'Arial', 'size': fontsize})\n",
    "matplotlib.rc('axes', **{'linewidth': 0.75, 'labelsize': fontsize})\n",
    "matplotlib.rc('xtick', **{'labelsize': fontsize})\n",
    "matplotlib.rc('ytick', **{'labelsize': fontsize})\n",
    "matplotlib.rc('xtick.major', **{'width': lw, 'size':3})\n",
    "matplotlib.rc('ytick.major', **{'width': lw, 'size':3})\n",
    "matplotlib.rc('ytick.minor', **{'width': lw, 'size':1.5})\n",
    "OU_tau = 20e-3"
   ]
  },
  {
   "cell_type": "code",
   "execution_count": null,
   "id": "61a033bd",
   "metadata": {},
   "outputs": [],
   "source": [
    "# expt_name = 'G02_double_H_const_P_loads'\n",
    "expt_name = os.path.join('default_const_P_loads','1_load')\n",
    "steps_per_decade = 1000\n",
    "folder = os.path.join('..','..','modal_analysis','IEEE39',expt_name)\n",
    "AC_data_file = os.path.join(folder, f'IEEE39_AC_TF_-6.0_2.0_{steps_per_decade}.npz')\n",
    "AC_data = np.load(AC_data_file, allow_pickle=True)\n",
    "dB = AC_data['dB'].item()"
   ]
  },
  {
   "cell_type": "code",
   "execution_count": null,
   "id": "13a5bc08",
   "metadata": {},
   "outputs": [],
   "source": [
    "if False:\n",
    "    AC_data_2 = [np.load(f, allow_pickle=True) for f in sorted(glob.glob(os.path.join(\n",
    "        '..','..','modal_analysis','IEEE39','default',f'IEEE39_AC_TF_-6.0_2.0_{steps_per_decade}_Load_*.npz')))]"
   ]
  },
  {
   "cell_type": "code",
   "execution_count": null,
   "id": "c1c56bb0",
   "metadata": {},
   "outputs": [],
   "source": [
    "discard = 300 # [s]\n",
    "tran_data_files = sorted(glob.glob(os.path.join(folder,'IEEE39_tran_*.npz')))\n",
    "# tran_data_files = tran_data_files[:3]\n",
    "print(f'Found {len(tran_data_files)} data files.')\n",
    "tran_blobs = [np.load(f, allow_pickle=True) for f in tran_data_files]\n",
    "time = [blob['time'] for blob in tran_blobs]\n",
    "speed = [blob['data'].item()['gen']['s:xspeed'] for blob in tran_blobs]\n",
    "tran_speed = np.concatenate([spd[t>discard,:] for t,spd in zip(time, speed)], axis=0)\n",
    "dt = time[0][1] - time[0][0]\n",
    "tran_time = np.arange(tran_speed.shape[0]) * dt"
   ]
  },
  {
   "cell_type": "code",
   "execution_count": null,
   "id": "fc7faecc",
   "metadata": {},
   "outputs": [],
   "source": [
    "tran_M = tran_blobs[0]['momentum'].item()\n",
    "AC_M = AC_data['Mtot'].item()\n",
    "M = tran_M"
   ]
  },
  {
   "cell_type": "code",
   "execution_count": null,
   "id": "71f49bb3",
   "metadata": {},
   "outputs": [],
   "source": [
    "fref = 1\n",
    "Δω = (tran_speed - 1) * fref\n",
    "window_dur = 60 * 15\n",
    "window = window_dur / dt\n",
    "onesided = True\n",
    "tran_freq,tran_Pxx = welch(Δω, 1/dt, window='boxcar', nperseg=window, noverlap=window/2,\n",
    "                           nfft=window, return_onesided=True, scaling='density', axis=0)\n",
    "tran_Pxx /= 2\n",
    "tran_freq,tran_Pxx = tran_freq[1:],tran_Pxx[1:,:]"
   ]
  },
  {
   "cell_type": "code",
   "execution_count": null,
   "id": "149179b3",
   "metadata": {
    "scrolled": true
   },
   "outputs": [],
   "source": [
    "device_names = tran_blobs[0]['device_names'].item()['gen']\n",
    "if len(device_names) == 10:\n",
    "    rows,cols = 2,5\n",
    "elif len(device_names) == 18:\n",
    "    rows,cols = 3,6\n",
    "w,h = 3,2.5\n",
    "fig,ax = plt.subplots(rows, cols, figsize=(cols*w, rows*h), sharex=True, sharey=True)\n",
    "ticks = np.logspace(-3, 2, 6)\n",
    "F0 = 0.1\n",
    "red,green,magenta,orange = [0.75,0,0], [0,.75,0], [.75,0,.75], [1,.5,0]\n",
    "col = [green,magenta]\n",
    "cmap = plt.get_cmap('tab10', len(AC_data))\n",
    "lw = 1\n",
    "# names = tran_blobs[0]['device_names'].item()['gen']\n",
    "AC_freq = AC_data['F']\n",
    "coeff = 0\n",
    "for k,name in enumerate(device_names[:rows*cols]):\n",
    "    i,j = k//cols, k%cols\n",
    "    try:\n",
    "        ### 1\n",
    "        idx = device_names.index(name)\n",
    "        jdx = np.abs(tran_freq-F0).argmin()\n",
    "        y = 10 * np.log10(tran_Pxx[:,idx])\n",
    "        y -= coeff*y[jdx]\n",
    "        ym,yM = y.min(),y.max()\n",
    "        ax[i,j].semilogx(tran_freq, y, 'k', lw=lw, label='TRAN: M = {:.0f} MJs'.format(M))\n",
    "        ### 2\n",
    "        idx = np.where(AC_data['SM_names'] == name)[0][0]\n",
    "        jdx = np.abs(AC_freq-F0).argmin()\n",
    "        y = AC_data['mag'][:,idx]\n",
    "        y -= coeff*y[jdx]\n",
    "        if y.min() < ym:\n",
    "            ym = y.min()\n",
    "        if y.max() > yM:\n",
    "            yM = y.max()\n",
    "        ax[i,j].semilogx(AC_freq, y, color=red, lw=1, label='AC')\n",
    "        ### 3\n",
    "#         try:\n",
    "#             for n,data in enumerate(AC_data_2):\n",
    "#                 y = data['mag'][:,idx]\n",
    "#                 ax[i,j].semilogx(AC_freq, y-coeff*y[jdx], color=col[n], lw=1, label=f'AC load {n+1}')\n",
    "#         except:\n",
    "#             pass\n",
    "        ### 4\n",
    "        ax[i,j].plot(1/(2*np.pi*OU_tau)+np.zeros(2), [ym,yM], ':', color=orange, lw=2, label='OU cutoff')\n",
    "        ax[i,j].set_title(name.split('___')[0], fontsize=8)\n",
    "        ax[i,j].xaxis.set_major_locator(FixedLocator(ticks))\n",
    "        ax[i,j].xaxis.set_minor_locator(NullLocator())\n",
    "        ax[i,j].xaxis.set_major_formatter(FixedFormatter([f'{tick:g}' for tick in ticks]))\n",
    "        ax[i,j].set_xlim(ticks[[0,-1]])\n",
    "    except:\n",
    "        print(f'Device name {name} missing')\n",
    "ax[0,0].legend(loc='lower left', frameon=False, fontsize=6)\n",
    "for a in ax[-1,:]:\n",
    "    a.set_xlabel('Frequency [Hz]')\n",
    "for a in ax[:,0]:\n",
    "    a.set_ylabel(f'PSD [dB{dB}]')\n",
    "sns.despine()\n",
    "fig.tight_layout()\n",
    "plt.savefig(os.path.join(folder, 'spectra_comparison.pdf'))"
   ]
  }
 ],
 "metadata": {
  "kernelspec": {
   "display_name": "Python 3 (ipykernel)",
   "language": "python",
   "name": "python3"
  },
  "language_info": {
   "codemirror_mode": {
    "name": "ipython",
    "version": 3
   },
   "file_extension": ".py",
   "mimetype": "text/x-python",
   "name": "python",
   "nbconvert_exporter": "python",
   "pygments_lexer": "ipython3",
   "version": "3.10.9"
  }
 },
 "nbformat": 4,
 "nbformat_minor": 5
}
