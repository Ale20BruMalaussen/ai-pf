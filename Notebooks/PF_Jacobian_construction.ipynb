{
 "cells": [
  {
   "cell_type": "code",
   "execution_count": 1,
   "id": "84b10439",
   "metadata": {},
   "outputs": [],
   "source": [
    "import os\n",
    "import sys\n",
    "import numpy as np\n",
    "from scipy.sparse import csr_matrix\n",
    "if '..' not in sys.path:\n",
    "    sys.path.append('..')\n",
    "from pfcommon import parse_sparse_matrix_file, parse_Amat_vars_file, parse_Jacobian_vars_file"
   ]
  },
  {
   "cell_type": "code",
   "execution_count": 2,
   "id": "bdd2e044",
   "metadata": {},
   "outputs": [],
   "source": [
    "def print_matrix(M, var_names, outfile=None):\n",
    "    n_vars = len(var_names)\n",
    "    n_char = max(map(len, var_names))\n",
    "    fmt_str = '  {:>' + str(n_char) + 's} '\n",
    "    fmt_num = '  {:' + str(n_char) + 'g} '\n",
    "    if outfile is not None:\n",
    "        out = open(outfile,'w')\n",
    "    else:\n",
    "        out = sys.stdout\n",
    "    out.write(' ' * 5)\n",
    "    for var_name in var_names:\n",
    "        out.write(fmt_str.format(var_name))\n",
    "    out.write('\\n')\n",
    "    for i,row in enumerate(M):\n",
    "        out.write(f'[{i+1:02d}] ')\n",
    "        for val in row:\n",
    "            out.write(fmt_num.format(val))\n",
    "        out.write('\\n')\n",
    "    if outfile is not None:\n",
    "        out.close()"
   ]
  },
  {
   "cell_type": "code",
   "execution_count": 3,
   "id": "03d36e8d",
   "metadata": {},
   "outputs": [
    {
     "name": "stdout",
     "output_type": "stream",
     "text": [
      "cos(ϕ) =   0.981\n",
      "     ϕ =  11.310 deg\n"
     ]
    }
   ],
   "source": [
    "folder = os.path.join('..','..','modal_analysis','SM_with_load','default')\n",
    "filename = os.path.join(folder, 'VariableToIdx_Jacobian.txt')\n",
    "vars_idx,state_vars,voltages,currents,signals = parse_Jacobian_vars_file(filename)\n",
    "filename = os.path.join(folder, 'Jacobian.mtl')\n",
    "J = parse_sparse_matrix_file(filename, )\n",
    "filename = os.path.join(folder, 'SM_with_load_AC.npz')\n",
    "data = np.load(filename, allow_pickle=True)\n",
    "S = data['S'].item()\n",
    "PF = data['PF_without_slack'].item()\n",
    "PF_bus = PF['buses']['Bus1']\n",
    "PF_load = PF['loads']['LD1']\n",
    "PF_gen = PF['SMs']['G1']\n",
    "cosphi = PF_gen['cosphi']\n",
    "ϕ = np.arccos(cosphi)\n",
    "print('cos(ϕ) = {:7.3f}'.format(cosphi))\n",
    "print('     ϕ = {:7.3f} deg'.format(np.rad2deg(ϕ)))"
   ]
  },
  {
   "cell_type": "code",
   "execution_count": 4,
   "id": "71913805",
   "metadata": {},
   "outputs": [
    {
     "name": "stdout",
     "output_type": "stream",
     "text": [
      "State variables: \"G1.speed\", \"G1.phi\".\n",
      "       Voltages: \"Bus1.ur\", \"Bus1.ui\".\n",
      "       Currents: \"G1.ir:bus1\", \"G1.ii:bus1\", \"LD1.ir:bus1\", \"LD1.ii:bus1\".\n"
     ]
    }
   ],
   "source": [
    "flatten = lambda D: [k+'.'+el for k,subl in D.items() for el in subl]\n",
    "var_names = flatten(state_vars) + flatten(voltages) + flatten(currents)\n",
    "n_vars = len(var_names)\n",
    "print('State variables: \"{}\".'.format('\", \"'.join(flatten(state_vars))))\n",
    "print('       Voltages: \"{}\".'.format('\", \"'.join(flatten(voltages))))\n",
    "print('       Currents: \"{}\".'.format('\", \"'.join(flatten(currents))))"
   ]
  },
  {
   "cell_type": "markdown",
   "id": "49079c84",
   "metadata": {},
   "source": [
    "#### Base parameters\n",
    "These values are used by PowerFactory for display purposes"
   ]
  },
  {
   "cell_type": "code",
   "execution_count": 5,
   "id": "4fe36c62",
   "metadata": {},
   "outputs": [
    {
     "name": "stdout",
     "output_type": "stream",
     "text": [
      "====== System ======\n",
      "S_base =   1.000 MVA\n",
      "V_base =  10.000 kV\n",
      "I_base =   0.100 kA\n",
      "Z_base = 100.000 Ω\n",
      "Y_base =   0.010 S\n"
     ]
    }
   ],
   "source": [
    "F      = 50.  # [Hz] default frequency\n",
    "S_base = 1e6  # [VA] base apparent power\n",
    "V_base = PF_bus['Vl']/PF_bus['u']*1e3  # [V] base voltage (line-to-line)\n",
    "I_base = S_base/V_base              # [A] base current\n",
    "Z_base = V_base**2/S_base           # [Ω] base impedance\n",
    "Y_base = 1/Z_base                   # [S] base admittance\n",
    "print('====== System ======')\n",
    "print('S_base = {:7.3f} MVA'.format(S_base*1e-6))\n",
    "print('V_base = {:7.3f} kV'.format(V_base*1e-3))\n",
    "print('I_base = {:7.3f} kA'.format(I_base*1e-3))\n",
    "print('Z_base = {:7.3f} Ω'.format(Z_base))\n",
    "print('Y_base = {:7.3f} S'.format(Y_base))"
   ]
  },
  {
   "cell_type": "markdown",
   "id": "a7775b52",
   "metadata": {},
   "source": [
    "#### Generator parameters\n",
    "Base parameters of the single generator in the network"
   ]
  },
  {
   "cell_type": "code",
   "execution_count": 6,
   "id": "6ffc7bce",
   "metadata": {},
   "outputs": [
    {
     "name": "stdout",
     "output_type": "stream",
     "text": [
      "===== Generator ====\n",
      "S_base =  50.000 MVA\n",
      "V_base =  10.000 kV\n",
      "I_base =   5.000 kA\n",
      "Z_base =   2.000 Ω\n",
      "Y_base =   0.500 S\n"
     ]
    }
   ],
   "source": [
    "S_base_gen = S['G1']*1e6                      # [VA]\n",
    "V_base_gen = PF_gen['Vl']*1e3 / PF_gen['u']   # [V]\n",
    "I_base_gen = S_base_gen/V_base_gen            # [A]\n",
    "Z_base_gen = V_base_gen**2 / S_base_gen       # [Ω]\n",
    "Y_base_gen = 1 / Z_base_gen                   # [S]\n",
    "rstr,xstr = 0.2, 0.4                          # [pu] stator parameters\n",
    "R_gen,X_gen = rstr*Z_base_gen,xstr*Z_base_gen # [Ω]\n",
    "Z_gen = R_gen + 1j*X_gen                      # [Ω]\n",
    "Y_gen = 1/Z_gen                               # [S]\n",
    "Z_gen_pu = Z_gen/Z_base                       # [pu]\n",
    "Y_gen_pu = Y_gen/Y_base                       # [pu]\n",
    "R_gen_pu,X_gen_pu = Z_gen_pu.real, Z_gen_pu.imag\n",
    "print('===== Generator ====')\n",
    "print('S_base = {:7.3f} MVA'.format(S_base_gen*1e-6))\n",
    "print('V_base = {:7.3f} kV'.format(V_base_gen*1e-3))\n",
    "print('I_base = {:7.3f} kA'.format(I_base_gen*1e-3))\n",
    "print('Z_base = {:7.3f} Ω'.format(Z_base_gen))\n",
    "print('Y_base = {:7.3f} S'.format(Y_base_gen))"
   ]
  },
  {
   "cell_type": "markdown",
   "id": "8718dbc1",
   "metadata": {},
   "source": [
    "#### Load parameters\n",
    "The p.u. values of the load impedance are referred to the system base."
   ]
  },
  {
   "cell_type": "code",
   "execution_count": 7,
   "id": "2a7c8e03",
   "metadata": {},
   "outputs": [
    {
     "name": "stdout",
     "output_type": "stream",
     "text": [
      "======== Load ========\n",
      "S = 5-1j MVA = 5-1j pu\n"
     ]
    }
   ],
   "source": [
    "load_type = 'const_S'\n",
    "load_coeffs = np.zeros((2,2))\n",
    "if load_type == 'const_Z':\n",
    "    G_load = PF_load['P']*1e6 / (PF_bus['Vl']*1e3)**2  # [S]\n",
    "    B_load = -PF_load['Q']*1e6 / (PF_bus['Vl']*1e3)**2 # [S]\n",
    "    Y_load = G_load + 1j*B_load # [S]\n",
    "    Y_load_pu = Y_load/Y_base   # [pu]\n",
    "    Z_load = 1/Y_load           # [Ω]\n",
    "    Z_load_pu = Z_load/Z_base   # [pu]\n",
    "    G_load_pu,B_load_pu = Y_load_pu.real, Y_load_pu.imag\n",
    "    load_coeffs = np.array([[G_load_pu,-B_load_pu],[B_load_pu,G_load_pu]])\n",
    "    print('========== Load =========')\n",
    "    print('G = {:7.5f} S, {:5.3f} pu'.format(G_load, G_load_pu))\n",
    "    print('B = {:7.5f} S, {:5.3f} pu'.format(B_load, B_load_pu))\n",
    "elif load_type == 'const_S':\n",
    "    P = PF_load['P']*1e6/S_base  # [pu]\n",
    "    Q = PF_load['Q']*1e6/S_base  # [pu]\n",
    "    ur,ui = PF_bus['ur'], PF_bus['ui']\n",
    "    den = (ur**2+ui**2)**2       # [pu]\n",
    "    load_coeffs = np.array([[(P*(ui**2-ur**2) - 2*Q*ur*ui) / den, (Q*(ur**2-ui**2) - 2*P*ur*ui) / den],\n",
    "                            [(Q*(ur**2-ui**2) - 2*P*ur*ui) / den, (P*(ur**2-ui**2) + 2*Q*ur*ui) / den]])\n",
    "    print('======== Load ========')\n",
    "    print('S = {:g} MVA = {:g} pu'.format(PF_load['P']+1j*PF_load['Q'], P+1j*Q))\n",
    "else:\n",
    "    raise Exception('Unknown load type `{load_type}`')"
   ]
  },
  {
   "cell_type": "markdown",
   "id": "27dd636e",
   "metadata": {},
   "source": [
    "## Power flow results\n",
    "#### Generator"
   ]
  },
  {
   "cell_type": "code",
   "execution_count": 8,
   "id": "366359db",
   "metadata": {},
   "outputs": [
    {
     "name": "stdout",
     "output_type": "stream",
     "text": [
      "     P =   5.000 MW\n",
      "     Q =  -1.000 Mvar\n",
      "     u =   0.900 pu\n",
      "    ur =   0.900 pu\n",
      "    ui =   0.000 pu\n",
      " V_l2l =   9.000 kV\n",
      " V_l2g =   5.196 kV\n",
      "   V_ϕ =   0.000 deg\n",
      "     I =   0.327 kA\n",
      "     i =   0.113 pu\n",
      "    ir =   0.111 pu\n",
      "    ii =   0.022 pu\n"
     ]
    }
   ],
   "source": [
    "print('     P = {:7.3f} MW'.format(PF_gen['P']))\n",
    "print('     Q = {:7.3f} Mvar'.format(PF_gen['Q']))\n",
    "print('     u = {:7.3f} pu'.format(PF_gen['u']))\n",
    "print('    ur = {:7.3f} pu'.format(PF_gen['ur']))\n",
    "print('    ui = {:7.3f} pu'.format(PF_gen['ui']))\n",
    "print(' V_l2l = {:7.3f} kV'.format(PF_gen['Vl']))\n",
    "print(' V_l2g = {:7.3f} kV'.format(PF_gen['V']))\n",
    "print('   V_ϕ = {:7.3f} deg'.format(PF_gen['phiu']))\n",
    "print('     I = {:7.3f} kA'.format(PF_gen['I']))\n",
    "print('     i = {:7.3f} pu'.format(PF_gen['i']))\n",
    "print('    ir = {:7.3f} pu'.format(PF_gen['ir']))\n",
    "print('    ii = {:7.3f} pu'.format(PF_gen['ii']))"
   ]
  },
  {
   "cell_type": "markdown",
   "id": "5492d69b",
   "metadata": {},
   "source": [
    "#### Load"
   ]
  },
  {
   "cell_type": "code",
   "execution_count": 9,
   "id": "fc2d7b22",
   "metadata": {},
   "outputs": [
    {
     "name": "stdout",
     "output_type": "stream",
     "text": [
      "     P =   5.000 MW\n",
      "     Q =  -1.000 Mvar\n",
      "     u =   0.900 pu\n",
      "    ur =   0.900 pu\n",
      "    ui =   0.000 pu\n",
      " V_l2l =   9.000 kV\n",
      " V_l2g =   5.196 kV\n",
      "   V_ϕ =   0.000 deg\n",
      "     I =   0.327 kA\n",
      "     i =   0.113 pu\n",
      "    ir =   0.111 pu\n",
      "    ii =   0.022 pu\n"
     ]
    }
   ],
   "source": [
    "print('     P = {:7.3f} MW'.format(PF_load['P']))\n",
    "print('     Q = {:7.3f} Mvar'.format(PF_load['Q']))\n",
    "print('     u = {:7.3f} pu'.format(PF_load['u']))\n",
    "print('    ur = {:7.3f} pu'.format(PF_load['ur']))\n",
    "print('    ui = {:7.3f} pu'.format(PF_load['ui']))\n",
    "print(' V_l2l = {:7.3f} kV'.format(PF_load['Vl']))\n",
    "print(' V_l2g = {:7.3f} kV'.format(PF_load['V']))\n",
    "print('   V_ϕ = {:7.3f} deg'.format(PF_load['phiu']))\n",
    "print('     I = {:7.3f} kA'.format(PF_load['I']))\n",
    "print('     i = {:7.3f} pu'.format(PF_load['i']))\n",
    "print('    ir = {:7.3f} pu'.format(PF_load['ir']))\n",
    "print('    ii = {:7.3f} pu'.format(PF_load['ii']))"
   ]
  },
  {
   "cell_type": "markdown",
   "id": "5d086a90",
   "metadata": {},
   "source": [
    "#### Bus"
   ]
  },
  {
   "cell_type": "code",
   "execution_count": 10,
   "id": "5ed526f8",
   "metadata": {},
   "outputs": [
    {
     "name": "stdout",
     "output_type": "stream",
     "text": [
      "     u =   0.900 pu\n",
      "    ur =   0.900 pu\n",
      "    ui =   0.000 pu\n",
      " V_l2l =   9.000 kV\n",
      " V_l2g =   5.196 kV\n",
      "     ϕ =   0.000 deg\n"
     ]
    }
   ],
   "source": [
    "print('     u = {:7.3f} pu'.format(PF_bus['u']))\n",
    "print('    ur = {:7.3f} pu'.format(PF_bus['ur']))\n",
    "print('    ui = {:7.3f} pu'.format(PF_bus['ui']))\n",
    "print(' V_l2l = {:7.3f} kV'.format(PF_bus['Vl']))\n",
    "print(' V_l2g = {:7.3f} kV'.format(PF_bus['V']))\n",
    "print('     ϕ = {:7.3f} deg'.format(PF_bus['phi']))"
   ]
  },
  {
   "cell_type": "markdown",
   "id": "e6577eed",
   "metadata": {},
   "source": [
    "### Static load\n",
    "  1. A static load is represented as a constant impedance.\n",
    "  1. The number of variables is equal to 6.\n",
    "  1. The submatrix has the following structure, where all the values are in per unit:\n",
    "\n",
    "||$\\frac{\\partial}{\\partial\\phi}$|$\\frac{\\partial}{\\partial u_r}$|$\\frac{\\partial}{\\partial u_i}$|$\\frac{\\partial}{\\partial i_r^G}$|$\\frac{\\partial}{\\partial i_i^G}$|\n",
    "|:---:|:---:|:---:|:---:|:---:|:---:|\n",
    "|**$u_r$**| 0 | $G_L$ | $-B_L$ | -1 |  0 |\n",
    "|**$u_i$**| 0 | $B_L$ | $G_L$ |  0 | -1 |\n",
    "|**$i_r^G$**| $E_0\\sin(\\phi)$ | 1 | 0 | $R_G$ | $-X_G$ |\n",
    "|**$i_i^G$**| $E_0\\cos(\\phi)$ | 0 | 1 | $X_G$ | $R_G$ |\n",
    "\n",
    "where $(u_r,u_i)$ are the real and imaginary parts of the voltage at the bus, $(i_r^G,i_i^G)$ are the real and imaginary parts of the generator current, $(R_G,X_G)$ are the resistance and reactance of the synchronous machine's stator, and $(G_L,B_L)$ are the conductance and susceptance of the load."
   ]
  },
  {
   "cell_type": "markdown",
   "id": "1ed590c2",
   "metadata": {},
   "source": [
    "### Dynamic load\n",
    "  1. Dynamic load with constant power.\n",
    "  1. The number of variables is equal to 8.\n",
    "  1. The submatrix has the following structure, where all the values are in per unit:\n",
    "\n",
    "|Variable|$\\frac{\\partial}{\\partial\\phi}$|$\\frac{\\partial}{\\partial u_r}$|$\\frac{\\partial}{\\partial u_i}$|$\\frac{\\partial}{\\partial i_r^G}$|$\\frac{\\partial}{\\partial i_i^G}$|$\\frac{\\partial}{\\partial i_r^L}$|$\\frac{\\partial}{\\partial i_i^L}$|\n",
    "|:---:|:---:|:---:|:---:|:---:|:---:|:---:|:---:|\n",
    "|**$u_r$**| 0 | 0 | 0 | 1 | 0 | -1 |  0 |\n",
    "|**$u_i$**| 0 | 0 | 0 | 0 | 1 |  0 | -1 |\n",
    "|**$i_r^G$**| 0 | $c_{11}$ | $c_{12}$ | -1 |  0 | 0 | 0 |\n",
    "|**$i_i^G$**| 0 | $c_{21}$ | $c_{22}$ |  0 | -1 | 0 | 0 |\n",
    "|**$i_r^L$**| $E_0 \\sin(\\phi)$ | 1 | 0 | 0 | 0 | $R_G$ | $-X_G$ |\n",
    "|**$i_i^L$**| $-E_0 \\cos(\\phi)$ | 0 | 1 | 0 | 0 | $X_g$ | $R_G$ |\n",
    "\n",
    "where $(u_r,u_i)$ are the real and imaginary parts of the voltage at the bus, $(i_r^G,i_i^G)$ are the real and imaginary parts of the generator current, $(i_r^L,i_i^L)$ are the real and imaginary parts of the load current, and $(R_G,X_G)$ are the resistance and reactance of the synchronous machine's stator.\n",
    "\n",
    "The coefficients $c_{11}$, $c_{12}$, $c_{21}$ and $c_{22}$ are given by the following expressions:\n",
    "\n",
    "$c_{11} = \\frac{\\partial}{\\partial u_r} \\frac{P u_r + Q u_i}{u_r^2 + u_i^2} = \\frac{P(u_i^2-u_r^2) - 2Q u_r u_i}{(u_r^2+u_i^2)^2}$\n",
    "\n",
    "$c_{12} = \\frac{\\partial}{\\partial u_i} \\frac{P u_r + Q u_i}{u_r^2 + u_i^2} = \\frac{Q(u_r^2-u_i^2) - 2P u_r u_i}{(u_r^2+u_i^2)^2}$\n",
    "\n",
    "$c_{21} = \\frac{\\partial}{\\partial u_r} \\frac{-Q u_r + P u_i}{u_r^2 + u_i^2} = \\frac{Q(u_r^2-u_i^2) - 2P u_r u_i}{(u_r^2+u_i^2)^2}$\n",
    "\n",
    "$c_{22} = \\frac{\\partial}{\\partial u_i} \\frac{-Q u_r + P u_i}{u_r^2 + u_i^2} = \\frac{P(u_r^2-u_i^2) + 2Q u_r u_i}{(u_r^2+u_i^2)^2}$"
   ]
  },
  {
   "cell_type": "code",
   "execution_count": 11,
   "id": "44a5de5b",
   "metadata": {},
   "outputs": [],
   "source": [
    "V = (Z_gen/Z_base_gen) * (PF_gen['ir'] + 1j*PF_gen['ii'])\n",
    "e = (PF_bus['ur'] + 1j*PF_bus['ui']) + V\n",
    "E0,ϕg = np.abs(e), np.angle(e)"
   ]
  },
  {
   "cell_type": "code",
   "execution_count": 12,
   "id": "f3051c55",
   "metadata": {},
   "outputs": [],
   "source": [
    "IDX = lambda name: var_names.index(name)\n",
    "J_guess = np.zeros((n_vars,n_vars), dtype=float)"
   ]
  },
  {
   "cell_type": "code",
   "execution_count": 13,
   "id": "513ebe20",
   "metadata": {},
   "outputs": [],
   "source": [
    "if n_vars == 6:\n",
    "    idx = [IDX('Bus1.ur'), IDX('Bus1.ui'), IDX('G1.ir:bus1'), IDX('G1.ii:bus1')]\n",
    "    jdx = [IDX('G1.phi'), IDX('Bus1.ur'), IDX('Bus1.ui'), IDX('G1.ir:bus1'), IDX('G1.ii:bus1')]\n",
    "\n",
    "    J_guess[idx[0],jdx[0]] =  0.\n",
    "    J_guess[idx[0],jdx[1]] =  load_coeffs[0,0]\n",
    "    J_guess[idx[0],jdx[2]] =  load_coeffs[0,1]\n",
    "    J_guess[idx[0],jdx[3]] = -1.\n",
    "    J_guess[idx[0],jdx[4]] =  0.\n",
    "\n",
    "    J_guess[idx[1],jdx[0]] =  0.\n",
    "    J_guess[idx[1],jdx[1]] =  load_coeffs[1,0]\n",
    "    J_guess[idx[1],jdx[2]] =  load_coeffs[1,1]\n",
    "    J_guess[idx[1],jdx[3]] =  0.\n",
    "    J_guess[idx[1],jdx[4]] = -1.\n",
    "\n",
    "    J_guess[idx[2],jdx[0]] =  E0*np.sin(ϕg)\n",
    "    J_guess[idx[2],jdx[1]] =  1.\n",
    "    J_guess[idx[2],jdx[2]] =  0.\n",
    "    J_guess[idx[2],jdx[3]] =  R_gen_pu\n",
    "    J_guess[idx[2],jdx[4]] = -X_gen_pu\n",
    "\n",
    "    J_guess[idx[3],jdx[0]] = -E0*np.cos(ϕg)\n",
    "    J_guess[idx[3],jdx[1]] =  0.\n",
    "    J_guess[idx[3],jdx[2]] =  1.\n",
    "    J_guess[idx[3],jdx[3]] =  X_gen_pu\n",
    "    J_guess[idx[3],jdx[4]] =  R_gen_pu"
   ]
  },
  {
   "cell_type": "code",
   "execution_count": 14,
   "id": "5047e07d",
   "metadata": {},
   "outputs": [],
   "source": [
    "if n_vars == 8:\n",
    "    idx = [IDX('Bus1.ur'), IDX('Bus1.ui'), IDX('G1.ir:bus1'), IDX('G1.ii:bus1'),\n",
    "           IDX('LD1.ir:bus1'), IDX('LD1.ii:bus1')]\n",
    "    jdx = [IDX('G1.phi'), IDX('Bus1.ur'), IDX('Bus1.ui'), IDX('G1.ir:bus1'), IDX('G1.ii:bus1'),\n",
    "           IDX('LD1.ir:bus1'), IDX('LD1.ii:bus1')]\n",
    "    \n",
    "    J_guess[idx[0],jdx[0]] =  0.\n",
    "    J_guess[idx[0],jdx[1]] =  0.\n",
    "    J_guess[idx[0],jdx[2]] =  0.\n",
    "    J_guess[idx[0],jdx[3]] =  1.\n",
    "    J_guess[idx[0],jdx[4]] =  0.\n",
    "    J_guess[idx[0],jdx[5]] = -1.\n",
    "    J_guess[idx[0],jdx[6]] =  0.\n",
    "\n",
    "    J_guess[idx[1],jdx[0]] =  0.\n",
    "    J_guess[idx[1],jdx[1]] =  0.\n",
    "    J_guess[idx[1],jdx[2]] =  0.\n",
    "    J_guess[idx[1],jdx[3]] =  0.\n",
    "    J_guess[idx[1],jdx[4]] =  1.\n",
    "    J_guess[idx[1],jdx[5]] =  0.\n",
    "    J_guess[idx[1],jdx[6]] = -1.\n",
    "\n",
    "    J_guess[idx[2],jdx[0]] =  0.\n",
    "    J_guess[idx[2],jdx[1]] =  load_coeffs[0,0]\n",
    "    J_guess[idx[2],jdx[2]] =  load_coeffs[0,1]\n",
    "    J_guess[idx[2],jdx[3]] = -1.\n",
    "    J_guess[idx[2],jdx[4]] =  0.\n",
    "    J_guess[idx[2],jdx[5]] =  0.\n",
    "    J_guess[idx[2],jdx[6]] =  0.\n",
    "\n",
    "    J_guess[idx[3],jdx[0]] =  0.\n",
    "    J_guess[idx[3],jdx[1]] =  load_coeffs[1,0]\n",
    "    J_guess[idx[3],jdx[2]] =  load_coeffs[1,1]\n",
    "    J_guess[idx[3],jdx[3]] =  0.\n",
    "    J_guess[idx[3],jdx[4]] = -1.\n",
    "    J_guess[idx[3],jdx[5]] =  0.\n",
    "    J_guess[idx[3],jdx[6]] =  0.\n",
    "\n",
    "    J_guess[idx[4],jdx[0]] =  E0*np.sin(ϕg)\n",
    "    J_guess[idx[4],jdx[1]] =  1.\n",
    "    J_guess[idx[4],jdx[2]] =  0.\n",
    "    J_guess[idx[4],jdx[3]] =  0.\n",
    "    J_guess[idx[4],jdx[4]] =  0.\n",
    "    J_guess[idx[4],jdx[5]] =  R_gen_pu\n",
    "    J_guess[idx[4],jdx[6]] = -X_gen_pu\n",
    "\n",
    "    J_guess[idx[5],jdx[0]] = -E0*np.cos(ϕg)\n",
    "    J_guess[idx[5],jdx[1]] =  0.\n",
    "    J_guess[idx[5],jdx[2]] =  1.\n",
    "    J_guess[idx[5],jdx[3]] =  0.\n",
    "    J_guess[idx[5],jdx[4]] =  0.\n",
    "    J_guess[idx[5],jdx[5]] =  X_gen_pu\n",
    "    J_guess[idx[5],jdx[6]] =  R_gen_pu"
   ]
  },
  {
   "cell_type": "code",
   "execution_count": 15,
   "id": "ac17d05e",
   "metadata": {},
   "outputs": [],
   "source": [
    "if n_vars not in (6,8):\n",
    "    raise Exception(f'Do not know how to deal with {n_vars} variables')"
   ]
  },
  {
   "cell_type": "code",
   "execution_count": 16,
   "id": "4a1f3645",
   "metadata": {},
   "outputs": [
    {
     "name": "stdout",
     "output_type": "stream",
     "text": [
      "          G1.speed        G1.phi       Bus1.ur       Bus1.ui    G1.ir:bus1    G1.ii:bus1   LD1.ir:bus1   LD1.ii:bus1 \n",
      "[01]     -0.012821             0    -0.0138889   -0.00277778             0             0   -0.00236111   -2.22222e-05 \n",
      "[02]             0             0             0             0             0             0             0             0 \n",
      "[03]             0             0       0.00011             0             1             0            -1             0 \n",
      "[04]             0             0             0       0.00011             0             1             0            -1 \n",
      "[05]             0             0      -6.17285      -1.23457            -1             0             0             0 \n",
      "[06]             0             0      -1.23457       6.17283             0            -1             0             0 \n",
      "[07]             0     0.0488889             1             0             0             0         0.004        -0.008 \n",
      "[08]             0     -0.913333             0             1             0             0         0.008         0.004 \n"
     ]
    }
   ],
   "source": [
    "print_matrix(J[:n_vars,:n_vars], var_names, 'J.out' if n_vars > 8 else None)"
   ]
  },
  {
   "cell_type": "code",
   "execution_count": 17,
   "id": "6d51806e",
   "metadata": {},
   "outputs": [
    {
     "name": "stdout",
     "output_type": "stream",
     "text": [
      "          G1.speed        G1.phi       Bus1.ur       Bus1.ui    G1.ir:bus1    G1.ii:bus1   LD1.ir:bus1   LD1.ii:bus1 \n",
      "[01]             0             0             0             0             0             0             0             0 \n",
      "[02]             0             0             0             0             0             0             0             0 \n",
      "[03]             0             0             0             0             1             0            -1             0 \n",
      "[04]             0             0             0             0             0             1             0            -1 \n",
      "[05]             0             0      -6.17284      -1.23457            -1             0             0             0 \n",
      "[06]             0             0      -1.23457       6.17284             0            -1             0             0 \n",
      "[07]             0     0.0488889             1             0             0             0         0.004        -0.008 \n",
      "[08]             0     -0.913333             0             1             0             0         0.008         0.004 \n"
     ]
    }
   ],
   "source": [
    "print_matrix(J_guess, var_names, 'J_guess.out' if n_vars > 8 else None)"
   ]
  }
 ],
 "metadata": {
  "kernelspec": {
   "display_name": "Python 3 (ipykernel)",
   "language": "python",
   "name": "python3"
  },
  "language_info": {
   "codemirror_mode": {
    "name": "ipython",
    "version": 3
   },
   "file_extension": ".py",
   "mimetype": "text/x-python",
   "name": "python",
   "nbconvert_exporter": "python",
   "pygments_lexer": "ipython3",
   "version": "3.10.9"
  }
 },
 "nbformat": 4,
 "nbformat_minor": 5
}
