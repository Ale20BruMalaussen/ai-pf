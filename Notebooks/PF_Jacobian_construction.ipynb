{
 "cells": [
  {
   "cell_type": "code",
   "execution_count": null,
   "id": "84b10439",
   "metadata": {},
   "outputs": [],
   "source": [
    "import os\n",
    "import sys\n",
    "import numpy as np\n",
    "from scipy.sparse import csr_matrix\n",
    "if '..' not in sys.path:\n",
    "    sys.path.append('..')\n",
    "from pfcommon import parse_sparse_matrix_file, parse_Amat_vars_file, parse_Jacobian_vars_file"
   ]
  },
  {
   "cell_type": "code",
   "execution_count": null,
   "id": "bdd2e044",
   "metadata": {},
   "outputs": [],
   "source": [
    "def print_matrix(M, var_names, outfile=None):\n",
    "    n_vars = len(var_names)\n",
    "    n_char = max(map(len, var_names))\n",
    "    fmt_str = '  {:>' + str(n_char) + 's} '\n",
    "    fmt_num = '  {:' + str(n_char) + 'g} '\n",
    "    if outfile is not None:\n",
    "        out = open(outfile,'w')\n",
    "    else:\n",
    "        out = sys.stdout\n",
    "    out.write(' ' * 5)\n",
    "    for var_name in var_names:\n",
    "        out.write(fmt_str.format(var_name))\n",
    "    out.write('\\n')\n",
    "    for i,row in enumerate(M):\n",
    "        out.write(f'[{i+1:02d}] ')\n",
    "        for val in row:\n",
    "            out.write(fmt_num.format(val))\n",
    "        out.write('\\n')\n",
    "    if outfile is not None:\n",
    "        out.close()"
   ]
  },
  {
   "cell_type": "code",
   "execution_count": null,
   "id": "03d36e8d",
   "metadata": {},
   "outputs": [],
   "source": [
    "folder = os.path.join('..','..','modal_analysis','SM_with_load','default')\n",
    "filename = os.path.join(folder, 'VariableToIdx_Jacobian.txt')\n",
    "vars_idx,state_vars,voltages,currents,signals = parse_Jacobian_vars_file(filename)\n",
    "filename = os.path.join(folder, 'Jacobian.mtl')\n",
    "J = parse_sparse_matrix_file(filename, )\n",
    "filename = os.path.join(folder, 'SM_with_load_AC.npz')\n",
    "data = np.load(filename, allow_pickle=True)\n",
    "S = data['S'].item()\n",
    "PF = data['PF_without_slack'].item()\n",
    "PF_bus = PF['buses']['Bus1']\n",
    "PF_load = PF['loads']['LD1']\n",
    "PF_gen = PF['SMs']['G1']\n",
    "cosphi = PF_gen['cosphi']\n",
    "ϕ = np.arccos(cosphi)\n",
    "print('cos(ϕ) = {:7.3f}'.format(cosphi))\n",
    "print('     ϕ = {:7.3f} deg'.format(np.rad2deg(ϕ)))"
   ]
  },
  {
   "cell_type": "code",
   "execution_count": null,
   "id": "71913805",
   "metadata": {},
   "outputs": [],
   "source": [
    "flatten = lambda D: [k+'.'+el for k,subl in D.items() for el in subl]\n",
    "var_names = flatten(state_vars) + flatten(voltages) + flatten(currents)\n",
    "print(var_names)"
   ]
  },
  {
   "cell_type": "markdown",
   "id": "49079c84",
   "metadata": {},
   "source": [
    "#### Base parameters\n",
    "These values are used by PowerFactory for display purposes"
   ]
  },
  {
   "cell_type": "code",
   "execution_count": null,
   "id": "4fe36c62",
   "metadata": {},
   "outputs": [],
   "source": [
    "F      = 50.  # [Hz] default frequency\n",
    "S_base = 1e6  # [VA] base apparent power\n",
    "V_base = PF_bus['Vl']/PF_bus['u']*1e3  # [V] base voltage (line-to-line)\n",
    "I_base = S_base/V_base              # [A] base current\n",
    "Z_base = V_base**2/S_base           # [Ω] base impedance\n",
    "Y_base = 1/Z_base                   # [S] base admittance\n",
    "print('====== System ======')\n",
    "print('S_base = {:7.3f} MVA'.format(S_base*1e-6))\n",
    "print('V_base = {:7.3f} kV'.format(V_base*1e-3))\n",
    "print('I_base = {:7.3f} kA'.format(I_base*1e-3))\n",
    "print('Z_base = {:7.3f} Ω'.format(Z_base))\n",
    "print('Y_base = {:7.3f} S'.format(Y_base))"
   ]
  },
  {
   "cell_type": "markdown",
   "id": "a7775b52",
   "metadata": {},
   "source": [
    "#### Generator parameters\n",
    "Base parameters of the single generator in the network"
   ]
  },
  {
   "cell_type": "code",
   "execution_count": null,
   "id": "6ffc7bce",
   "metadata": {},
   "outputs": [],
   "source": [
    "S_base_gen = S['G1']*1e6                      # [VA]\n",
    "V_base_gen = PF_gen['Vl']*1e3 / PF_gen['u']   # [V]\n",
    "I_base_gen = S_base_gen/V_base_gen            # [A]\n",
    "Z_base_gen = V_base_gen**2 / S_base_gen       # [Ω]\n",
    "Y_base_gen = 1 / Z_base_gen                   # [S]\n",
    "rstr,xstr = 0.2, 0.4                          # [pu] stator parameters\n",
    "R_gen,X_gen = rstr*Z_base_gen,xstr*Z_base_gen # [Ω]\n",
    "Z_gen = R_gen + 1j*X_gen                      # [Ω]\n",
    "Z_gen_pu = Z_gen/Z_base                       # [pu]\n",
    "R_gen_pu,X_gen_pu = Z_gen_pu.real, Z_gen_pu.imag\n",
    "print('===== Generator ====')\n",
    "print('S_base = {:7.3f} MVA'.format(S_base_gen*1e-6))\n",
    "print('V_base = {:7.3f} kV'.format(V_base_gen*1e-3))\n",
    "print('I_base = {:7.3f} kA'.format(I_base_gen*1e-3))\n",
    "print('Z_base = {:7.3f} Ω'.format(Z_base_gen))\n",
    "print('Y_base = {:7.3f} S'.format(Y_base_gen))"
   ]
  },
  {
   "cell_type": "markdown",
   "id": "8718dbc1",
   "metadata": {},
   "source": [
    "#### Load parameters\n",
    "The p.u. values of the load impedance are referred to the system base."
   ]
  },
  {
   "cell_type": "code",
   "execution_count": null,
   "id": "2a7c8e03",
   "metadata": {},
   "outputs": [],
   "source": [
    "G = PF_load['P']*1e6 / (PF_bus['Vl']*1e3)**2  # [S]\n",
    "B = -PF_load['Q']*1e6 / (PF_bus['Vl']*1e3)**2 # [S]\n",
    "Y_load = G + 1j*B # [S]\n",
    "Z_load = 1/Y_load # [Ω]\n",
    "G_pu,B_pu = G/Y_base, B/Y_base # [pu]\n",
    "print('========== Load =========')\n",
    "print('G = {:7.3f} S, {:7.3f} pu'.format(G, G_pu))\n",
    "print('B = {:7.3f} S, {:7.3f} pu'.format(B, B_pu))"
   ]
  },
  {
   "cell_type": "markdown",
   "id": "27dd636e",
   "metadata": {},
   "source": [
    "## Power flow results\n",
    "#### Generator"
   ]
  },
  {
   "cell_type": "code",
   "execution_count": null,
   "id": "366359db",
   "metadata": {},
   "outputs": [],
   "source": [
    "print('     P = {:7.3f} MW'.format(PF_gen['P']))\n",
    "print('     Q = {:7.3f} Mvar'.format(PF_gen['Q']))\n",
    "print('     u = {:7.3f} pu'.format(PF_gen['u']))\n",
    "print('    ur = {:7.3f} pu'.format(PF_gen['ur']))\n",
    "print('    ui = {:7.3f} pu'.format(PF_gen['ui']))\n",
    "print(' V_l2l = {:7.3f} kV'.format(PF_gen['Vl']))\n",
    "print(' V_l2g = {:7.3f} kV'.format(PF_gen['V']))\n",
    "print('   V_ϕ = {:7.3f} deg'.format(PF_gen['phiu']))\n",
    "print('     I = {:7.3f} kA'.format(PF_gen['I']))\n",
    "print('     i = {:7.3f} pu'.format(PF_gen['i']))\n",
    "print('    ir = {:7.3f} pu'.format(PF_gen['ir']))\n",
    "print('    ii = {:7.3f} pu'.format(PF_gen['ii']))"
   ]
  },
  {
   "cell_type": "markdown",
   "id": "5492d69b",
   "metadata": {},
   "source": [
    "#### Load"
   ]
  },
  {
   "cell_type": "code",
   "execution_count": null,
   "id": "fc2d7b22",
   "metadata": {},
   "outputs": [],
   "source": [
    "print('     P = {:7.3f} MW'.format(PF_load['P']))\n",
    "print('     Q = {:7.3f} Mvar'.format(PF_load['Q']))\n",
    "print('     u = {:7.3f} pu'.format(PF_load['u']))\n",
    "print('    ur = {:7.3f} pu'.format(PF_load['ur']))\n",
    "print('    ui = {:7.3f} pu'.format(PF_load['ui']))\n",
    "print(' V_l2l = {:7.3f} kV'.format(PF_load['Vl']))\n",
    "print(' V_l2g = {:7.3f} kV'.format(PF_load['V']))\n",
    "print('   V_ϕ = {:7.3f} deg'.format(PF_load['phiu']))\n",
    "print('     I = {:7.3f} kA'.format(PF_load['I']))\n",
    "print('     i = {:7.3f} pu'.format(PF_load['i']))\n",
    "print('    ir = {:7.3f} pu'.format(PF_load['ir']))\n",
    "print('    ii = {:7.3f} pu'.format(PF_load['ii']))"
   ]
  },
  {
   "cell_type": "markdown",
   "id": "5d086a90",
   "metadata": {},
   "source": [
    "#### Bus"
   ]
  },
  {
   "cell_type": "code",
   "execution_count": null,
   "id": "5ed526f8",
   "metadata": {},
   "outputs": [],
   "source": [
    "print('     u = {:7.3f} pu'.format(PF_bus['u']))\n",
    "print('    ur = {:7.3f} pu'.format(PF_bus['ur']))\n",
    "print('    ui = {:7.3f} pu'.format(PF_bus['ui']))\n",
    "print(' V_l2l = {:7.3f} kV'.format(PF_bus['Vl']))\n",
    "print(' V_l2g = {:7.3f} kV'.format(PF_bus['V']))\n",
    "print('     ϕ = {:7.3f} deg'.format(PF_bus['phi']))"
   ]
  },
  {
   "cell_type": "code",
   "execution_count": null,
   "id": "4a1f3645",
   "metadata": {},
   "outputs": [],
   "source": [
    "stop = len(var_names)\n",
    "print_matrix(J[:stop,:stop], var_names, 'J.out' if stop > 6 else None)"
   ]
  },
  {
   "cell_type": "code",
   "execution_count": null,
   "id": "513ebe20",
   "metadata": {},
   "outputs": [],
   "source": [
    "J_sub_1 = np.array([\n",
    "    [0., 0., G_pu, -B_pu, -1., 0.],\n",
    "    [0., 0., B_pu,  G_pu, 0., -1.]\n",
    "])\n",
    "\n",
    "V = (Z_gen/Z_base_gen) * (PF_gen['ir'] + 1j*PF_gen['ii'])\n",
    "e = (PF_bus['ur'] + 1j*PF_bus['ui']) + V\n",
    "E0,ϕg = np.abs(e), np.angle(e)\n",
    "J_sub_2 = np.array([\n",
    "    [0.,  E0*np.sin(ϕg), 1., 0., R_gen_pu, -X_gen_pu],\n",
    "    [0., -E0*np.cos(ϕg), 0., 1., X_gen_pu,  R_gen_pu]\n",
    "])"
   ]
  },
  {
   "cell_type": "code",
   "execution_count": null,
   "id": "6d51806e",
   "metadata": {},
   "outputs": [],
   "source": [
    "J_guess = np.zeros((stop,stop))\n",
    "J_guess[2:4,:] = J_sub_1\n",
    "J_guess[4:6,:] = J_sub_2\n",
    "print_matrix(J_guess, var_names, 'J_guess.out' if stop > 6 else None)"
   ]
  }
 ],
 "metadata": {
  "kernelspec": {
   "display_name": "Python 3 (ipykernel)",
   "language": "python",
   "name": "python3"
  },
  "language_info": {
   "codemirror_mode": {
    "name": "ipython",
    "version": 3
   },
   "file_extension": ".py",
   "mimetype": "text/x-python",
   "name": "python",
   "nbconvert_exporter": "python",
   "pygments_lexer": "ipython3",
   "version": "3.10.9"
  }
 },
 "nbformat": 4,
 "nbformat_minor": 5
}
