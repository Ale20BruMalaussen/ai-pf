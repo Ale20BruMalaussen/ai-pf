{
 "cells": [
  {
   "cell_type": "code",
   "execution_count": null,
   "id": "66edd5da",
   "metadata": {},
   "outputs": [],
   "source": [
    "import os\n",
    "import re\n",
    "import sys\n",
    "import pickle\n",
    "import numpy as np\n",
    "from numpy.random import RandomState, SeedSequence, MT19937\n",
    "import matplotlib.pyplot as plt\n",
    "\n",
    "powerfactory_path = r'C:\\Program Files\\DIgSILENT\\PowerFactory 2020 SP4\\Python\\3.8'\n",
    "if powerfactory_path not in sys.path:\n",
    "    sys.path.append(powerfactory_path)\n",
    "import powerfactory as pf\n",
    "\n",
    "from pfcommon import *\n",
    "\n",
    "cmap_name = 'viridis'"
   ]
  },
  {
   "cell_type": "code",
   "execution_count": null,
   "id": "1b5714f5",
   "metadata": {},
   "outputs": [],
   "source": [
    "app = pf.GetApplication()\n",
    "if app is None:\n",
    "    raise Exception('Cannot get PowerFactory application')\n",
    "else:\n",
    "    print('Successfully obtained PowerFactory application.')"
   ]
  },
  {
   "cell_type": "code",
   "execution_count": null,
   "id": "e26c6cb3",
   "metadata": {},
   "outputs": [],
   "source": [
    "project_name = '\\\\Terna_Inerzia\\\\39 Bus New England System'\n",
    "err = app.ActivateProject(project_name)\n",
    "if err:\n",
    "    raise Exception(f'Cannot activate project {project_name}')\n",
    "print(f'Successfully activated project {project_name}.')"
   ]
  },
  {
   "cell_type": "code",
   "execution_count": null,
   "id": "9b1fb135",
   "metadata": {},
   "outputs": [],
   "source": [
    "project = app.GetActiveProject()\n",
    "if project is None:\n",
    "    raise Exception('Cannot get active project')\n",
    "print('Successfully obtained active project.')"
   ]
  },
  {
   "cell_type": "code",
   "execution_count": null,
   "id": "358fdad9",
   "metadata": {},
   "outputs": [],
   "source": [
    "project_folders = {}\n",
    "for folder_name in ('study',):\n",
    "    project_folders[folder_name] = app.GetProjectFolder(folder_name)\n",
    "    if project_folders[folder_name] is None:\n",
    "        raise Exception(f'No folder \"{folder_name}\" present')\n",
    "    print(f'Successfully obtained folder \"{folder_name}\".')"
   ]
  },
  {
   "cell_type": "code",
   "execution_count": null,
   "id": "f599ec09",
   "metadata": {},
   "outputs": [],
   "source": [
    "generators = app.GetCalcRelevantObjects('*.ElmSym')\n",
    "lines = app.GetCalcRelevantObjects('*.ElmLne')\n",
    "buses = app.GetCalcRelevantObjects('*.ElmTerm')\n",
    "loads = app.GetCalcRelevantObjects('*.ElmLod')\n",
    "n_generators, n_lines, n_buses, n_loads = len(generators), len(lines), len(buses), len(loads)\n",
    "print(f'There are {n_generators} generators.')\n",
    "print(f'There are {n_lines} lines.')\n",
    "print(f'There are {n_buses} buses.')\n",
    "print(f'There are {n_loads} loads.')"
   ]
  },
  {
   "cell_type": "code",
   "execution_count": null,
   "id": "9f04f888",
   "metadata": {},
   "outputs": [],
   "source": [
    "for line in lines:\n",
    "    line_type = line.GetAttribute('typ_id')\n",
    "    vrating = line_type.GetAttribute('uline')\n",
    "    if False: print(f'{line.loc_name}: Vrating = {vrating:6.1f} kV.')"
   ]
  },
  {
   "cell_type": "code",
   "execution_count": null,
   "id": "4d19ed75",
   "metadata": {},
   "outputs": [],
   "source": [
    "P_gen = {}\n",
    "S_gen = {}\n",
    "H_gen = {}\n",
    "\n",
    "default_H = {\n",
    "    1:  5.0,\n",
    "    2:  4.33,\n",
    "    3:  4.47,\n",
    "    4:  3.57,\n",
    "    5:  4.33,\n",
    "    6:  4.35,\n",
    "    7:  3.77,\n",
    "    8:  3.47,\n",
    "    9:  3.45,\n",
    "    10: 4.20\n",
    "}\n",
    "coeff = 1\n",
    "H = {k: coeff*v for k,v in default_H.items()}\n",
    "for generator in generators:\n",
    "    i = get_ID(generator)\n",
    "    generator_type = generator.GetAttribute('typ_id')\n",
    "    generator_type.h = H[i]\n",
    "    P_gen[i] = generator.GetAttribute('pgini')\n",
    "    S_gen[i] = generator_type.GetAttribute('sgn')\n",
    "    H_gen[i] = generator_type.GetAttribute('h')\n",
    "    print(f'{generator.loc_name}: P = {P_gen[i]:4.0f} MW, S = {S_gen[i]:5.0f} MVA, inertia = {H_gen[i]:5.2f} s.')"
   ]
  },
  {
   "cell_type": "code",
   "execution_count": null,
   "id": "4a3f9267",
   "metadata": {},
   "outputs": [],
   "source": [
    "areas_map = {\n",
    "    1: [2, 3, 10],\n",
    "    2: [4, 5, 6, 7],\n",
    "    3: [8, 9],\n",
    "    4: [1]\n",
    "}\n",
    "H_area = {}   # inertia\n",
    "E_area = {}   # energy\n",
    "M_area = {}   # momentum\n",
    "for area_id,generator_ids in areas_map.items():\n",
    "    num, den = 0,0\n",
    "    for generator_id in generator_ids:\n",
    "        num += S_gen[generator_id] * H_gen[generator_id]\n",
    "        den += S_gen[generator_id]\n",
    "    H_area[area_id] = num / den \n",
    "    E_area[area_id] = num * 1e-3\n",
    "    M_area[area_id] = 2 * num * 1e-3 / 60\n",
    "print('Area inertias:  [{}] s.'.format(', '.join(list(map(lambda s: f'{s:5.2f}', H_area.values())))))\n",
    "print('Area energies:  [{}] GW s.'.format(', '.join(list(map(lambda s: f'{s:5.2f}', E_area.values())))))\n",
    "print('Area momentums: [{}] GW s^2.'.format(', '.join(list(map(lambda s: f'{s:5.2f}', M_area.values())))))"
   ]
  },
  {
   "cell_type": "code",
   "execution_count": null,
   "id": "2d3882fc",
   "metadata": {},
   "outputs": [],
   "source": [
    "P_load = {}\n",
    "Q_load = {}\n",
    "for load in loads:\n",
    "    i = get_ID(load)\n",
    "    P_load[i] = load.GetAttribute('plini')\n",
    "    Q_load[i] = load.GetAttribute('qlini')\n",
    "    print(f'{load.loc_name}: P = {P_load[i]:7.2f} MW, Q = {Q_load[i]:6.2f} MVA')"
   ]
  },
  {
   "cell_type": "code",
   "execution_count": null,
   "id": "44e84b26",
   "metadata": {},
   "outputs": [],
   "source": [
    "Vrating_bus = {}\n",
    "for bus in buses:\n",
    "    i = get_ID(bus)\n",
    "    Vrating_bus[i] = bus.GetAttribute('uknom')\n",
    "    print(f'{bus.loc_name}: Vrating = {Vrating_bus[i]:7.2f} kV')"
   ]
  },
  {
   "cell_type": "markdown",
   "id": "110bd51a",
   "metadata": {},
   "source": [
    "## Load flow analysis"
   ]
  },
  {
   "cell_type": "code",
   "execution_count": null,
   "id": "efd22464",
   "metadata": {},
   "outputs": [],
   "source": [
    "study_case_name = '1. Power Flow'\n",
    "lf_res = run_load_flow(app, project_folders['study'], generators, loads, buses, study_case_name)\n",
    "print_load_flow(lf_res)"
   ]
  },
  {
   "cell_type": "markdown",
   "id": "6de037f3",
   "metadata": {},
   "source": [
    "## Save the data"
   ]
  },
  {
   "cell_type": "code",
   "execution_count": null,
   "id": "2e458c1a",
   "metadata": {},
   "outputs": [],
   "source": [
    "data = {\n",
    "    'P_gen': P_gen, 'S_gen': S_gen, 'H_gen': H_gen,\n",
    "    'areas_map': areas_map,\n",
    "    'E_area': E_area, 'M_area': M_area, 'H_area': H_area,\n",
    "    'P_load': P_load, 'Q_load': Q_load,\n",
    "    'Vrating_bus': Vrating_bus,\n",
    "    'PF': lf_res\n",
    "}\n",
    "pickle.dump(data, open('IEEE39_load_flow_digsilent.pkl','wb'))"
   ]
  }
 ],
 "metadata": {
  "kernelspec": {
   "display_name": "Python 3",
   "language": "python",
   "name": "python3"
  },
  "language_info": {
   "codemirror_mode": {
    "name": "ipython",
    "version": 3
   },
   "file_extension": ".py",
   "mimetype": "text/x-python",
   "name": "python",
   "nbconvert_exporter": "python",
   "pygments_lexer": "ipython3",
   "version": "3.8.8"
  }
 },
 "nbformat": 4,
 "nbformat_minor": 5
}
