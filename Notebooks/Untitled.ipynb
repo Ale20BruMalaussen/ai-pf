{
 "cells": [
  {
   "cell_type": "code",
   "execution_count": null,
   "id": "81e17865",
   "metadata": {},
   "outputs": [],
   "source": [
    "import os\n",
    "import numpy as np\n",
    "import matplotlib.pyplot as plt\n",
    "import seaborn as sns"
   ]
  },
  {
   "cell_type": "code",
   "execution_count": null,
   "id": "174260ed",
   "metadata": {},
   "outputs": [],
   "source": [
    "model_name = 'SM_with_load'\n",
    "dynamic = False\n",
    "load_type = 'const_Z'\n",
    "V_gen_pu = None\n",
    "if not dynamic and load_type != 'const_Z':\n",
    "    raise Exception('Load type must be \"const_Z\" if load is static')\n",
    "expt_name = '{}_{}_{}'.format('dynamic' if dynamic else 'static',\n",
    "                              'loads' if 'loads' in model_name else 'load',\n",
    "                              load_type)\n",
    "if dynamic and load_type == 'const_Z' and V_gen_pu is not None:\n",
    "    expt_name += '_Vgen={:.2f}_pu'.format(V_gen_pu)\n",
    "folder = os.path.join('..','..','modal_analysis',model_name,expt_name)\n",
    "filename = os.path.join(folder, 'SM_with_load_tran.npz')\n",
    "blob = np.load(filename, allow_pickle=True)\n",
    "data = blob['data'].item()\n",
    "time = blob['time']\n",
    "ur,ui = data['load']['m:u1r:bus1'], data['load']['m:u1i:bus1']\n",
    "U,Ul = data['load']['m:U1:bus1'], data['load']['m:U1l:bus1']\n",
    "phiu = data['load']['m:phiu1:bus1']\n",
    "ir,ii = data['load']['m:i1r:bus1'], data['load']['m:i1i:bus1']\n",
    "I = data['load']['m:I1:bus1']\n",
    "phii = data['load']['m:phii1:bus1']\n",
    "u = np.sqrt(3) * U * np.exp(1j*np.deg2rad(phiu)) # [kV]\n",
    "i = np.sqrt(3) * I * np.exp(1j*np.deg2rad(phii)) # [kA]\n",
    "S = u*i.conjugate()  # [MVA]\n",
    "Y = i/u              # [S]\n",
    "G,B = Y.real,Y.imag  # [s]"
   ]
  },
  {
   "cell_type": "code",
   "execution_count": null,
   "id": "91fff914",
   "metadata": {},
   "outputs": [],
   "source": [
    "PF_load = blob['PF_without_slack'].item()['loads']['LD1']\n",
    "u_PF = np.sqrt(3) * PF_load['V'] * np.exp(1j*np.deg2rad(PF_load['phiu'])) # [kV]\n",
    "i_PF = np.sqrt(3) * PF_load['I'] * np.exp(1j*np.deg2rad(PF_load['phii'])) # [kA]\n",
    "S_PF = u_PF*i_PF.conjugate() # [MVA]\n",
    "Y_PF = i_PF/u_PF             # [S]\n",
    "assert np.abs(S_PF.real - PF_load['P']) < 1e-6\n",
    "assert np.abs(S_PF.imag - PF_load['Q']) < 1e-6\n",
    "print('G = {:.3f} S'.format(Y_PF.real))\n",
    "print('B = {:.3f} S'.format(Y_PF.imag))"
   ]
  },
  {
   "cell_type": "code",
   "execution_count": null,
   "id": "a67b257d",
   "metadata": {},
   "outputs": [],
   "source": [
    "fig,ax = plt.subplots(3, 1, figsize=(5,4), sharex=True)\n",
    "ax[0].plot(time, Ul, 'k', lw=0.5)\n",
    "ax[1].plot(time, I, 'k', lw=0.5)\n",
    "phi = np.unwrap(np.deg2rad(phiu))\n",
    "ylim = [phi.min(), phi.max()]\n",
    "ax[2].plot(time, phi, 'r', lw=1, label=r'$\\phi_U$')\n",
    "phi = np.unwrap(np.deg2rad(phii))\n",
    "ax[2].plot(time, phi, 'g', lw=1, label=r'$\\phi_I$')\n",
    "if phi.min() < ylim[0]: ylim[0] = phi.min()\n",
    "if phi.max() > ylim[1]: ylim[1] = phi.max()\n",
    "ylim = [np.pi*np.floor(ylim[0]/np.pi), np.pi*np.ceil(ylim[1]/np.pi)]\n",
    "ax[2].legend(loc='best', frameon=False)\n",
    "ticks = np.r_[ylim[0] : ylim[1]+0.1 : np.pi]\n",
    "ax[2].set_ylim(ylim)\n",
    "ax[2].set_yticks(ticks)\n",
    "ax[2].set_yticklabels([f'{tick/np.pi:g}π' if tick != 0 else '0' for tick in ticks])\n",
    "ax[2].set_xlabel('Time [s]')\n",
    "ax[0].set_ylabel('Vl [kV]')\n",
    "ax[1].set_ylabel('I [kA]')\n",
    "ax[2].set_ylabel(r'$\\phi$ [rad]')\n",
    "sns.despine()\n",
    "fig.tight_layout()"
   ]
  },
  {
   "cell_type": "code",
   "execution_count": null,
   "id": "21992626",
   "metadata": {},
   "outputs": [],
   "source": [
    "fig,ax = plt.subplots(2, 1, figsize=(5,4), sharex=True)\n",
    "ax[0].plot(time, S.real, 'k', lw=0.5)\n",
    "ax[1].plot(time, S.imag, 'r', lw=0.5)\n",
    "ax[1].set_xlabel('Time [s]')\n",
    "ax[0].set_ylabel('P [MW]')\n",
    "ax[1].set_ylabel('Q [MVAr]')\n",
    "sns.despine()\n",
    "fig.tight_layout()"
   ]
  },
  {
   "cell_type": "code",
   "execution_count": null,
   "id": "62b91c83",
   "metadata": {},
   "outputs": [],
   "source": [
    "fig,ax = plt.subplots(2, 1, figsize=(5,4), sharex=True)\n",
    "ax[0].plot(time, G, 'k', lw=0.5)\n",
    "ax[0].plot(time[[0,-1]], Y_PF.real+np.zeros(2), 'r--', lw=2)\n",
    "ax[1].plot(time, B, 'k', lw=0.5)\n",
    "ax[1].plot(time[[0,-1]], Y_PF.imag+np.zeros(2), 'r--', lw=2)\n",
    "ax[1].set_xlabel('Time [s]')\n",
    "ax[0].set_ylabel('G [S]')\n",
    "ax[1].set_ylabel('B [S]')\n",
    "sns.despine()\n",
    "fig.tight_layout()"
   ]
  }
 ],
 "metadata": {
  "kernelspec": {
   "display_name": "Python 3 (ipykernel)",
   "language": "python",
   "name": "python3"
  },
  "language_info": {
   "codemirror_mode": {
    "name": "ipython",
    "version": 3
   },
   "file_extension": ".py",
   "mimetype": "text/x-python",
   "name": "python",
   "nbconvert_exporter": "python",
   "pygments_lexer": "ipython3",
   "version": "3.10.9"
  }
 },
 "nbformat": 4,
 "nbformat_minor": 5
}
