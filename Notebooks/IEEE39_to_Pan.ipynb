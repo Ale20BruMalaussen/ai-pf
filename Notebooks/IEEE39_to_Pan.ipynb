{
 "cells": [
  {
   "cell_type": "code",
   "execution_count": null,
   "id": "a7ca4352",
   "metadata": {},
   "outputs": [],
   "source": [
    "import re\n",
    "import sys\n",
    "import numpy as np\n",
    "\n",
    "powerfactory_path = r'C:\\Program Files\\DIgSILENT\\PowerFactory 2020 SP4\\Python\\3.8'\n",
    "if powerfactory_path not in sys.path:\n",
    "    sys.path.append(powerfactory_path)\n",
    "import powerfactory as pf\n",
    "\n",
    "try:\n",
    "    from pfcommon import *\n",
    "except:\n",
    "    sys.path.append('..')\n",
    "    from pfcommon import *"
   ]
  },
  {
   "cell_type": "code",
   "execution_count": null,
   "id": "e1388f00",
   "metadata": {
    "scrolled": true
   },
   "outputs": [],
   "source": [
    "app = pf.GetApplication()\n",
    "if app is None:\n",
    "    raise Exception('Cannot get PowerFactory application')\n",
    "else:\n",
    "    print('Successfully obtained PowerFactory application.')"
   ]
  },
  {
   "cell_type": "code",
   "execution_count": null,
   "id": "d4ff9b80",
   "metadata": {},
   "outputs": [],
   "source": [
    "project_name = '\\\\Terna_Inerzia\\\\IEEE39_rnd_load'\n",
    "# project_name = '\\\\Terna_Inerzia\\\\IEEE39_part_rnd_load'\n",
    "# project_name = '\\\\Terna_Inerzia\\\\IEEE39_minimal'\n",
    "err = app.ActivateProject(project_name)\n",
    "if err:\n",
    "    raise Exception(f'Cannot activate project {project_name}')\n",
    "print(f'Successfully activated project {project_name}.')"
   ]
  },
  {
   "cell_type": "code",
   "execution_count": null,
   "id": "6ae069ff",
   "metadata": {},
   "outputs": [],
   "source": [
    "generators = get_objects(app, '*.ElmSym')\n",
    "DSLs = get_objects(app, '*.ElmDsl')\n",
    "AVRs = [dsl for dsl in DSLs if 'AVR' in dsl.loc_name]\n",
    "GOVs = [dsl for dsl in DSLs if 'GOV' in dsl.loc_name]\n",
    "power_plants = [comp_mod for comp_mod in get_objects(app, '*.ElmComp')\n",
    "                if 'Power Plant' in comp_mod.loc_name]\n",
    "lines = get_objects(app, '*.ElmLne')\n",
    "buses = get_objects(app, '*.ElmTerm')\n",
    "loads = get_objects(app, '*.ElmLod')\n",
    "transformers = get_objects(app, '*.ElmTr2')\n",
    "n_generators, n_avrs, n_govs, n_plants = len(generators), len(AVRs), len(GOVs), len(power_plants)\n",
    "n_lines, n_buses, n_loads, n_transformers = len(lines), len(buses), len(loads), len(transformers)\n",
    "print(f'There are {n_plants} power plants.')\n",
    "print(f'There are {n_generators} generators.')\n",
    "print(f'There are {n_avrs} automatic voltage regulators.')\n",
    "print(f'There are {n_govs} turbine governors.')\n",
    "print(f'There are {n_lines} lines.')\n",
    "print(f'There are {n_buses} buses.')\n",
    "print(f'There are {n_loads} loads.')\n",
    "print(f'There are {n_transformers} transformers.')"
   ]
  },
  {
   "cell_type": "code",
   "execution_count": null,
   "id": "3b4845b1",
   "metadata": {},
   "outputs": [],
   "source": [
    "rotor_type = 1 # 0: salient pole, 1: round rotor\n",
    "for gen in generators:\n",
    "    if 'G 10' not in gen.loc_name:\n",
    "        gen.typ_id.iturbo = rotor_type"
   ]
  },
  {
   "cell_type": "code",
   "execution_count": null,
   "id": "f4a603b2",
   "metadata": {
    "scrolled": false
   },
   "outputs": [],
   "source": [
    "load_flow = app.GetFromStudyCase('ComLdf')\n",
    "err = load_flow.Execute()\n",
    "\n",
    "get_name = lambda elem: elem.name\n",
    "\n",
    "powerplants = sorted([PowerPlant(plant) for plant in power_plants], key=lambda elem: elem.gen.name)\n",
    "generators_in_plants_names = [plant.gen.name for plant in powerplants]\n",
    "powergenerators = sorted([PowerGenerator(gen) for gen in generators \n",
    "                          if gen.loc_name not in generators_in_plants_names], key=get_name)\n",
    "powerloads = sorted([PowerLoad(load) for load in loads], key=get_name)\n",
    "powerbuses = sorted([PowerBus(bus) for bus in buses], key=get_name)\n",
    "powertransformers = [PowerTransformer(transformer) for transformer in transformers]\n",
    "powerlines = sorted([PowerLine(line) for line in lines], key=get_name)"
   ]
  },
  {
   "cell_type": "code",
   "execution_count": null,
   "id": "64eb4be0",
   "metadata": {
    "scrolled": true
   },
   "outputs": [],
   "source": [
    "with_power_buses = False\n",
    "output_file = project_name.split('\\\\')[-1].lower() + '_PF'\n",
    "if False:\n",
    "    if rotor_type == 0:\n",
    "        output_file += '_salient_pole'\n",
    "    elif rotor_type == 1:\n",
    "        output_file += '_round_rotor'\n",
    "with open(output_file + '.inc', 'w') as fid:\n",
    "    for plant in powerplants:\n",
    "        fid.write(str(plant) + '\\n\\n')\n",
    "    for gen in powergenerators:\n",
    "        fid.write(str(gen) + '\\n\\n')\n",
    "    for load in powerloads:\n",
    "        fid.write(str(load) + '\\n')\n",
    "    fid.write('\\n')\n",
    "    for line in powerlines:\n",
    "        fid.write(str(line) + '\\n')\n",
    "    fid.write('\\n')\n",
    "    for trans in powertransformers:\n",
    "        fid.write(str(trans) + '\\n')\n",
    "    fid.write('\\n')\n",
    "    if with_power_buses:\n",
    "        for bus in powerbuses:\n",
    "            fid.write(str(bus) + '\\n')"
   ]
  }
 ],
 "metadata": {
  "kernelspec": {
   "display_name": "Python 3 (ipykernel)",
   "language": "python",
   "name": "python3"
  },
  "language_info": {
   "codemirror_mode": {
    "name": "ipython",
    "version": 3
   },
   "file_extension": ".py",
   "mimetype": "text/x-python",
   "name": "python",
   "nbconvert_exporter": "python",
   "pygments_lexer": "ipython3",
   "version": "3.8.8"
  }
 },
 "nbformat": 4,
 "nbformat_minor": 5
}
