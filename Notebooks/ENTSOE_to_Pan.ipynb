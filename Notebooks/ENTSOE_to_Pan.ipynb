{
 "cells": [
  {
   "cell_type": "code",
   "execution_count": null,
   "id": "a7ca4352",
   "metadata": {},
   "outputs": [],
   "source": [
    "import re\n",
    "import sys\n",
    "import numpy as np\n",
    "\n",
    "powerfactory_path = r'C:\\Program Files\\DIgSILENT\\PowerFactory 2020 SP4\\Python\\3.8'\n",
    "if powerfactory_path not in sys.path:\n",
    "    sys.path.append(powerfactory_path)\n",
    "import powerfactory as pf\n",
    "\n",
    "try:\n",
    "    from pfcommon import *\n",
    "except:\n",
    "    sys.path.append('..')\n",
    "    from pfcommon import *"
   ]
  },
  {
   "cell_type": "code",
   "execution_count": null,
   "id": "e1388f00",
   "metadata": {},
   "outputs": [],
   "source": [
    "app = pf.GetApplication()\n",
    "if app is None:\n",
    "    raise Exception('Cannot get PowerFactory application')\n",
    "else:\n",
    "    print('Successfully obtained PowerFactory application.')"
   ]
  },
  {
   "cell_type": "code",
   "execution_count": null,
   "id": "d4ff9b80",
   "metadata": {},
   "outputs": [],
   "source": [
    "project_name = '\\\\Terna_Inerzia\\\\ENTSOE_20221018'\n",
    "err = app.ActivateProject(project_name)\n",
    "if err:\n",
    "    raise Exception(f'Cannot activate project {project_name}')\n",
    "print(f'Successfully activated project {project_name}.')"
   ]
  },
  {
   "cell_type": "raw",
   "id": "b5353745",
   "metadata": {},
   "source": [
    "objs = app.GetCalcRelevantObjects('*.*')\n",
    "for obj in objs:\n",
    "    if obj.loc_name[0].lower() == 'v':\n",
    "        print(obj.loc_name)"
   ]
  },
  {
   "cell_type": "code",
   "execution_count": null,
   "id": "6ae069ff",
   "metadata": {},
   "outputs": [],
   "source": [
    "generators = app.GetCalcRelevantObjects('*.ElmSym')\n",
    "lines = app.GetCalcRelevantObjects('*.ElmLne')\n",
    "buses = app.GetCalcRelevantObjects('*.ElmTerm')\n",
    "loads = app.GetCalcRelevantObjects('*.ElmLod')\n",
    "transformers = app.GetCalcRelevantObjects('*.ElmTr2')\n",
    "shunts = app.GetCalcRelevantObjects('*.ElmShnt')\n",
    "capacitors = app.GetCalcRelevantObjects('*.ElmScap')\n",
    "impedances = app.GetCalcRelevantObjects('*.ElmZpu')\n",
    "n_generators = len(generators)\n",
    "n_lines, n_buses, n_loads, n_transformers = len(lines), len(buses), len(loads), len(transformers)\n",
    "n_shunts, n_capacitors, n_impedances = len(shunts), len(capacitors), len(impedances)\n",
    "print(f'There are {n_generators} generators.')\n",
    "print(f'There are {n_lines} lines.')\n",
    "print(f'There are {n_buses} buses.')\n",
    "print(f'There are {n_loads} loads.')\n",
    "print(f'There are {n_transformers} transformers.')\n",
    "print(f'There are {n_shunts} shunts.')\n",
    "print(f'There are {n_capacitors} series capacitors.')\n",
    "print(f'There are {n_impedances} common impedances.')"
   ]
  },
  {
   "cell_type": "code",
   "execution_count": null,
   "id": "f4a603b2",
   "metadata": {},
   "outputs": [],
   "source": [
    "load_flow = app.GetFromStudyCase('ComLdf')\n",
    "err = load_flow.Execute()\n",
    "\n",
    "get_name = lambda elem: elem.name\n",
    "\n",
    "powergenerators = sorted([PowerGenerator(gen) for gen in generators], key=get_name)\n",
    "powerloads = sorted([PowerLoad(load) for load in loads], key=get_name)\n",
    "powerbuses = sorted([PowerBus(bus) for bus in buses], key=get_name)\n",
    "powertransformers = sorted([PowerTransformer(transformer) for transformer in transformers], key=get_name)\n",
    "powerlines = sorted([PowerLine(line) for line in lines], key=get_name)\n",
    "powershunts = sorted([Shunt(shunt) for shunt in shunts], key=get_name)\n",
    "powercapacitors = sorted([SeriesCapacitor(cap) for cap in capacitors], key=get_name)\n",
    "powerimpedances = sorted([CommonImpedance(imp) for imp in impedances], key=get_name)"
   ]
  },
  {
   "cell_type": "code",
   "execution_count": null,
   "id": "69b7b49a",
   "metadata": {},
   "outputs": [],
   "source": [
    "with open('ENTSOE.inc', 'w') as fid:\n",
    "    for gen in powergenerators:\n",
    "        fid.write(str(gen) + '\\n')\n",
    "    fid.write('\\n')\n",
    "    for load in powerloads:\n",
    "        fid.write(str(load) + '\\n')\n",
    "    fid.write('\\n')\n",
    "    for line in powerlines:\n",
    "        fid.write(str(line) + '\\n')\n",
    "    fid.write('\\n')\n",
    "    for trans in powertransformers:\n",
    "        fid.write(str(trans) + '\\n')\n",
    "    fid.write('\\n')\n",
    "    for bus in powerbuses:\n",
    "        fid.write(str(bus) + '\\n')\n",
    "    fid.write('\\n')\n",
    "    for shunt in powershunts:\n",
    "        fid.write(str(shunt) + '\\n')\n",
    "    fid.write('\\n')\n",
    "    for cap in powercapacitors:\n",
    "        fid.write(str(cap) + '\\n')\n",
    "    fid.write('\\n')\n",
    "    for imp in powerimpedances:\n",
    "        fid.write(str(imp) + '\\n')"
   ]
  }
 ],
 "metadata": {
  "kernelspec": {
   "display_name": "Python 3 (ipykernel)",
   "language": "python",
   "name": "python3"
  },
  "language_info": {
   "codemirror_mode": {
    "name": "ipython",
    "version": 3
   },
   "file_extension": ".py",
   "mimetype": "text/x-python",
   "name": "python",
   "nbconvert_exporter": "python",
   "pygments_lexer": "ipython3",
   "version": "3.8.8"
  }
 },
 "nbformat": 4,
 "nbformat_minor": 5
}
