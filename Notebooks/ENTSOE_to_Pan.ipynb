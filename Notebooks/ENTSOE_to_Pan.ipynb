{
 "cells": [
  {
   "cell_type": "code",
   "execution_count": null,
   "id": "a7ca4352",
   "metadata": {},
   "outputs": [],
   "source": [
    "import re\n",
    "import sys\n",
    "from itertools import chain\n",
    "import numpy as np\n",
    "\n",
    "powerfactory_path = r'C:\\Program Files\\DIgSILENT\\PowerFactory 2020 SP4\\Python\\3.8'\n",
    "if powerfactory_path not in sys.path:\n",
    "    sys.path.append(powerfactory_path)\n",
    "import powerfactory as pf\n",
    "\n",
    "try:\n",
    "    from pfcommon import *\n",
    "except:\n",
    "    sys.path.append('..')\n",
    "    from pfcommon import *"
   ]
  },
  {
   "cell_type": "code",
   "execution_count": null,
   "id": "f97b2143",
   "metadata": {},
   "outputs": [],
   "source": [
    "def get_objects(app, pattern, keep_out_of_service=False):\n",
    "    objs = app.GetCalcRelevantObjects(pattern)\n",
    "    if keep_out_of_service:\n",
    "        return objs\n",
    "    return [obj for obj in objs if not obj.outserv]"
   ]
  },
  {
   "cell_type": "code",
   "execution_count": null,
   "id": "e1388f00",
   "metadata": {},
   "outputs": [],
   "source": [
    "app = pf.GetApplication()\n",
    "if app is None:\n",
    "    raise Exception('Cannot get PowerFactory application')\n",
    "else:\n",
    "    print('Successfully obtained PowerFactory application.')"
   ]
  },
  {
   "cell_type": "code",
   "execution_count": null,
   "id": "d4ff9b80",
   "metadata": {},
   "outputs": [],
   "source": [
    "project_name = '\\\\Terna_Inerzia\\\\ENTSOE_20221018'\n",
    "err = app.ActivateProject(project_name)\n",
    "if err:\n",
    "    raise Exception(f'Cannot activate project {project_name}')\n",
    "print(f'Successfully activated project {project_name}.')"
   ]
  },
  {
   "cell_type": "code",
   "execution_count": null,
   "id": "5d565e1e",
   "metadata": {},
   "outputs": [],
   "source": [
    "generators = get_objects(app, '*.ElmSym')\n",
    "loads = get_objects(app, '*.ElmLod')\n",
    "loads = [load for load in loads if load.plini > 0 and load.qlini > 0]\n",
    "transformers = get_objects(app, '*.ElmTr2')\n",
    "shunts = get_objects(app, '*.ElmShnt')\n",
    "capacitors = get_objects(app, '*.ElmScap')\n",
    "impedances = get_objects(app, '*.ElmZpu')\n",
    "lines = get_objects(app, '*.ElmLne')\n",
    "n_generators, n_loads, n_transformers = len(generators), len(loads), len(transformers)\n",
    "n_shunts, n_capacitors, n_impedances = len(shunts), len(capacitors), len(impedances)\n",
    "n_lines = len(lines)\n",
    "print(f'There are {n_generators} generators.')\n",
    "print(f'There are {n_loads} loads.')\n",
    "print(f'There are {n_shunts} shunts.')\n",
    "print(f'There are {n_capacitors} series capacitors.')\n",
    "print(f'There are {n_impedances} common impedances.')\n",
    "print(f'There are {n_lines} lines.')\n",
    "print(f'There are {n_transformers} transformers.')"
   ]
  },
  {
   "cell_type": "code",
   "execution_count": null,
   "id": "c2374ee7",
   "metadata": {},
   "outputs": [],
   "source": [
    "bus_names = []\n",
    "for obj in chain(lines, capacitors, impedances):\n",
    "    for i in 1,2:\n",
    "        bus_name = obj.GetAttribute(f'bus{i}').cterm.loc_name\n",
    "        if bus_name not in bus_names:\n",
    "            bus_names.append(bus_name)\n",
    "for obj in chain(generators, loads, shunts):\n",
    "    bus_name = obj.bus1.cterm.loc_name\n",
    "    if bus_name not in bus_names:\n",
    "        bus_names.append(bus_name)\n",
    "for obj in transformers:\n",
    "    for c in 'hl':\n",
    "        bus_name = obj.GetAttribute(f'bus{c}v').cterm.loc_name\n",
    "        if bus_name not in bus_names:\n",
    "            bus_names.append(bus_name)\n",
    "all_in_service_buses = get_objects(app, '*.ElmTerm')\n",
    "buses = [bus for bus in all_in_service_buses if bus.loc_name in bus_names]\n",
    "n_buses = len(buses)\n",
    "print(f'There are {n_buses} buses.')"
   ]
  },
  {
   "cell_type": "code",
   "execution_count": null,
   "id": "f4a603b2",
   "metadata": {},
   "outputs": [],
   "source": [
    "load_flow = app.GetFromStudyCase('ComLdf')\n",
    "err = load_flow.Execute()\n",
    "\n",
    "get_name = lambda elem: elem.name\n",
    "\n",
    "powergenerators = sorted([PowerGenerator(gen) for gen in generators], key=get_name)\n",
    "powerloads = sorted([PowerLoad(load) for load in loads], key=get_name)\n",
    "powerbuses = sorted([PowerBus(bus) for bus in buses], key=get_name)\n",
    "powertransformers = sorted([PowerTransformer(transformer, voltages_from='bus') for transformer in transformers], key=get_name)\n",
    "powerlines = sorted([PowerLine(line) for line in lines], key=get_name)\n",
    "powershunts = sorted([Shunt(shunt) for shunt in shunts], key=get_name)\n",
    "powercapacitors = sorted([SeriesCapacitor(cap) for cap in capacitors], key=get_name)\n",
    "powerimpedances = sorted([CommonImpedance(imp) for imp in impedances], key=get_name)"
   ]
  },
  {
   "cell_type": "code",
   "execution_count": null,
   "id": "69b7b49a",
   "metadata": {},
   "outputs": [],
   "source": [
    "with open('ENTSOE.inc', 'w') as fid:\n",
    "    for gen in powergenerators:\n",
    "        fid.write(str(gen) + '\\n')\n",
    "    fid.write('\\n')\n",
    "    for load in powerloads:\n",
    "        fid.write(str(load) + '\\n')\n",
    "    fid.write('\\n')\n",
    "    for line in powerlines:\n",
    "        fid.write(str(line) + '\\n')\n",
    "    fid.write('\\n')\n",
    "    for trans in powertransformers:\n",
    "        fid.write(str(trans) + '\\n')\n",
    "    fid.write('\\n')\n",
    "    for bus in powerbuses:\n",
    "        fid.write(str(bus) + '\\n')\n",
    "    fid.write('\\n')\n",
    "    for shunt in powershunts:\n",
    "        fid.write(str(shunt) + '\\n')\n",
    "    fid.write('\\n')\n",
    "    for cap in powercapacitors:\n",
    "        fid.write(str(cap) + '\\n')\n",
    "    fid.write('\\n')\n",
    "    for imp in powerimpedances:\n",
    "        fid.write(str(imp) + '\\n')"
   ]
  }
 ],
 "metadata": {
  "kernelspec": {
   "display_name": "Python 3 (ipykernel)",
   "language": "python",
   "name": "python3"
  },
  "language_info": {
   "codemirror_mode": {
    "name": "ipython",
    "version": 3
   },
   "file_extension": ".py",
   "mimetype": "text/x-python",
   "name": "python",
   "nbconvert_exporter": "python",
   "pygments_lexer": "ipython3",
   "version": "3.8.8"
  }
 },
 "nbformat": 4,
 "nbformat_minor": 5
}
