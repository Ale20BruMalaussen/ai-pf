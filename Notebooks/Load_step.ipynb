{
 "cells": [
  {
   "cell_type": "code",
   "execution_count": null,
   "id": "82976875",
   "metadata": {},
   "outputs": [],
   "source": [
    "import os\n",
    "import sys\n",
    "import numpy as np\n",
    "import matplotlib.pyplot as plt\n",
    "import seaborn as sns\n",
    "%matplotlib inline"
   ]
  },
  {
   "cell_type": "code",
   "execution_count": null,
   "id": "ce6d29f8",
   "metadata": {},
   "outputs": [],
   "source": [
    "data_dir = '..'\n",
    "project_name = 'V2020_Rete_Sardegna_2021_06_03cr'\n",
    "load_name = 'EqX_MIMC_I2201TR1_____LOAD____'\n",
    "dP, dQ = 0.5, 0.0\n",
    "data_file = '{}_{}_{:.1f}_{:.1f}.npz'.format(project_name, load_name, dP, dQ)\n",
    "blob = np.load(os.path.join(data_dir, data_file), allow_pickle=True)\n",
    "time = blob['time']\n",
    "data = blob['data'].item()\n",
    "speed = data['gen']['s:xspeed']\n",
    "power = data['gen']['s:pgt']\n",
    "device_names = blob['device_names'].item()\n",
    "gen_names = device_names['gen']\n",
    "n_generators = power.shape[1]\n",
    "t_event = 10. # [s]"
   ]
  },
  {
   "cell_type": "code",
   "execution_count": null,
   "id": "915371a3",
   "metadata": {},
   "outputs": [],
   "source": [
    "attributes = blob['attributes'].item()\n",
    "S = np.array(attributes['gen']['typ_id.sgn'])\n",
    "\n",
    "before = np.where(time < t_event)[0][-1]\n",
    "ΔP = np.squeeze(np.diff(power[[before,-1],:], axis=0))\n",
    "ΔPgen = S @ ΔP\n",
    "\n",
    "P,Q = data['load']['m:Psum:bus1'], data['load']['m:Qsum:bus1']\n",
    "ΔPload = P[-1] - P[0]\n",
    "ratio = ΔPload/P[0]*100\n",
    "print('ΔP load: {:.2f} MW ({}{:.2f}%).'.format(ΔPload, '+' if ratio > 0 else '', ratio))\n",
    "print('ΔP generators: {:.2f} MW.'.format(ΔPgen))"
   ]
  },
  {
   "cell_type": "code",
   "execution_count": null,
   "id": "672793d3",
   "metadata": {},
   "outputs": [],
   "source": [
    "fig,ax = plt.subplots(2, 1, sharex=True, figsize=(6,4))\n",
    "ax[0].plot(time, P, 'k', lw=1)\n",
    "ax[1].plot(time, Q, 'r', lw=1)\n",
    "ax[1].set_xlabel('Time [s]')\n",
    "ax[0].set_ylabel('P [MW]')\n",
    "ax[1].set_ylabel('Q [MVAr]')\n",
    "sns.despine()"
   ]
  },
  {
   "cell_type": "code",
   "execution_count": null,
   "id": "2f0c57f5",
   "metadata": {},
   "outputs": [],
   "source": [
    "cols = 3\n",
    "rows = n_generators // cols\n",
    "fig,ax = plt.subplots(rows, cols, figsize=(cols*3, rows*1.5), sharex=True, sharey=True)\n",
    "idx, = np.where(time > t_event - 2)\n",
    "for k in range(n_generators):\n",
    "    i,j = k//cols, k%cols\n",
    "    ax[i,j].plot(time[idx[[0,-1]]], speed[idx[0],k]+np.zeros(2), 'r--')\n",
    "    ax[i,j].plot(time[idx], speed[idx,k], 'k', lw=1)\n",
    "    ax[i,j].set_title(gen_names[k], fontsize=9)\n",
    "for a in ax[-1,:]:\n",
    "    a.set_xlabel('Time [s]')\n",
    "#     a.set_xticks(np.r_[t_event : time[-1] : 20])\n",
    "for a in ax[:,0]:\n",
    "    a.set_ylabel('ω [p.u.]')\n",
    "sns.despine()\n",
    "fig.tight_layout()"
   ]
  },
  {
   "cell_type": "code",
   "execution_count": null,
   "id": "1894772b",
   "metadata": {},
   "outputs": [],
   "source": [
    "cols = 3\n",
    "rows = n_generators // cols\n",
    "fig,ax = plt.subplots(rows, cols, figsize=(cols*3, rows*1.5), sharex=True)\n",
    "idx, = np.where(time > t_event - 2)\n",
    "for k in range(n_generators):\n",
    "    i,j = k//cols, k%cols\n",
    "    ax[i,j].plot(time[idx[[0,-1]]], power[idx[0],k]+np.zeros(2), 'r--')\n",
    "    ax[i,j].plot(time[idx], power[idx,k], 'k', lw=1)\n",
    "    ax[i,j].set_title(gen_names[k], fontsize=9)\n",
    "for a in ax[-1,:]:\n",
    "    a.set_xlabel('Time [s]')\n",
    "#     a.set_xticks(np.r_[t_event : time[-1] : 20])\n",
    "for a in ax[:,0]:\n",
    "    a.set_ylabel('Power [p.u.]')\n",
    "sns.despine()\n",
    "fig.tight_layout()"
   ]
  }
 ],
 "metadata": {
  "kernelspec": {
   "display_name": "Python 3 (ipykernel)",
   "language": "python",
   "name": "python3"
  },
  "language_info": {
   "codemirror_mode": {
    "name": "ipython",
    "version": 3
   },
   "file_extension": ".py",
   "mimetype": "text/x-python",
   "name": "python",
   "nbconvert_exporter": "python",
   "pygments_lexer": "ipython3",
   "version": "3.10.9"
  }
 },
 "nbformat": 4,
 "nbformat_minor": 5
}
