{
 "cells": [
  {
   "cell_type": "code",
   "execution_count": null,
   "id": "d10b71db",
   "metadata": {},
   "outputs": [],
   "source": [
    "import numpy as np\n",
    "from scipy.fft import fft, fftfreq\n",
    "import seaborn as sns\n",
    "import matplotlib.pyplot as plt\n",
    "from matplotlib.ticker import FixedLocator, NullLocator, FixedFormatter"
   ]
  },
  {
   "cell_type": "code",
   "execution_count": null,
   "id": "863bb0bd",
   "metadata": {},
   "outputs": [],
   "source": [
    "config_IDs = 44,17\n",
    "blob = {ID: np.load(f'../V2020_Rete_Sardegna_2021_06_03cr_stoch_tran_{ID}.npz', allow_pickle=True) for ID in config_IDs}\n",
    "H = {ID: blob[ID]['inertia'].item() for ID in config_IDs}\n",
    "E = {ID: blob[ID]['energy'].item() for ID in config_IDs}\n",
    "M = {ID: blob[ID]['momentum'].item() for ID in config_IDs}\n",
    "\n",
    "data = {ID: blob[ID]['data'].item() for ID in config_IDs}\n",
    "time = {ID: blob[ID]['time'] for ID in config_IDs}\n",
    "speed = {ID: data[ID]['gen']['s:xspeed'] for ID in config_IDs}\n",
    "V = {ID: np.sqrt(data[ID]['bus']['m:ur']**2 + data[ID]['bus']['m:ui']**2) for ID in config_IDs}\n",
    "Vnorm = {}\n",
    "freq,Vf = {}, {}\n",
    "for ID in config_IDs:\n",
    "    n_samples = V[ID].shape[0]\n",
    "    m = np.tile(V[ID].mean(axis=0), (n_samples, 1))\n",
    "    s = np.tile(V[ID].std(axis=0), (n_samples, 1))\n",
    "    Vnorm[ID] = (V[ID] - m) / s"
   ]
  },
  {
   "cell_type": "code",
   "execution_count": null,
   "id": "d82b6a9d",
   "metadata": {},
   "outputs": [],
   "source": [
    "speedf, Vf = {}, {}\n",
    "dur = 60 # [s]\n",
    "dt = time[config_IDs[0]][1] - time[config_IDs[0]][0]\n",
    "n_samples = int(dur/dt)\n",
    "freq = fftfreq(n_samples, dt)[:n_samples//2]\n",
    "for ID in config_IDs:\n",
    "    speedf[ID] = np.zeros((freq.size, speed[ID].shape[1]))\n",
    "    for j in range(speed[ID].shape[1]):\n",
    "        n_trials = speed[ID].shape[0] // n_samples\n",
    "        X = np.reshape(speed[ID][:n_trials*n_samples,j], (n_trials, n_samples))\n",
    "        tmp = fft(X-1)\n",
    "        speedf[ID][:,j] = np.mean(2.0 / n_samples * np.abs(tmp[:,:n_samples//2]), axis=0)\n",
    "        \n",
    "    Vf[ID] = np.zeros((freq.size, Vnorm[ID].shape[1]))\n",
    "    for j in range(Vnorm[ID].shape[1]):\n",
    "        n_trials = Vnorm[ID].shape[0] // n_samples\n",
    "        X = np.reshape(Vnorm[ID][:n_trials*n_samples,j], (n_trials, n_samples))\n",
    "        tmp = fft(X)\n",
    "        Vf[ID][:,j] = np.mean(2.0 / n_samples * np.abs(tmp[:,:n_samples//2]), axis=0)"
   ]
  },
  {
   "cell_type": "code",
   "execution_count": null,
   "id": "cad34c05",
   "metadata": {},
   "outputs": [],
   "source": [
    "fig,ax = plt.subplots(2, 1, sharex=True, figsize=(6,6))\n",
    "j = 0\n",
    "col = {44: 'k', 17: 'r'}\n",
    "lw = 0.5\n",
    "for ID in config_IDs:\n",
    "    ax[0].plot(time[ID], speed[ID][:,j], col[ID], lw=lw, label='H = {:.2f}s'.format(H[ID]))\n",
    "    ax[1].plot(time[ID], Vnorm[ID][:,j], col[ID], lw=lw)\n",
    "ax[0].legend(loc='best')\n",
    "ax[0].set_xlim([100, 120])\n",
    "ax[-1].set_xlabel('Time [s]')\n",
    "ax[0].set_ylabel('ω [p.u.]')\n",
    "ax[1].set_ylabel('V norm.')\n",
    "sns.despine()\n",
    "fig.tight_layout()"
   ]
  },
  {
   "cell_type": "code",
   "execution_count": null,
   "id": "01067532",
   "metadata": {},
   "outputs": [],
   "source": [
    "n_bins = 101\n",
    "edges = np.linspace(-5, 5, n_bins)\n",
    "N = {ID: np.zeros((n_bins-1, Vnorm[ID].shape[1])) for ID in config_IDs}\n",
    "for ID in config_IDs:\n",
    "    for j in range(Vnorm[ID].shape[1]):\n",
    "        N[ID][:,j],_ = np.histogram(Vnorm[ID][:,j], bins=edges, density=True)"
   ]
  },
  {
   "cell_type": "code",
   "execution_count": null,
   "id": "5ec5dcf1",
   "metadata": {},
   "outputs": [],
   "source": [
    "rows,cols = 2,5\n",
    "device_names = blob[17]['device_names'].item()['bus']\n",
    "fig,ax = plt.subplots(rows, cols, figsize=(cols*2, rows*2), sharex=True, sharey=True)\n",
    "for ID in config_IDs:\n",
    "    names = blob[ID]['device_names'].item()['bus']\n",
    "    for k,name in enumerate(device_names):\n",
    "        i,j = k//cols, k%cols\n",
    "        idx = names.index(name)\n",
    "        ax[i,j].plot(edges[:-1], N[ID][:,idx], col[ID], lw=1)\n",
    "        ax[i,j].set_title(name.split('___')[0], fontsize=8)\n",
    "for a in ax[-1,:]:\n",
    "    a.set_xlabel('V norm.')\n",
    "for a in ax[:,0]:\n",
    "    a.set_ylabel('PDF')\n",
    "sns.despine()\n",
    "fig.tight_layout()"
   ]
  },
  {
   "cell_type": "code",
   "execution_count": null,
   "id": "80a4dbac",
   "metadata": {},
   "outputs": [],
   "source": [
    "rows,cols = 2,5\n",
    "device_names = blob[17]['device_names'].item()['bus']\n",
    "fig,ax = plt.subplots(rows, cols, figsize=(cols*2, rows*2), sharex=True, sharey=True)\n",
    "ticks = np.array([0.01, 0.1, 1, 10, 100])\n",
    "for ID in config_IDs:\n",
    "    names = blob[ID]['device_names'].item()['bus']\n",
    "    for k,name in enumerate(device_names):\n",
    "        i,j = k//cols, k%cols\n",
    "        idx = names.index(name)\n",
    "        ax[i,j].semilogx(freq, 20*np.log10(Vf[ID][:,idx]), col[ID], lw=0.5)\n",
    "        ax[i,j].set_title(name.split('___')[0], fontsize=8)\n",
    "        ax[i,j].xaxis.set_major_locator(FixedLocator(ticks))\n",
    "        ax[i,j].xaxis.set_minor_locator(NullLocator())\n",
    "        ax[i,j].xaxis.set_major_formatter(FixedFormatter([f'{tick:g}' for tick in ticks]))\n",
    "        ax[i,j].set_xlim(ticks[[0,-1]])\n",
    "sns.despine()\n",
    "fig.tight_layout()"
   ]
  },
  {
   "cell_type": "code",
   "execution_count": null,
   "id": "1305d1b1",
   "metadata": {},
   "outputs": [],
   "source": [
    "rows,cols = 4,5\n",
    "device_names = blob[17]['device_names'].item()['gen']\n",
    "fig,ax = plt.subplots(rows, cols, figsize=(cols*2, rows*2), sharex=True, sharey=True)\n",
    "ticks = np.array([0.01, 0.1, 1, 10, 100])\n",
    "for ID in config_IDs:\n",
    "    names = blob[ID]['device_names'].item()['gen']\n",
    "    for k,name in enumerate(device_names):\n",
    "        i,j = k//cols, k%cols\n",
    "        idx = names.index(name)\n",
    "        ax[i,j].semilogx(freq, 20*np.log10(1e-18 + speedf[ID][:,idx]), col[ID], lw=0.5)\n",
    "        ax[i,j].set_title(name.split('___')[0], fontsize=8)\n",
    "        ax[i,j].xaxis.set_major_locator(FixedLocator(ticks))\n",
    "        ax[i,j].xaxis.set_minor_locator(NullLocator())\n",
    "        ax[i,j].xaxis.set_major_formatter(FixedFormatter([f'{tick:g}' for tick in ticks]))\n",
    "        ax[i,j].set_xlim(ticks[[0,-1]])\n",
    "        ax[i,j].set_ylim([-200,-100])\n",
    "sns.despine()\n",
    "fig.tight_layout()"
   ]
  }
 ],
 "metadata": {
  "kernelspec": {
   "display_name": "Python 3 (ipykernel)",
   "language": "python",
   "name": "python3"
  },
  "language_info": {
   "codemirror_mode": {
    "name": "ipython",
    "version": 3
   },
   "file_extension": ".py",
   "mimetype": "text/x-python",
   "name": "python",
   "nbconvert_exporter": "python",
   "pygments_lexer": "ipython3",
   "version": "3.10.9"
  }
 },
 "nbformat": 4,
 "nbformat_minor": 5
}
