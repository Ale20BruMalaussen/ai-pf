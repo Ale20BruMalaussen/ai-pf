{
 "cells": [
  {
   "cell_type": "code",
   "execution_count": null,
   "id": "d10b71db",
   "metadata": {},
   "outputs": [],
   "source": [
    "import numpy as np\n",
    "from scipy.fft import fft, fftfreq\n",
    "import seaborn as sns\n",
    "import matplotlib\n",
    "import matplotlib.pyplot as plt\n",
    "from matplotlib.ticker import FixedLocator, NullLocator, FixedFormatter\n",
    "fontsize = 9\n",
    "lw = 0.75\n",
    "matplotlib.rc('font', **{'family': 'Arial', 'size': fontsize})\n",
    "matplotlib.rc('axes', **{'linewidth': 0.75, 'labelsize': fontsize})\n",
    "matplotlib.rc('xtick', **{'labelsize': fontsize})\n",
    "matplotlib.rc('ytick', **{'labelsize': fontsize})\n",
    "matplotlib.rc('xtick.major', **{'width': lw, 'size':3})\n",
    "matplotlib.rc('ytick.major', **{'width': lw, 'size':3})\n",
    "matplotlib.rc('ytick.minor', **{'width': lw, 'size':1.5})"
   ]
  },
  {
   "cell_type": "code",
   "execution_count": null,
   "id": "f8faf993",
   "metadata": {},
   "outputs": [],
   "source": [
    "blobs = [#np.load('../Sardinia_tran_default.npz', allow_pickle=True),\n",
    "         np.load('../Sardinia_tran_FSACTI0201GGR3_double_H.npz', allow_pickle=True)]\n",
    "data = [blob['data'].item() for blob in blobs]\n",
    "time = [blob['time'] for blob in blobs]"
   ]
  },
  {
   "cell_type": "code",
   "execution_count": null,
   "id": "8ec754e6",
   "metadata": {},
   "outputs": [],
   "source": [
    "Vr = [d['bus']['m:ur'] for d in data]\n",
    "Vi = [d['bus']['m:ui'] for d in data]\n",
    "V = [np.sqrt(vr**2 + vi**2) for vr,vi in zip(Vr,Vi)]\n",
    "Vnorm = []\n",
    "for v in V:\n",
    "    n_samples = v.shape[0]\n",
    "    m = np.tile(v.mean(axis=0), (n_samples, 1))\n",
    "    s = np.tile(v.std(axis=0), (n_samples, 1))\n",
    "    Vnorm.append((v - m) / s)\n",
    "speed = [d['gen']['s:xspeed'] for d in data]"
   ]
  },
  {
   "cell_type": "code",
   "execution_count": null,
   "id": "4ca4741c",
   "metadata": {},
   "outputs": [],
   "source": [
    "H = [blob['inertia'].item() for blob in blobs]\n",
    "E = [blob['energy'].item() for blob in blobs]\n",
    "M = [blob['momentum'].item() for blob in blobs]"
   ]
  },
  {
   "cell_type": "code",
   "execution_count": null,
   "id": "d82b6a9d",
   "metadata": {},
   "outputs": [],
   "source": [
    "speedf, Vf = [], []\n",
    "dur = 60 # [s]\n",
    "dt = time[0][1] - time[0][0]\n",
    "n_samples = int(dur/dt)\n",
    "freq = fftfreq(n_samples, dt)[:n_samples//2]\n",
    "for spd,v in zip(speed, Vnorm):\n",
    "    speedf.append(np.zeros((freq.size, spd.shape[1])))\n",
    "    for j in range(spd.shape[1]):\n",
    "        n_trials = spd.shape[0] // n_samples\n",
    "        X = np.reshape(spd[:n_trials*n_samples,j], (n_trials, n_samples))\n",
    "        tmp = fft(X-1)\n",
    "        speedf[-1][:,j] = np.mean(2.0 / n_samples * np.abs(tmp[:,:n_samples//2]), axis=0)\n",
    "\n",
    "    Vf.append(np.zeros((freq.size, v.shape[1])))\n",
    "    for j in range(v.shape[1]):\n",
    "        n_trials = v.shape[0] // n_samples\n",
    "        X = np.reshape(v[:n_trials*n_samples,j], (n_trials, n_samples))\n",
    "        tmp = fft(X)\n",
    "        Vf[-1][:,j] = np.mean(2.0 / n_samples * np.abs(tmp[:,:n_samples//2]), axis=0)"
   ]
  },
  {
   "cell_type": "code",
   "execution_count": null,
   "id": "cad34c05",
   "metadata": {},
   "outputs": [],
   "source": [
    "fig,ax = plt.subplots(2, 1, sharex=True, figsize=(5,4))\n",
    "j = 2\n",
    "col = 'krg'\n",
    "lw = 0.5\n",
    "for i,(t,spd,v) in enumerate(zip(time, speed, Vnorm)):\n",
    "    ax[0].plot(t, spd[:,j], col[i], lw=lw, label='M = {:.0f} MJs'.format(M[i]))\n",
    "    ax[1].plot(t, v[:,j], col[i], lw=lw)\n",
    "ax[0].legend(loc='best', fontsize=8, frameon=False)\n",
    "ax[0].set_xlim([0, 120])\n",
    "ax[-1].set_xlabel('Time [s]')\n",
    "ax[0].set_ylabel('ω [p.u.]')\n",
    "ax[1].set_ylabel('V norm.')\n",
    "sns.despine()\n",
    "fig.tight_layout()\n",
    "plt.savefig('omega_V_norm_stoch_load.pdf')"
   ]
  },
  {
   "cell_type": "code",
   "execution_count": null,
   "id": "01067532",
   "metadata": {},
   "outputs": [],
   "source": [
    "n_bins = 101\n",
    "edges = np.linspace(-5, 5, n_bins)\n",
    "N = [np.zeros((n_bins-1, v.shape[1])) for v in Vnorm]\n",
    "for i,v in enumerate(Vnorm):\n",
    "    for j in range(v.shape[1]):\n",
    "        N[i][:,j],_ = np.histogram(v[:,j], bins=edges, density=True)"
   ]
  },
  {
   "cell_type": "code",
   "execution_count": null,
   "id": "5ec5dcf1",
   "metadata": {},
   "outputs": [],
   "source": [
    "rows,cols = 3,6\n",
    "device_names = blobs[0]['device_names'].item()['bus']\n",
    "fig,ax = plt.subplots(rows, cols, figsize=(cols*1.5, rows*1.5), sharex=True, sharey=True)\n",
    "for n,blob in enumerate(blobs):\n",
    "    names = blob['device_names'].item()['bus']\n",
    "    for k,name in enumerate(device_names[:rows*cols]):\n",
    "        i,j = k//cols, k%cols\n",
    "        try:\n",
    "            idx = names.index(name)\n",
    "            ax[i,j].plot(edges[:-1], N[n][:,idx], col[n], lw=1)\n",
    "            ax[i,j].set_title(name.split('___')[0], fontsize=8)\n",
    "        except:\n",
    "            print(f'Device name {name} missing')\n",
    "for a in ax[-1,:]:\n",
    "    a.set_xlabel('V norm.')\n",
    "for a in ax[:,0]:\n",
    "    a.set_ylabel('PDF')\n",
    "sns.despine()\n",
    "fig.tight_layout()\n",
    "plt.savefig('V_norm_distr_stoch_load.pdf')"
   ]
  },
  {
   "cell_type": "code",
   "execution_count": null,
   "id": "80a4dbac",
   "metadata": {},
   "outputs": [],
   "source": [
    "rows,cols = 3,6\n",
    "device_names = blobs[0]['device_names'].item()['bus']\n",
    "fig,ax = plt.subplots(rows, cols, figsize=(cols*1.5, rows*1.5), sharex=True, sharey=True)\n",
    "ticks = np.array([0.01, 0.1, 1, 10, 100])\n",
    "for n,blob in enumerate(blobs):\n",
    "    names = blob['device_names'].item()['bus']\n",
    "    for k,name in enumerate(device_names[:rows*cols]):\n",
    "        i,j = k//cols, k%cols\n",
    "        try:\n",
    "            idx = names.index(name)\n",
    "            ax[i,j].semilogx(freq, 20*np.log10(Vf[n][:,idx]), col[n], lw=0.75, label='M = {:.0f} MJs'.format(M[n]))\n",
    "            ax[i,j].set_title(name.split('___')[0], fontsize=8)\n",
    "            ax[i,j].xaxis.set_major_locator(FixedLocator(ticks))\n",
    "            ax[i,j].xaxis.set_minor_locator(NullLocator())\n",
    "            ax[i,j].xaxis.set_major_formatter(FixedFormatter([f'{tick:g}' for tick in ticks]))\n",
    "            ax[i,j].set_xlim(ticks[[0,-1]])\n",
    "        except:\n",
    "            print(f'Device name {name} missing')\n",
    "ax[0,0].legend(loc='lower left', frameon=False, fontsize=6)\n",
    "for a in ax[-1,:]:\n",
    "    a.set_xlabel('Frequency [Hz]')\n",
    "for a in ax[:,0]:\n",
    "    a.set_ylabel('[dB20]')\n",
    "sns.despine()\n",
    "fig.tight_layout()\n",
    "plt.savefig('V_norm_spectra_stoch_load.pdf')"
   ]
  },
  {
   "cell_type": "code",
   "execution_count": null,
   "id": "f1c9a37c",
   "metadata": {},
   "outputs": [],
   "source": [
    "rows,cols = 3,6\n",
    "device_names = blobs[0]['device_names'].item()['bus']\n",
    "fig,ax = plt.subplots(rows, cols, figsize=(cols*1.5, rows*1.5), sharex=True, sharey=True)\n",
    "ticks = np.array([0.01, 0.1, 1, 10, 100])\n",
    "for n,blob in enumerate(blobs):\n",
    "    names = blob['device_names'].item()['bus']\n",
    "    for k,name in enumerate(device_names[:rows*cols]):\n",
    "        i,j = k//cols, k%cols\n",
    "        try:\n",
    "            idx = names.index(name)\n",
    "            ax[i,j].semilogx(freq, 10*np.log10(speedf[n][:,idx]), col[n], lw=0.75, label='M = {:.0f} MJs'.format(M[n]))\n",
    "            ax[i,j].set_title(name.split('___')[0], fontsize=8)\n",
    "            ax[i,j].xaxis.set_major_locator(FixedLocator(ticks))\n",
    "            ax[i,j].xaxis.set_minor_locator(NullLocator())\n",
    "            ax[i,j].xaxis.set_major_formatter(FixedFormatter([f'{tick:g}' for tick in ticks]))\n",
    "            ax[i,j].set_xlim(ticks[[0,-1]])\n",
    "        except:\n",
    "            print(f'Device name {name} missing')\n",
    "ax[0,0].legend(loc='lower left', frameon=False, fontsize=6)\n",
    "for a in ax[-1,:]:\n",
    "    a.set_xlabel('Frequency [Hz]')\n",
    "for a in ax[:,0]:\n",
    "    a.set_ylabel('[dB20]')\n",
    "sns.despine()\n",
    "fig.tight_layout()\n",
    "plt.savefig('speed_spectra_stoch_load.pdf')"
   ]
  },
  {
   "cell_type": "code",
   "execution_count": null,
   "id": "23e268a0",
   "metadata": {},
   "outputs": [],
   "source": [
    "raise Exception('stop here')"
   ]
  },
  {
   "cell_type": "code",
   "execution_count": null,
   "id": "4f6c6d94",
   "metadata": {},
   "outputs": [],
   "source": [
    "TF_data = np.load('../TF_-6.0_2.0_100.npz', allow_pickle=True)"
   ]
  },
  {
   "cell_type": "code",
   "execution_count": null,
   "id": "4e6a5d35",
   "metadata": {},
   "outputs": [],
   "source": [
    "TF_data.files"
   ]
  },
  {
   "cell_type": "code",
   "execution_count": null,
   "id": "4bcbd1a5",
   "metadata": {},
   "outputs": [],
   "source": [
    "TF_data['mag'].shape"
   ]
  },
  {
   "cell_type": "code",
   "execution_count": null,
   "id": "e1f0699f",
   "metadata": {},
   "outputs": [],
   "source": [
    "blobs[0]['device_names'].item()['gen']"
   ]
  },
  {
   "cell_type": "code",
   "execution_count": null,
   "id": "dd75f2e0",
   "metadata": {},
   "outputs": [],
   "source": [
    "rows,cols = 3,6\n",
    "w,h = 2,1.5\n",
    "device_names = blobs[0]['device_names'].item()['gen']\n",
    "fig,ax = plt.subplots(rows, cols, figsize=(cols*w, rows*h), sharex=True, sharey=True)\n",
    "ticks = np.array([0.001, 0.01, 0.1, 1, 10, 100])\n",
    "F0 = ticks[1]\n",
    "for n,blob in enumerate(blobs):\n",
    "    names = blob['device_names'].item()['gen']\n",
    "    for k,name in enumerate(device_names[:rows*cols]):\n",
    "        i,j = k//cols, k%cols\n",
    "        try:\n",
    "            idx = names.index(name)\n",
    "            jdx = np.abs(freq-F0).argmin()\n",
    "            y = 20*np.log10(speedf[n][:,idx])\n",
    "            ax[i,j].semilogx(freq, y-y[jdx], col[n], lw=0.75, label='M = {:.0f} MJs'.format(M[n]))\n",
    "            idx = [sm_name in name for sm_name in TF_data['SM_names'][0]].index(True)\n",
    "            jdx = np.abs(TF_data['F']-F0).argmin()\n",
    "            y = TF_data['mag'][1,:,idx]\n",
    "            ax[i,j].semilogx(TF_data['F'], y-y[jdx], col[n]+'--', lw=0.75)\n",
    "            ax[i,j].set_title(name.split('___')[0], fontsize=8)\n",
    "            ax[i,j].xaxis.set_major_locator(FixedLocator(ticks))\n",
    "            ax[i,j].xaxis.set_minor_locator(NullLocator())\n",
    "            ax[i,j].xaxis.set_major_formatter(FixedFormatter([f'{tick:g}' for tick in ticks]))\n",
    "            ax[i,j].set_xlim(ticks[[0,-1]])\n",
    "        except:\n",
    "            print(f'Device name {name} missing')\n",
    "ax[0,0].legend(loc='lower left', frameon=False, fontsize=6)\n",
    "for a in ax[-1,:]:\n",
    "    a.set_xlabel('Frequency [Hz]')\n",
    "for a in ax[:,0]:\n",
    "    a.set_ylabel('[dB20]')\n",
    "sns.despine()\n",
    "fig.tight_layout()\n",
    "plt.savefig('speed_spectra_stoch_load.pdf')"
   ]
  },
  {
   "cell_type": "code",
   "execution_count": null,
   "id": "13c86ddc",
   "metadata": {},
   "outputs": [],
   "source": []
  }
 ],
 "metadata": {
  "kernelspec": {
   "display_name": "Python 3 (ipykernel)",
   "language": "python",
   "name": "python3"
  },
  "language_info": {
   "codemirror_mode": {
    "name": "ipython",
    "version": 3
   },
   "file_extension": ".py",
   "mimetype": "text/x-python",
   "name": "python",
   "nbconvert_exporter": "python",
   "pygments_lexer": "ipython3",
   "version": "3.10.9"
  }
 },
 "nbformat": 4,
 "nbformat_minor": 5
}
