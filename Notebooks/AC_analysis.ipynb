{
 "cells": [
  {
   "cell_type": "code",
   "execution_count": null,
   "id": "6f627f05",
   "metadata": {},
   "outputs": [],
   "source": [
    "import os\n",
    "import sys\n",
    "import numpy as np\n",
    "import pandas as pd\n",
    "import matplotlib\n",
    "import matplotlib.pyplot as plt\n",
    "from matplotlib.ticker import FixedLocator, NullLocator, FixedFormatter\n",
    "import seaborn as sns\n",
    "if '..' not in sys.path:\n",
    "    sys.path.append('..')\n",
    "from run_AC_analysis import compute_fourier_coeffs\n",
    "from pfcommon import correct_traces\n",
    "\n",
    "fontsize = 9\n",
    "lw = 0.75\n",
    "matplotlib.rc('font', **{'family': 'Arial', 'size': fontsize})\n",
    "matplotlib.rc('axes', **{'linewidth': 0.75, 'labelsize': fontsize})\n",
    "matplotlib.rc('xtick', **{'labelsize': fontsize})\n",
    "matplotlib.rc('ytick', **{'labelsize': fontsize})\n",
    "matplotlib.rc('xtick.major', **{'width': lw, 'size':3})\n",
    "matplotlib.rc('ytick.major', **{'width': lw, 'size':3})\n",
    "matplotlib.rc('ytick.minor', **{'width': lw, 'size':1.5})\n",
    "\n",
    "%matplotlib inline"
   ]
  },
  {
   "cell_type": "code",
   "execution_count": null,
   "id": "731a1748",
   "metadata": {
    "scrolled": true
   },
   "outputs": [],
   "source": [
    "data_dir = '..'\n",
    "project_name = 'V2020_Rete_Sardegna_2021_06_03cr_AC'\n",
    "load_name = 'EqX_MIMC_I2201TR1'\n",
    "F_start = 10**(-2.5)\n",
    "F_stop = 1e1\n",
    "steps_per_decade = 20\n",
    "dP = 0.1\n",
    "suffixes = '', #'_FSACTI0201GGR3_OFF', '_SULCTI0202GGR2_OFF'\n",
    "data_files = ['{}_{}{}_{:.1f}_{:.1f}_{}_dP={:.1f}.npz'.format(project_name, load_name, sfx, np.log10(F_start),\n",
    "                                                              np.log10(F_stop), steps_per_decade, dP) for sfx in suffixes]\n",
    "n_files = len(data_files)\n",
    "blobs = [np.load(os.path.join(data_dir, f), allow_pickle=True) for f in data_files]\n",
    "F = [b['F'] for b in blobs]\n",
    "time = [b['time'] for b in blobs]\n",
    "gamma_c,gamma_s = [], []\n",
    "config = blobs[0]['config'].item()\n",
    "for b in blobs:\n",
    "    freq = b['F']\n",
    "    time = b['time']\n",
    "    speed = np.array([d['gen']['s:xspeed'] for d in b['data']], dtype=object)\n",
    "    γc,γs = compute_fourier_coeffs(freq, time, speed, mu=config['n_periods'])\n",
    "#     fe = np.array([d['bus']['m:fe'] for d in b['data']], dtype=object)\n",
    "#     fi = np.array([d['gen']['c:fi'] for d in b['data']], dtype=object)\n",
    "#     Vr = np.array([d['bus']['m:ur'] for d in b['data']], dtype=object)\n",
    "#     Vi = np.array([d['bus']['m:ui'] for d in b['data']], dtype=object)\n",
    "#     V = np.array([np.sqrt(vr**2+vi**2) for vr,vi in zip(Vr,Vi)], dtype=object)\n",
    "#     γc,γs = compute_fourier_coeffs(freq, time, V, mu=config['n_periods'])\n",
    "    gamma_c.append(γc)\n",
    "    gamma_s.append(γs)"
   ]
  },
  {
   "cell_type": "code",
   "execution_count": null,
   "id": "d0997d89",
   "metadata": {},
   "outputs": [],
   "source": [
    "H = [blob['inertia'].item() for blob in blobs]\n",
    "E = [blob['energy'].item() for blob in blobs]\n",
    "M = [blob['momentum'].item() for blob in blobs]\n",
    "print(' Inertia: {} s'.format(' '.join(map(lambda x: f'{x:5.2f}', H))))\n",
    "print('  Energy: {} MJ'.format(' '.join(map(lambda x: f'{x:5.0f}', E))))\n",
    "print('Momentum: {} MJs'.format(' '.join(map(lambda x: f'{x:5.0f}', M))))"
   ]
  },
  {
   "cell_type": "code",
   "execution_count": null,
   "id": "5d91d417",
   "metadata": {},
   "outputs": [],
   "source": [
    "attrs = blobs[0]['attributes'].item()['gen']\n",
    "names = [name.split('__')[0] for name in attrs['loc_name']]\n",
    "df = pd.DataFrame(data={'H [s]': attrs['typ_id.h'], 'S [MVA]': attrs['typ_id.sgn']}, index=names)\n",
    "df.to_excel('Sardinia_SM.xlsx')"
   ]
  },
  {
   "cell_type": "code",
   "execution_count": null,
   "id": "45f1bf6c",
   "metadata": {},
   "outputs": [],
   "source": [
    "dfs = {'gamma_c': [], 'gamma_s': []}\n",
    "for blob,f,γc,γs in zip(blobs, F, gamma_c, gamma_s):\n",
    "    gen_names = [name.split('__')[0] for name in blob['device_names'].item()['gen']]\n",
    "    dfs['gamma_c'].append(pd.DataFrame(data=γc, index=f, columns=gen_names))\n",
    "    dfs['gamma_s'].append(pd.DataFrame(data=γs, index=f, columns=gen_names))\n",
    "for key,df in dfs.items():\n",
    "    with pd.ExcelWriter(key + '.xlsx') as writer:\n",
    "        for i,mom in enumerate(M):\n",
    "            df[i].to_excel(writer, sheet_name=f'M={mom:.2f}MJs')"
   ]
  },
  {
   "cell_type": "code",
   "execution_count": null,
   "id": "82f81984",
   "metadata": {},
   "outputs": [],
   "source": [
    "i = 0\n",
    "freq,γc,γs = F[i], gamma_c[i], gamma_s[i]\n",
    "coeffs = [γc - 1j*γs, -γs + 1j*γc, -γc + 1j*γs]\n",
    "mod,phi = [np.abs(c) for c in coeffs], [np.angle(c) for c in coeffs]\n",
    "# mod.append(np.sqrt(γc**2+γs**2))\n",
    "# phi.append(-np.arctan2(γs, γc))"
   ]
  },
  {
   "cell_type": "code",
   "execution_count": null,
   "id": "b3f447d8",
   "metadata": {},
   "outputs": [],
   "source": [
    "# %matplotlib notebook\n",
    "fig,ax = plt.subplots(2, 1, sharex=True, figsize=(7,5))\n",
    "cmap = 'krg'\n",
    "ticks = np.array([0.001, 0.01, 0.1, 1, 10, 100])\n",
    "for i,(γc,γs) in enumerate(zip(gamma_c,gamma_s)):\n",
    "    for j in range(γc.shape[1]):\n",
    "#         y = 20 * np.log10(np.sqrt(γc[:,j]**2 + γs[:,j]**2))\n",
    "        mod = np.sqrt(γc[:,j]**2 + γs[:,j]**2)\n",
    "        phi = -np.arctan2(γs[:,j], γc[:,j])\n",
    "        ax[0].plot(F[i], mod, color=cmap[i], lw=0.5, label='M = {:.0f} MJs'.format(M[i]) if j==0 else '')\n",
    "        ax[1].plot(F[i], phi, color=cmap[i], lw=0.5)\n",
    "ax[0].legend(loc='upper right', frameon=False, fontsize=8)\n",
    "for a in ax:\n",
    "    a.xaxis.set_major_locator(FixedLocator(ticks))\n",
    "    a.xaxis.set_minor_locator(NullLocator())\n",
    "    a.set_xlim(ticks[[0,-1]])\n",
    "    a.set_xscale('log')\n",
    "ax[1].xaxis.set_major_formatter(FixedFormatter([f'{tick:g}' for tick in ticks]))\n",
    "ax[1].set_xlabel('Frequency [Hz]')\n",
    "ax[0].set_ylabel('Mod')\n",
    "ax[1].set_ylabel('Φ')\n",
    "sns.despine()"
   ]
  },
  {
   "cell_type": "code",
   "execution_count": null,
   "id": "6d78bc50",
   "metadata": {},
   "outputs": [],
   "source": [
    "%matplotlib inline\n",
    "rows,cols = 3,6\n",
    "w,h = 1.5,1.5\n",
    "device_names = blobs[0]['device_names'].item()['bus']\n",
    "fig,ax = plt.subplots(rows, cols, figsize=(cols*w, rows*h), sharex=True, sharey=True)\n",
    "cmap = 'krg'\n",
    "for i,blob in enumerate(blobs):\n",
    "    names = blob['device_names'].item()['bus']\n",
    "    for j,name in enumerate(names):\n",
    "        try:\n",
    "            k = device_names.index(name)\n",
    "            I,J = k//cols, k%cols\n",
    "            dB = 20 * np.log10(np.sqrt(gamma_c[i][:,j]**2 + gamma_s[i][:,j]**2))\n",
    "            y = gamma_c[i][:,j]**2 + gamma_s[i][:,j]**2\n",
    "            ax[I,J].semilogx(F[i], y, color=cmap[i], lw=0.75, label='M = {:.0f} MJs'.format(M[i]))\n",
    "            ax[I,J].set_title(name.split('___')[0], fontsize=8)\n",
    "            ax[I,J].xaxis.set_major_locator(FixedLocator(ticks))\n",
    "            ax[I,J].xaxis.set_minor_locator(NullLocator())\n",
    "            ax[I,J].xaxis.set_major_formatter(FixedFormatter([f'{tick:g}' for tick in ticks]))\n",
    "            ax[I,J].set_xlim(ticks[[0,-1]])\n",
    "        except:\n",
    "            print(f'Device name {name} missing')\n",
    "ax[-1,-1].legend(loc='upper right', frameon=False, fontsize=6)\n",
    "for a in ax[-1,:]:\n",
    "    a.set_xlabel('Frequency [Hz]')\n",
    "# for a in ax[:,0]:\n",
    "#     a.set_ylabel('[dB20]')\n",
    "sns.despine()\n",
    "fig.tight_layout(pad=0.2)\n",
    "plt.savefig('speed_spectra_AC.pdf')\n",
    "# plt.savefig('V_spectra_AC.pdf')"
   ]
  },
  {
   "cell_type": "code",
   "execution_count": null,
   "id": "25a5c358",
   "metadata": {},
   "outputs": [],
   "source": [
    "raise Exception('stop here')"
   ]
  },
  {
   "cell_type": "code",
   "execution_count": null,
   "id": "07b48e95",
   "metadata": {},
   "outputs": [],
   "source": [
    "i = 1\n",
    "ref_gen = 0\n",
    "δr = fi[i][:, ref_gen]\n",
    "Vd,Vq = correct_traces(Vr[i], Vi[i], δr)"
   ]
  },
  {
   "cell_type": "code",
   "execution_count": null,
   "id": "3fceddf6",
   "metadata": {},
   "outputs": [],
   "source": [
    "j = 5\n",
    "fig,ax = plt.subplots(3, 2, sharex=True, figsize=(10,4))\n",
    "ax[0,0].plot(time[0][i], Vd[:,j], 'k', lw=1)\n",
    "ax[0,1].plot(time[0][i], Vr[i][:,j], 'r', lw=1)\n",
    "ax[1,0].plot(time[0][i], Vq[:,j], 'k', lw=1)\n",
    "ax[1,1].plot(time[0][i], Vi[i][:,j], 'r', lw=1)\n",
    "ax[2,0].plot(time[0][i], np.sqrt(Vd[:,j]**2 + Vq[:,j]**2), 'k', lw=1)\n",
    "ax[2,1].plot(time[0][i], np.sqrt(Vr[i][:,j]**2 + Vi[i][:,j]**2), 'r', lw=1)\n",
    "sns.despine()"
   ]
  },
  {
   "cell_type": "code",
   "execution_count": null,
   "id": "d64eff47",
   "metadata": {},
   "outputs": [],
   "source": [
    "fig,ax = plt.subplots(2, 1, figsize=(6,6), sharex=True)\n",
    "i,j = 0,0\n",
    "ax[0].plot(time[0][i], fe[i][:,j], 'k', lw=1)\n",
    "ax[0].plot(time[0][i], speed[i][:,j], 'r', lw=1)\n",
    "# ax[1].plot(time[0][i], Vr[i][:,j], 'tab:red', lw=1)\n",
    "# ax[1].plot(time[0][i], Vi[i][:,j], 'tab:green', lw=1)\n",
    "ax[1].plot(time[0][i], np.sqrt(Vr[i][:,j]**2 + Vi[i][:,j]**2), 'k', lw=1)"
   ]
  }
 ],
 "metadata": {
  "kernelspec": {
   "display_name": "Python 3 (ipykernel)",
   "language": "python",
   "name": "python3"
  },
  "language_info": {
   "codemirror_mode": {
    "name": "ipython",
    "version": 3
   },
   "file_extension": ".py",
   "mimetype": "text/x-python",
   "name": "python",
   "nbconvert_exporter": "python",
   "pygments_lexer": "ipython3",
   "version": "3.10.9"
  }
 },
 "nbformat": 4,
 "nbformat_minor": 5
}
