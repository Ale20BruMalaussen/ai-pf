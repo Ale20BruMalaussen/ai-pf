{
 "cells": [
  {
   "cell_type": "code",
   "execution_count": null,
   "id": "6f627f05",
   "metadata": {},
   "outputs": [],
   "source": [
    "import os\n",
    "import numpy as np\n",
    "import matplotlib.pyplot as plt\n",
    "import seaborn as sns"
   ]
  },
  {
   "cell_type": "code",
   "execution_count": null,
   "id": "731a1748",
   "metadata": {},
   "outputs": [],
   "source": [
    "data_dir = '..'\n",
    "data_file = 'AC_WSCC_-3_1_20.npz'\n",
    "data = np.load(os.path.join(data_dir, data_file), allow_pickle=True)\n",
    "F = data['F']\n",
    "time = data['time']\n",
    "speed = data['speed']\n",
    "n_F = len(F)\n",
    "n_generators = speed[0].shape[1]"
   ]
  },
  {
   "cell_type": "raw",
   "id": "cdd6fa95",
   "metadata": {},
   "source": [
    "n = speed[0].shape[1]\n",
    "cmap = plt.get_cmap('viridis', n)\n",
    "fig,ax = plt.subplots(n_F, 1, figsize=(8,1.5*n_F))\n",
    "for i,(f,t,spd) in enumerate(zip(F, time, speed)):\n",
    "    idx = t > t[-1] - 10 / f\n",
    "    for j in range(n):\n",
    "        ax[i].plot(t[idx], spd[idx,j] - 1, lw=1, label=f'Gen. {j+1}')\n",
    "    ax[i].set_ylabel('Speed - 1 [p.u.]')\n",
    "    ax[i].set_title(f'F = {f} Hz')\n",
    "ax[-1].set_xlabel('Time [s]')\n",
    "ax[0].legend(loc='lower left')\n",
    "sns.despine()\n",
    "fig.tight_layout()"
   ]
  },
  {
   "cell_type": "code",
   "execution_count": null,
   "id": "b3f246f6",
   "metadata": {},
   "outputs": [],
   "source": [
    "μ = 10\n",
    "gamma_c = np.zeros((n_F, n_generators))\n",
    "gamma_s = np.zeros((n_F, n_generators))\n",
    "for i,(f,t,spd) in enumerate(zip(F, time, speed)):\n",
    "    dt = t[1] - t[0]\n",
    "    idx = t > t[-1] - μ / f\n",
    "    for j in range(n_generators):\n",
    "        gamma_c[i,j] = f/μ*dt*np.cos(2*np.pi*f*t[np.newaxis,idx]) @ (spd[idx,j]-1)\n",
    "        gamma_s[i,j] = f/μ*dt*np.sin(2*np.pi*f*t[np.newaxis,idx]) @ (spd[idx,j]-1)"
   ]
  },
  {
   "cell_type": "code",
   "execution_count": null,
   "id": "c23321d3",
   "metadata": {
    "scrolled": true
   },
   "outputs": [],
   "source": [
    "fig,ax = plt.subplots(1, 1, sharex=True, figsize=(7,4))\n",
    "for i in range(n_generators):\n",
    "    ax.plot(F, 10*np.log10(gamma_c[:,i]**2 + gamma_s[:,i]**2), label=f'Gen {i+1}')\n",
    "ax.set_xscale('log')\n",
    "ax.legend(loc='lower left', frameon=False)\n",
    "ax.set_xlabel('Frequency [Hz]')\n",
    "ax.set_ylabel('dB 10')\n",
    "sns.despine()\n",
    "plt.savefig(os.path.splitext(data_file)[0] + '.pdf')"
   ]
  }
 ],
 "metadata": {
  "kernelspec": {
   "display_name": "Python 3 (ipykernel)",
   "language": "python",
   "name": "python3"
  },
  "language_info": {
   "codemirror_mode": {
    "name": "ipython",
    "version": 3
   },
   "file_extension": ".py",
   "mimetype": "text/x-python",
   "name": "python",
   "nbconvert_exporter": "python",
   "pygments_lexer": "ipython3",
   "version": "3.8.8"
  }
 },
 "nbformat": 4,
 "nbformat_minor": 5
}
