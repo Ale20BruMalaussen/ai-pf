{
 "cells": [
  {
   "cell_type": "code",
   "execution_count": null,
   "id": "6f627f05",
   "metadata": {},
   "outputs": [],
   "source": [
    "import os\n",
    "import sys\n",
    "import numpy as np\n",
    "import matplotlib.pyplot as plt\n",
    "import seaborn as sns\n",
    "if '..' not in sys.path:\n",
    "    sys.path.append('..')\n",
    "from run_AC_analysis import compute_fourier_coeffs\n",
    "from pfcommon import correct_traces"
   ]
  },
  {
   "cell_type": "code",
   "execution_count": null,
   "id": "731a1748",
   "metadata": {
    "scrolled": true
   },
   "outputs": [],
   "source": [
    "data_dir = '..'\n",
    "project_name = 'V2020_Rete_Sardegna_2021_06_03cr_AC' # 'IEEE39_AC' # 'AC_WSCC'\n",
    "# F_start = 1e-3, 1e-1\n",
    "# F_stop = 1e1, 1e2\n",
    "# steps_per_decade = 10, 30\n",
    "F_start = 1e-3,\n",
    "F_stop = 1e1,\n",
    "steps_per_decade = 10,\n",
    "suffix = ''\n",
    "data_files = ['{}_{:.0f}_{:.0f}_{}{}.npz'.format(project_name, np.log10(F0), np.log10(F1), steps, suffix) \\\n",
    "              for F0,F1,steps in zip(F_start, F_stop, steps_per_decade)]\n",
    "n_files = len(data_files)\n",
    "blob = [np.load(os.path.join(data_dir, f), allow_pickle=True) for f in data_files]\n",
    "F = [b['F'] for b in blob]\n",
    "time = [b['time'] for b in blob]\n",
    "gamma_c,gamma_s = [], []\n",
    "config = blob[0]['config'].item()\n",
    "for b in blob:\n",
    "    speed = np.array([d['gen']['s:xspeed'] for d in b['data']], dtype=object)\n",
    "    fi = np.array([d['gen']['c:fi'] for d in b['data']], dtype=object)\n",
    "    Vr = np.array([d['bus']['m:ur'] for d in b['data']], dtype=object)\n",
    "    Vi = np.array([d['bus']['m:ui'] for d in b['data']], dtype=object)\n",
    "    fe = np.array([d['bus']['m:fe'] for d in b['data']], dtype=object)\n",
    "    γc,γs = compute_fourier_coeffs(b['F'], b['time'], speed, mu=config['n_periods'])\n",
    "    gamma_c.append(γc)\n",
    "    gamma_s.append(γs)"
   ]
  },
  {
   "cell_type": "code",
   "execution_count": null,
   "id": "c23321d3",
   "metadata": {
    "scrolled": false
   },
   "outputs": [],
   "source": [
    "fig,ax = plt.subplots(1, 1, sharex=True, figsize=(7,4))\n",
    "n_generators = gamma_c[0].shape[1]\n",
    "cmap = plt.get_cmap('viridis', n_generators)\n",
    "for i in range(n_files):\n",
    "    for j in range(n_generators):\n",
    "        dB = 10 * np.log10(np.sqrt(gamma_c[i][:,j]**2 + gamma_s[i][:,j]**2) / F[i])\n",
    "#         dB = 10 * np.log10(np.sqrt(gamma_c[i][:,j]**2 + gamma_s[i][:,j]**2))\n",
    "        ax.plot(F[i], dB, '-', color=cmap(j), lw=1, label='G{}'.format(j+1) if i == 0 else None)\n",
    "ax.set_xscale('log')\n",
    "ax.set_xlabel('Frequency [Hz]')\n",
    "ax.set_ylabel('dB10')\n",
    "sns.despine()\n",
    "plt.savefig(os.path.splitext(data_files[0])[0] + suffix + '.pdf')"
   ]
  },
  {
   "cell_type": "code",
   "execution_count": null,
   "id": "07b48e95",
   "metadata": {},
   "outputs": [],
   "source": [
    "i = 1\n",
    "ref_gen = 0\n",
    "δr = fi[i][:, ref_gen]\n",
    "Vd,Vq = correct_traces(Vr[i], Vi[i], δr)"
   ]
  },
  {
   "cell_type": "code",
   "execution_count": null,
   "id": "3fceddf6",
   "metadata": {},
   "outputs": [],
   "source": [
    "j = 5\n",
    "fig,ax = plt.subplots(3, 2, sharex=True, figsize=(10,4))\n",
    "ax[0,0].plot(time[0][i], Vd[:,j], 'k', lw=1)\n",
    "ax[0,1].plot(time[0][i], Vr[i][:,j], 'r', lw=1)\n",
    "ax[1,0].plot(time[0][i], Vq[:,j], 'k', lw=1)\n",
    "ax[1,1].plot(time[0][i], Vi[i][:,j], 'r', lw=1)\n",
    "ax[2,0].plot(time[0][i], np.sqrt(Vd[:,j]**2 + Vq[:,j]**2), 'k', lw=1)\n",
    "ax[2,1].plot(time[0][i], np.sqrt(Vr[i][:,j]**2 + Vi[i][:,j]**2), 'r', lw=1)\n",
    "sns.despine()"
   ]
  },
  {
   "cell_type": "code",
   "execution_count": null,
   "id": "d64eff47",
   "metadata": {},
   "outputs": [],
   "source": [
    "fig,ax = plt.subplots(2, 1, figsize=(6,6), sharex=True)\n",
    "i,j = 0,0\n",
    "ax[0].plot(time[0][i], fe[i][:,j], 'k', lw=1)\n",
    "ax[0].plot(time[0][i], speed[i][:,j], 'r', lw=1)\n",
    "# ax[1].plot(time[0][i], Vr[i][:,j], 'tab:red', lw=1)\n",
    "# ax[1].plot(time[0][i], Vi[i][:,j], 'tab:green', lw=1)\n",
    "ax[1].plot(time[0][i], np.sqrt(Vr[i][:,j]**2 + Vi[i][:,j]**2), 'k', lw=1)"
   ]
  }
 ],
 "metadata": {
  "kernelspec": {
   "display_name": "Python 3 (ipykernel)",
   "language": "python",
   "name": "python3"
  },
  "language_info": {
   "codemirror_mode": {
    "name": "ipython",
    "version": 3
   },
   "file_extension": ".py",
   "mimetype": "text/x-python",
   "name": "python",
   "nbconvert_exporter": "python",
   "pygments_lexer": "ipython3",
   "version": "3.10.9"
  }
 },
 "nbformat": 4,
 "nbformat_minor": 5
}
