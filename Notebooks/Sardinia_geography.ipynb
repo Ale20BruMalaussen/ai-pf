{
 "cells": [
  {
   "cell_type": "code",
   "execution_count": null,
   "id": "af3f3791",
   "metadata": {},
   "outputs": [],
   "source": [
    "import os\n",
    "import re\n",
    "import sys\n",
    "import pickle\n",
    "import numpy as np\n",
    "import pandas as pd\n",
    "import geopandas as gpd\n",
    "from shapely.geometry import Point, LineString\n",
    "from pyproj import CRS, Transformer\n",
    "import networkx as nx\n",
    "\n",
    "import matplotlib.pyplot as plt\n",
    "%matplotlib inline\n",
    "\n",
    "if '..' not in sys.path:\n",
    "    sys.path.append('..')\n",
    "from pfcommon import build_network_graph, make_full_object_name, get_objects, Node, Edge"
   ]
  },
  {
   "cell_type": "markdown",
   "id": "8ec35032",
   "metadata": {},
   "source": [
    "## Load grid data"
   ]
  },
  {
   "cell_type": "code",
   "execution_count": null,
   "id": "bff62748",
   "metadata": {},
   "outputs": [],
   "source": [
    "data_file = 'sardinia_geo.pkl'\n",
    "force = False\n",
    "\n",
    "if force or not os.path.isfile(data_file):\n",
    "    powerfactory_path = r'C:\\Program Files\\DIgSILENT\\PowerFactory 2023 SP2\\Python\\3.10'\n",
    "    if powerfactory_path not in sys.path:\n",
    "        sys.path.append(powerfactory_path)\n",
    "    import powerfactory as pf\n",
    "\n",
    "    app = pf.GetApplication()\n",
    "    if app is None:\n",
    "        raise Exception('Cannot get PowerFactory application')\n",
    "    print('Got PowerFactory application.')\n",
    "    \n",
    "    project_name = '\\\\Terna_Inerzia\\\\V2020_Rete_Sardegna_2021_06_03cr'\n",
    "    err = app.ActivateProject(project_name)\n",
    "    if err:\n",
    "        raise Exception(f'Cannot activate project {project_name}')\n",
    "    print(f'Activated project \"{project_name}\".')\n",
    "    \n",
    "    def get_coords(obj_type):\n",
    "        objs = app.GetCalcRelevantObjects('*.' + obj_type)\n",
    "        names, coords = [], []\n",
    "        for obj in objs:\n",
    "            if (obj.HasAttribute('outserv') and obj.outserv) or \\\n",
    "            not obj.HasAttribute('GPSlat') or not obj.HasAttribute('GPSlon'):\n",
    "                continue\n",
    "            lat,long = obj.GPSlat, obj.GPSlon\n",
    "            if lat != 0.0 and long != 0.0:\n",
    "                coords.append([lat,long])\n",
    "                names.append(obj.loc_name)\n",
    "        return names, np.array(coords)\n",
    "\n",
    "    obj_types = {'sites': 'ElmSite', 'terminals': 'ElmTerm', 'substations': 'ElmSubstat'}\n",
    "    names, coords = {}, {}\n",
    "    for k,v in obj_types.items():\n",
    "        names[k], coords[k] = get_coords(v)\n",
    "    lines = [obj for obj in app.GetCalcRelevantObjects('*.ElmLne') if not obj.outserv]\n",
    "    names['lines'], coords['lines'], line_ratings = [], [], []\n",
    "    for line in lines:\n",
    "        if len(line.GPScoords) > 0:\n",
    "            names['lines'].append(line.loc_name)\n",
    "            coords['lines'].append(np.array(line.GPScoords))\n",
    "            line_ratings.append(line.typ_id.uline)\n",
    "    coords['lines'] = np.array(coords['lines'], dtype=object)\n",
    "    line_ratings = np.array(line_ratings)\n",
    "\n",
    "    data = {\n",
    "        'names': names,\n",
    "        'coords': coords,\n",
    "        'line_ratings': line_ratings\n",
    "    }\n",
    "    pickle.dump(data, open(data_file, 'wb'))\n",
    "    \n",
    "else:\n",
    "    data = pickle.load(open(data_file, 'rb'))\n",
    "    names = data['names']\n",
    "    coords = data['coords']\n",
    "    line_ratings = data['line_ratings']"
   ]
  },
  {
   "cell_type": "markdown",
   "id": "dbbca3d9",
   "metadata": {},
   "source": [
    "## Coordinate reference systems"
   ]
  },
  {
   "cell_type": "code",
   "execution_count": null,
   "id": "c84eff4b",
   "metadata": {},
   "outputs": [],
   "source": [
    "# 3035: Lambert azimuthal equal area\n",
    "# 3857: spherical Mercator projection\n",
    "# 4326: world geodetic system 1984\n",
    "source_coord_ref = 4326\n",
    "coord_ref = 3857"
   ]
  },
  {
   "cell_type": "markdown",
   "id": "48900835",
   "metadata": {},
   "source": [
    "Convert the coordinates of the grid to the chosen reference system:"
   ]
  },
  {
   "cell_type": "code",
   "execution_count": null,
   "id": "22782951",
   "metadata": {},
   "outputs": [],
   "source": [
    "gdf = {key: gpd.GeoDataFrame(data={'name': names[key], 'geometry':\n",
    "                             [Point(long,lat) for lat,long in\n",
    "                              zip(coords[key][:,0], coords[key][:,1])]})\n",
    "       for key in ('sites','substations','terminals')}\n",
    "gdf['lines'] = gpd.GeoDataFrame(data={'name': names['lines'], 'vrating': line_ratings,\n",
    "                                      'geometry': [LineString(np.array([line[:,1], line[:,0]]).T) \n",
    "                                                   for line in coords['lines']]})\n",
    "vratings = np.unique(gdf['lines']['vrating'])[::-1]\n",
    "\n",
    "for key in gdf:\n",
    "    gdf[key].crs = CRS.from_user_input(source_coord_ref)\n",
    "    gdf[key] = gdf[key].to_crs(epsg=coord_ref)\n",
    "    gdf[key] = gdf[key].sort_values('name').set_index('name')"
   ]
  },
  {
   "cell_type": "markdown",
   "id": "4607e46f",
   "metadata": {},
   "source": [
    "## Map of Sardinia"
   ]
  },
  {
   "cell_type": "markdown",
   "id": "b885b74e",
   "metadata": {},
   "source": [
    "First define the bounding box:"
   ]
  },
  {
   "cell_type": "code",
   "execution_count": null,
   "id": "e4eabec0",
   "metadata": {},
   "outputs": [],
   "source": [
    "limits = {'WS': Point(8, 38.75), 'EN': Point(10, 41.4)}\n",
    "bbox = gpd.GeoDataFrame(data=limits.values(),\n",
    "                        index=pd.Index(data=limits.keys(), name='name'),\n",
    "                        columns=['geometry'])\n",
    "bbox.crs = CRS.from_user_input(source_coord_ref)\n",
    "bbox = bbox.to_crs(epsg=coord_ref)"
   ]
  },
  {
   "cell_type": "markdown",
   "id": "b98310ae",
   "metadata": {},
   "source": [
    "Then load the data and keep only those coordinates that fall within the bounding box:"
   ]
  },
  {
   "cell_type": "code",
   "execution_count": null,
   "id": "24f41060",
   "metadata": {},
   "outputs": [],
   "source": [
    "scale = 1 # 1 : 1,000,000\n",
    "year = 2021\n",
    "europe_folder = f'geography/ref-nuts-{year}-{scale:02d}m'\n",
    "N_levels = 4\n",
    "map_types = 'BN', #'LB' # BN: boundary, LB: label, RG: region\n",
    "europe = {map_type: {} for map_type in map_types}\n",
    "for level in range(N_levels):\n",
    "    for map_type in map_types:\n",
    "        if map_type == 'LB':\n",
    "            europe_file = f'{europe_folder}/NUTS_{map_type}_{year}_{coord_ref}_LEVL_{level}.json'\n",
    "        else:\n",
    "            europe_file = f'{europe_folder}/NUTS_{map_type}_{scale:02d}M_{year}_{coord_ref}_LEVL_{level}.json'\n",
    "        tmp = gpd.read_file(europe_file)\n",
    "        tmp.crs = CRS.from_user_input(coord_ref)\n",
    "        europe[map_type][level] = tmp.cx[bbox.loc['WS','geometry'].x : bbox.loc['EN','geometry'].x,\n",
    "                                         bbox.loc['WS','geometry'].y : bbox.loc['EN','geometry'].y]"
   ]
  },
  {
   "cell_type": "code",
   "execution_count": null,
   "id": "a5f5f966",
   "metadata": {},
   "outputs": [],
   "source": [
    "fig,ax = plt.subplots(1, 1, figsize=(4,8))\n",
    "light_gray = .8 + np.zeros(3)\n",
    "dark_gray = .2 + np.zeros(3)\n",
    "europe['BN'][0].plot(ax=ax, lw=1.25, color=dark_gray)\n",
    "europe['BN'][3].plot(ax=ax, lw=0.5, color=light_gray)\n",
    "for vrat in vratings:\n",
    "    idx = gdf['lines']['vrating'] == vrat\n",
    "    gdf['lines'].loc[idx,:].plot(ax=ax, lw=np.floor(vrat/100), color='tab:blue', label=f'{vrat:.0f} kV')\n",
    "msizes = {'sites': 64, 'substations': 16, 'terminals': 4}\n",
    "cmap = {'sites': [.5,1,.2], 'substations': [1,.25,1], 'terminals': [0,0,0]}\n",
    "for type_name in cmap:\n",
    "    gdf[type_name].plot(marker='o', ax=ax, markersize=msizes[type_name],\n",
    "                        color=cmap[type_name], label=type_name)\n",
    "ax.legend(loc='upper left', fontsize=8, frameon=False)\n",
    "ax.axis('off')\n",
    "fig.tight_layout()\n",
    "plt.savefig('sardinia_geo_with_coords.pdf')"
   ]
  },
  {
   "cell_type": "markdown",
   "id": "8858725e",
   "metadata": {},
   "source": [
    "Plot Sardinia with overlaid the graph of the electrical network"
   ]
  },
  {
   "cell_type": "code",
   "execution_count": null,
   "id": "d93a0bee",
   "metadata": {},
   "outputs": [],
   "source": [
    "data = pickle.load(open('sardinia_graph.pkl', 'rb'))\n",
    "edges = data['edges']\n",
    "nodes = data['nodes']\n",
    "G = nx.MultiGraph()\n",
    "for e in edges:\n",
    "    G.add_edge(e.node1.name, e.node2.name, weight=e.length, label=e.name, voltage=e.voltage)\n",
    "voltages = np.unique([e.voltage for e in edges])[::-1]\n",
    "lengths = np.unique([e.length for e in edges])[::-1]"
   ]
  },
  {
   "cell_type": "code",
   "execution_count": null,
   "id": "4d083abc",
   "metadata": {},
   "outputs": [],
   "source": [
    "def fix_coords(source, graph, coords, depth_limit=100):\n",
    "    found = False\n",
    "    for i,edge in enumerate(nx.dfs_edges(graph, source=source.name, depth_limit=depth_limit)):\n",
    "        for j,node in enumerate(edge):\n",
    "            if coords[node][0] != 0 and coords[node][1] != 0:\n",
    "                coords[source.name] = coords[node]\n",
    "                return True\n",
    "    return False\n",
    "\n",
    "node_coords = {n.name: np.array([n.lon,n.lat]) for n in nodes}\n",
    "for edge in edges:\n",
    "    if np.any(edge.node1.coords == 0) and np.any(edge.node2.coords == 0):\n",
    "        fix_coords(edge.node1, G, node_coords)\n",
    "        node_coords[edge.node2.name] = node_coords[edge.node1.name]\n",
    "    elif np.any(edge.node1.coords == 0):\n",
    "        node_coords[edge.node1.name] = np.array([edge.node2.lon, edge.node2.lat])\n",
    "    elif np.any(edge.node2.coords == 0):\n",
    "        node_coords[edge.node2.name] = np.array([edge.node1.lon, edge.node2.lat])\n",
    "        \n",
    "source_crs = 'epsg:{}'.format(source_coord_ref)\n",
    "target_crs = 'epsg:{}'.format(coord_ref)\n",
    "trans = Transformer.from_crs(source_crs, target_crs)\n",
    "\n",
    "for k in node_coords:\n",
    "    lon,lat = node_coords[k]\n",
    "    node_coords[k] = np.array(trans.transform(lat,lon))"
   ]
  },
  {
   "cell_type": "code",
   "execution_count": null,
   "id": "b33b3a8a",
   "metadata": {},
   "outputs": [],
   "source": [
    "fig,ax = plt.subplots(1, 1, figsize=(4,8))\n",
    "light_gray = .8 + np.zeros(3)\n",
    "dark_gray = .2 + np.zeros(3)\n",
    "europe['BN'][0].plot(ax=ax, lw=1.25, color=dark_gray)\n",
    "europe['BN'][3].plot(ax=ax, lw=0.5, color=light_gray)\n",
    "\n",
    "Vmin = 150\n",
    "cmap = plt.get_cmap('Set1', (voltages>=Vmin).sum())\n",
    "cmap = [[.8,0,0], [.8,0,.8], [0,.8,0]]\n",
    "for i,V in enumerate(voltages):\n",
    "    if V >= Vmin:\n",
    "        idx = [(a,b) for a,b,d in G.edges(data=True) if d['voltage'] == V]\n",
    "        lbl = '{:g} kV'.format(V)\n",
    "    else:\n",
    "        break\n",
    "        idx = [(a,b) for a,b,d in G.edges(data=True) if d['voltage'] <= V]\n",
    "        lbl = r'$\\leq{:g}$ kV'.format(V)\n",
    "    wdt = V / 70\n",
    "    nx.draw_networkx_nodes(G.subgraph([jdx[0] for jdx in idx]), node_coords,\n",
    "                           node_color='k', node_size=wdt*2, ax=ax)\n",
    "    nx.draw_networkx_nodes(G.subgraph([jdx[1] for jdx in idx]), node_coords,\n",
    "                           node_color='k', node_size=wdt*2, ax=ax)\n",
    "    nx.draw_networkx_edges(G, node_coords, edgelist=idx, width=wdt, edge_color=cmap[i], label=lbl, ax=ax)\n",
    "    if V < Vmin:\n",
    "        break\n",
    "\n",
    "ax.legend(loc='upper left', frameon=False, fontsize=8)\n",
    "ax.axis('off')\n",
    "fig.tight_layout()\n",
    "plt.savefig('sardinia_geo_with_graph.pdf')"
   ]
  }
 ],
 "metadata": {
  "kernelspec": {
   "display_name": "Python 3 (ipykernel)",
   "language": "python",
   "name": "python3"
  },
  "language_info": {
   "codemirror_mode": {
    "name": "ipython",
    "version": 3
   },
   "file_extension": ".py",
   "mimetype": "text/x-python",
   "name": "python",
   "nbconvert_exporter": "python",
   "pygments_lexer": "ipython3",
   "version": "3.10.8"
  }
 },
 "nbformat": 4,
 "nbformat_minor": 5
}
