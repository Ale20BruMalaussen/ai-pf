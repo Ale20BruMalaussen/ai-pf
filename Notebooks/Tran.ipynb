{
 "cells": [
  {
   "cell_type": "code",
   "execution_count": 1,
   "id": "eb3dac57",
   "metadata": {},
   "outputs": [],
   "source": [
    "import os\n",
    "import sys\n",
    "import numpy as np\n",
    "import matplotlib.pyplot as plt\n",
    "\n",
    "powerfactory_path = r'C:\\Program Files\\DIgSILENT\\PowerFactory 2020 SP4\\Python\\3.8'\n",
    "if powerfactory_path not in sys.path:\n",
    "    sys.path.append(powerfactory_path)\n",
    "import powerfactory as pf"
   ]
  },
  {
   "cell_type": "code",
   "execution_count": 2,
   "id": "9c91f7c7",
   "metadata": {},
   "outputs": [],
   "source": [
    "def get_simulation_variable(elements_name, var_name, app, res):\n",
    "    n_samples = app.ResGetValueCount(res, 0)\n",
    "    elements = app.GetCalcRelevantObjects(elements_name)\n",
    "    variables = np.zeros((n_samples, len(elements)))\n",
    "    for i,element in enumerate(elements):\n",
    "        index = app.ResGetIndex(res, element, var_name)\n",
    "        if index < 0:\n",
    "            raise Exception(f'Variable {var_name} is not available.')\n",
    "        variables[:,i] = np.array([app.ResGetData(res, j, index)[1] for j in range(n_samples)])\n",
    "    return np.squeeze(variables)\n",
    "\n",
    "def get_simulation_time(app, res):\n",
    "    n_samples = app.ResGetValueCount(res, 0)\n",
    "    return np.array([app.ResGetData(res, i, -1)[1] for i in range(n_samples)])"
   ]
  },
  {
   "cell_type": "code",
   "execution_count": 3,
   "id": "4570c883",
   "metadata": {},
   "outputs": [],
   "source": [
    "app = pf.GetApplication()\n",
    "if app is None:\n",
    "    raise Exception('Cannot get PowerFactory application')\n",
    "    \n",
    "project_name = 'PythonTutorial_Introduction'\n",
    "err = app.ActivateProject(project_name)\n",
    "if err:\n",
    "    raise Exception(f'Cannot activate project {project_name}')\n",
    "    \n",
    "project = app.GetActiveProject()\n",
    "if project is None:\n",
    "    raise Exception('Cannot get active project')\n",
    "    \n",
    "project_folders = {}\n",
    "for folder_name in ('study',):\n",
    "    project_folders[folder_name] = app.GetProjectFolder(folder_name)\n",
    "    if project_folders[folder_name] is None:\n",
    "        raise Exception(f'No folder \"{folder_name}\" present')\n",
    "        \n",
    "study_case_name = 'Tran'\n",
    "if '.IntCase' not in study_case_name:\n",
    "    study_case_name += '.IntCase'\n",
    "study_case = project_folders['study'].GetContents(study_case_name)[0]\n",
    "err = study_case.Activate()"
   ]
  },
  {
   "cell_type": "code",
   "execution_count": 4,
   "id": "a487a5f5",
   "metadata": {},
   "outputs": [],
   "source": [
    "monitored_variables = {\n",
    "    '*.ElmTerm': ['m:u', 'm:fe', 'm:fehz'],\n",
    "    '*.ElmLod': ['m:Psum:bus1', 'm:Qsum:bus1'],\n",
    "    '*.ElmSym': ['s:xspeed']\n",
    "}\n",
    "# the results of the transient simulation will be stored in this variable\n",
    "res = app.GetFromStudyCase('*.ElmRes')\n",
    "for elm_name,var_names in monitored_variables.items():\n",
    "    for element in app.GetCalcRelevantObjects(elm_name):\n",
    "        res.AddVars(element, *var_names)"
   ]
  },
  {
   "cell_type": "code",
   "execution_count": 5,
   "id": "5e3ac2a8",
   "metadata": {},
   "outputs": [],
   "source": [
    "load = app.GetCalcRelevantObjects('General Load 1.ElmLod')[0]\n",
    "bus = app.GetCalcRelevantObjects('Terminal Load.ElmTerm')[0]\n",
    "line = app.GetCalcRelevantObjects('*.ElmLne')[0]\n",
    "\n",
    "event_folder = app.GetFromStudyCase('IntEvt')\n",
    "events = {}\n",
    "for event_name in 'param_change', 'short_circuit', 'clear_short':\n",
    "    event_folder.CreateObject('EvtParam', event_name)\n",
    "    evt = event_folder.GetContents(event_name + '.EvtParam')[0]\n",
    "    if event_name == 'param_change':\n",
    "        evt.p_target = load\n",
    "        evt.variable = 'plini'\n",
    "        evt.value = '10'\n",
    "        evt.time = 2\n",
    "    elif event_name == 'short_circuit':\n",
    "        evt.p_target = line\n",
    "        evt.i_shc = 0 # 3-phase short circuit\n",
    "        evt.time = 1\n",
    "    elif event_name == 'clear_short':\n",
    "        evt.p_target = line\n",
    "        evt.i_shc = 4 # clear short circuit\n",
    "        evt.time = 1.1\n",
    "    events[event_name] = evt"
   ]
  },
  {
   "cell_type": "code",
   "execution_count": 6,
   "id": "3bcecd79",
   "metadata": {},
   "outputs": [
    {
     "name": "stdout",
     "output_type": "stream",
     "text": [
      "Successfully computed initial condition.\n"
     ]
    }
   ],
   "source": [
    "inc = app.GetFromStudyCase('ComInc')\n",
    "inc.iopt_sim = 'rms'\n",
    "inc.tstart = 0\n",
    "inc.dtgrd = 0.1e-3\n",
    "err = inc.Execute()\n",
    "if err:\n",
    "    raise Exception('Cannot compute initial condition')\n",
    "print('Successfully computed initial condition.')"
   ]
  },
  {
   "cell_type": "code",
   "execution_count": 7,
   "id": "600cbed1",
   "metadata": {},
   "outputs": [
    {
     "name": "stdout",
     "output_type": "stream",
     "text": [
      "Successfully run transient simulation.\n"
     ]
    }
   ],
   "source": [
    "sim = app.GetFromStudyCase('ComSim')\n",
    "sim.tstop = 5\n",
    "err = sim.Execute()\n",
    "if err:\n",
    "    raise Exception('Cannot run transient simulation')\n",
    "print('Successfully run transient simulation.')"
   ]
  },
  {
   "cell_type": "code",
   "execution_count": 8,
   "id": "71206742",
   "metadata": {},
   "outputs": [],
   "source": [
    "for event in events.values():\n",
    "    event.Delete()\n",
    "app.ResLoadData(res)"
   ]
  },
  {
   "cell_type": "code",
   "execution_count": 9,
   "id": "0f70993e",
   "metadata": {},
   "outputs": [
    {
     "data": {
      "text/plain": [
       "'Synchronous Machine'"
      ]
     },
     "execution_count": 9,
     "metadata": {},
     "output_type": "execute_result"
    }
   ],
   "source": [
    "generator = app.GetCalcRelevantObjects('*.ElmSym')[0]\n",
    "generator.loc_name"
   ]
  },
  {
   "cell_type": "code",
   "execution_count": 10,
   "id": "6466f397",
   "metadata": {},
   "outputs": [],
   "source": [
    "time = get_simulation_time(app, res)\n",
    "# voltage = get_simulation_variable('Terminal Load.ElmTerm', 'm:u', app, res)\n",
    "# fe = get_simulation_variable('Terminal Load.ElmTerm', 'm:fe', app, res)\n",
    "speed = get_simulation_variable(generator.loc_name + '.ElmSym', 's:xspeed', app, res)"
   ]
  },
  {
   "cell_type": "code",
   "execution_count": 11,
   "id": "c8c73da2",
   "metadata": {},
   "outputs": [
    {
     "data": {
      "text/plain": [
       "[<matplotlib.lines.Line2D at 0x1d9bf69d970>]"
      ]
     },
     "execution_count": 11,
     "metadata": {},
     "output_type": "execute_result"
    },
    {
     "data": {
      "image/png": "[encoded data removed]",
      "text/plain": [
       "<Figure size 432x288 with 1 Axes>"
      ]
     },
     "metadata": {
      "needs_background": "light"
     },
     "output_type": "display_data"
    }
   ],
   "source": [
    "plt.plot(time, speed, 'k')"
   ]
  },
  {
   "cell_type": "raw",
   "id": "f19000e2",
   "metadata": {},
   "source": [
    "fig,ax = plt.subplots(2, 1, figsize=(6,5))\n",
    "ax[0].plot(time, voltage, 'k', lw=1)\n",
    "ax[1].plot(time, fe, 'k', lw=1)"
   ]
  }
 ],
 "metadata": {
  "kernelspec": {
   "display_name": "Python 3",
   "language": "python",
   "name": "python3"
  },
  "language_info": {
   "codemirror_mode": {
    "name": "ipython",
    "version": 3
   },
   "file_extension": ".py",
   "mimetype": "text/x-python",
   "name": "python",
   "nbconvert_exporter": "python",
   "pygments_lexer": "ipython3",
   "version": "3.8.8"
  }
 },
 "nbformat": 4,
 "nbformat_minor": 5
}
