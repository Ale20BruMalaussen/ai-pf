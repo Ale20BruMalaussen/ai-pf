{
 "cells": [
  {
   "cell_type": "code",
   "execution_count": 1,
   "metadata": {},
   "outputs": [],
   "source": [
    "import numpy as np\n",
    "import json\n",
    "from matplotlib import pyplot as plt\n",
    "from scipy.signal import welch"
   ]
  },
  {
   "cell_type": "code",
   "execution_count": 8,
   "metadata": {},
   "outputs": [
    {
     "ename": "FileNotFoundError",
     "evalue": "[Errno 2] No such file or directory: 'C:\\\\Users\\\\aless\\\\Desktop\\\\inertia step simulations\\\\line\\\\IEEE 39 fake grid forming line_AC.npz'",
     "output_type": "error",
     "traceback": [
      "\u001b[1;31m---------------------------------------------------------------------------\u001b[0m",
      "\u001b[1;31mFileNotFoundError\u001b[0m                         Traceback (most recent call last)",
      "Cell \u001b[1;32mIn[8], line 1\u001b[0m\n\u001b[1;32m----> 1\u001b[0m data \u001b[38;5;241m=\u001b[39m \u001b[43mnp\u001b[49m\u001b[38;5;241;43m.\u001b[39;49m\u001b[43mload\u001b[49m\u001b[43m(\u001b[49m\u001b[38;5;124;43m\"\u001b[39;49m\u001b[38;5;124;43mC:\u001b[39;49m\u001b[38;5;130;43;01m\\\\\u001b[39;49;00m\u001b[38;5;124;43mUsers\u001b[39;49m\u001b[38;5;130;43;01m\\\\\u001b[39;49;00m\u001b[38;5;124;43maless\u001b[39;49m\u001b[38;5;130;43;01m\\\\\u001b[39;49;00m\u001b[38;5;124;43mDesktop\u001b[39;49m\u001b[38;5;130;43;01m\\\\\u001b[39;49;00m\u001b[38;5;124;43minertia step simulations\u001b[39;49m\u001b[38;5;130;43;01m\\\\\u001b[39;49;00m\u001b[38;5;124;43mline\u001b[39;49m\u001b[38;5;130;43;01m\\\\\u001b[39;49;00m\u001b[38;5;124;43mIEEE 39 fake grid forming line_AC.npz\u001b[39;49m\u001b[38;5;124;43m\"\u001b[39;49m\u001b[43m,\u001b[49m\u001b[43m \u001b[49m\u001b[43mallow_pickle\u001b[49m\u001b[43m \u001b[49m\u001b[38;5;241;43m=\u001b[39;49m\u001b[43m \u001b[49m\u001b[38;5;28;43;01mTrue\u001b[39;49;00m\u001b[43m)\u001b[49m\n",
      "File \u001b[1;32mc:\\Users\\aless\\Desktop\\uni\\Ai stable power\\repository\\ai-pf\\stablepower\\lib\\site-packages\\numpy\\lib\\npyio.py:427\u001b[0m, in \u001b[0;36mload\u001b[1;34m(file, mmap_mode, allow_pickle, fix_imports, encoding, max_header_size)\u001b[0m\n\u001b[0;32m    425\u001b[0m     own_fid \u001b[38;5;241m=\u001b[39m \u001b[38;5;28;01mFalse\u001b[39;00m\n\u001b[0;32m    426\u001b[0m \u001b[38;5;28;01melse\u001b[39;00m:\n\u001b[1;32m--> 427\u001b[0m     fid \u001b[38;5;241m=\u001b[39m stack\u001b[38;5;241m.\u001b[39menter_context(\u001b[38;5;28;43mopen\u001b[39;49m\u001b[43m(\u001b[49m\u001b[43mos_fspath\u001b[49m\u001b[43m(\u001b[49m\u001b[43mfile\u001b[49m\u001b[43m)\u001b[49m\u001b[43m,\u001b[49m\u001b[43m \u001b[49m\u001b[38;5;124;43m\"\u001b[39;49m\u001b[38;5;124;43mrb\u001b[39;49m\u001b[38;5;124;43m\"\u001b[39;49m\u001b[43m)\u001b[49m)\n\u001b[0;32m    428\u001b[0m     own_fid \u001b[38;5;241m=\u001b[39m \u001b[38;5;28;01mTrue\u001b[39;00m\n\u001b[0;32m    430\u001b[0m \u001b[38;5;66;03m# Code to distinguish from NumPy binary files and pickles.\u001b[39;00m\n",
      "\u001b[1;31mFileNotFoundError\u001b[0m: [Errno 2] No such file or directory: 'C:\\\\Users\\\\aless\\\\Desktop\\\\inertia step simulations\\\\line\\\\IEEE 39 fake grid forming line_AC.npz'"
     ]
    }
   ],
   "source": [
    "data = np.load(\"C:\\\\Users\\\\aless\\\\Desktop\\\\inertia step simulations\\\\line\\\\IEEE 39 fake grid forming line_AC.npz\", allow_pickle = True)"
   ]
  },
  {
   "cell_type": "code",
   "execution_count": 30,
   "metadata": {},
   "outputs": [
    {
     "name": "stdout",
     "output_type": "stream",
     "text": [
      "['config', 'inertia', 'energy', 'momentum', 'Stot', 'H', 'S', 'J', 'Psm', 'Qsm', 'Psg', 'Qsg', 'Pload', 'Qload', 'PF_with_slack', 'PF_without_slack', 'vars_idx', 'state_vars', 'voltages', 'currents', 'signals', 'A', 'var_names', 'model_names', 'omega_col_idx', 'gen_names', 'load_buses', 'bus_equiv_terms', 'ref_SMs']\n",
      "SMs\n",
      "SGs\n",
      "buses\n",
      "loads\n",
      "lines\n",
      "transformers\n"
     ]
    }
   ],
   "source": [
    "print(list(data.keys()))\n",
    "for obj in data['PF_without_slack'].item():\n",
    "    print(obj)"
   ]
  },
  {
   "cell_type": "code",
   "execution_count": 32,
   "metadata": {},
   "outputs": [
    {
     "name": "stdout",
     "output_type": "stream",
     "text": [
      "Line 01 - 02\n",
      "Line 01 - 39\n",
      "Line 02 - 03\n",
      "Line 02 - 25\n",
      "Line 03 - 04\n",
      "Line 03 - 18\n",
      "Line 04 - 05\n",
      "Line 04 - 14\n",
      "Line 05 - 06\n",
      "Line 05 - 08\n",
      "Line 06 - 07\n",
      "Line 06 - 11\n",
      "Line 07 - 08\n",
      "Line 08 - 09\n",
      "Line 09 - 39\n",
      "Line 10 - 11\n",
      "Line 10 - 13\n",
      "Line 13 - 14\n",
      "Line 14 - 15\n",
      "Line 15 - 16\n",
      "Line 16 - 17\n",
      "Line 16 - 19\n",
      "Line 16 - 21\n",
      "Line 16 - 24\n",
      "Line 17 - 18\n",
      "Line 21 - 22\n",
      "Line 22 - 23\n",
      "Line 23 - 24\n",
      "Line 25 - 26\n",
      "Line 26 - 27\n",
      "Line 26 - 28\n",
      "Line 26 - 29\n",
      "Line 28 - 29\n",
      "Ptot\n",
      "Qtot\n"
     ]
    }
   ],
   "source": [
    "for l in data['PF_without_slack'].item()['lines']:\n",
    "    print(l)"
   ]
  },
  {
   "cell_type": "code",
   "execution_count": 12,
   "metadata": {},
   "outputs": [
    {
     "name": "stdout",
     "output_type": "stream",
     "text": [
      "(593, 593)\n"
     ]
    }
   ],
   "source": [
    "data_simu = np.load(\"C:\\\\Users\\\\aless\\\\Desktop\\\\inertia step simulations\\\\no_step\\\\_3_3_3_699\\\\IEEE 39 fake grid forming_AC.npz\", allow_pickle = True)\n",
    "print(data_simu['J'].shape)"
   ]
  },
  {
   "cell_type": "code",
   "execution_count": 10,
   "metadata": {},
   "outputs": [
    {
     "name": "stdout",
     "output_type": "stream",
     "text": [
      "(593, 593)\n",
      "(172,)\n",
      "Line 01 - 02 {'P_bus1': -122.20029656531162, 'Q_bus1': -27.73310519875092, 'P_bus2': 122.68045774493702, 'Q_bus2': -43.32790846015599}\n",
      "Line 01 - 39 {'P_bus1': 122.200296552244, 'Q_bus1': 27.733105198161027, 'P_bus2': -122.02089307629863, 'Q_bus2': -104.15630895279368}\n",
      "Line 02 - 03 {'P_bus1': 347.8564791778965, 'Q_bus1': 106.28721070428114, 'P_bus2': -346.25337340715953, 'Q_bus2': -115.38117908720278}\n",
      "Line 02 - 25 {'P_bus1': -220.5369369385019, 'Q_bus1': 71.94236380331988, 'P_bus2': 224.04258322946552, 'Q_bus2': -83.80793709069928}\n",
      "Line 03 - 04 {'P_bus1': 90.25494956049462, 'Q_bus1': 108.02735181374135, 'P_bus2': -89.97829041820164, 'Q_bus2': -126.30010650474887}\n",
      "Line 03 - 18 {'P_bus1': -66.00157617026828, 'Q_bus1': 4.953827177590571, 'P_bus2': 66.04969033297215, 'Q_bus2': -26.925110603731895}\n",
      "Line 04 - 05 {'P_bus1': -136.71967458728125, 'Q_bus1': -17.879114364994052, 'P_bus2': 136.86962335846403, 'Q_bus2': 6.770253152720375}\n",
      "Line 04 - 14 {'P_bus1': -273.30203501460755, 'Q_bus1': -39.82077912572557, 'P_bus2': 273.90589112499805, 'Q_bus2': 35.58674950146894}\n",
      "Line 05 - 06 {'P_bus1': -455.22476727309964, 'Q_bus1': -64.21648049391342, 'P_bus2': 455.6430582018937, 'Q_bus2': 65.26291260056861}\n",
      "Line 05 - 08 {'P_bus1': 318.3551439035984, 'Q_bus1': 57.44622734139488, 'P_bus2': -317.5183808628074, 'Q_bus2': -60.49278302204671}\n",
      "Line 06 - 07 {'P_bus1': 421.70091513045736, 'Q_bus1': 92.12954147789236, 'P_bus2': -420.59245176442727, 'Q_bus2': -86.47464830425383}\n",
      "Line 06 - 11 {'P_bus1': -366.04368459955634, 'Q_bus1': -39.654650930714695, 'P_bus2': 366.9756030712071, 'Q_bus2': 36.40200971472651}\n",
      "Line 07 - 08 {'P_bus1': 186.79244869794508, 'Q_bus1': 2.474648308194759, 'P_bus2': -186.65172647890228, 'Q_bus2': -8.593371421578098}\n",
      "Line 08 - 09 {'P_bus1': -17.82989269183416, 'Q_bus1': -106.9138455370504, 'P_bus2': 18.017286230349534, 'Q_bus2': 70.92432345074718}\n",
      "Line 09 - 39 {'P_bus1': -18.017286242997162, 'Q_bus1': -70.924323450135, 'P_bus2': 18.020893080085767, 'Q_bus2': -56.0450538534084}\n",
      "Line 10 - 11 {'P_bus1': 367.5049005011743, 'Q_bus1': 34.59203841822733, 'P_bus2': -366.9756030825133, 'Q_bus2': -36.402009714665}\n",
      "Line 10 - 13 {'P_bus1': 282.4950994849623, 'Q_bus1': 80.26530331750011, 'P_bus2': -282.1583488883948, 'Q_bus2': -84.13298719745812}\n",
      "Line 13 - 14 {'P_bus1': 274.5261544607097, 'Q_bus1': -7.4610475549946145, 'P_bus2': -273.862756471665, 'Q_bus2': -2.672794538417051}\n",
      "Line 14 - 15 {'P_bus1': -0.043134677126783316, 'Q_bus1': -32.913954960406826, 'P_bus2': 0.04674262645192129, 'Q_bus2': -4.414999589202834}\n",
      "Line 15 - 16 {'P_bus1': -320.0467426422176, 'Q_bus1': -148.58500041184382, 'P_bus2': 321.11862326913376, 'Q_bus2': 141.98300189186807}\n",
      "Line 16 - 17 {'P_bus1': 224.71829559122406, 'Q_bus1': -16.85426981982488, 'P_bus2': -224.38334184301996, 'Q_bus2': 6.9304934275712}\n",
      "Line 16 - 19 {'P_bus1': -502.61022837464293, 'Q_bus1': -59.341089708518986, 'P_bus2': 506.4612942741344, 'Q_bus2': 73.49243415133125}\n",
      "Line 16 - 21 {'P_bus1': -329.5578003667583, 'Q_bus1': 5.220289344143808, 'P_bus2': 330.382202996531, 'Q_bus2': -18.276046249923155}\n",
      "Line 16 - 24 {'P_bus1': -42.66889013391141, 'Q_bus1': -103.30793094584716, 'P_bus2': 42.702266777390456, 'Q_bus2': 96.73348646291036}\n",
      "Line 17 - 18 {'P_bus1': 224.38334183123078, 'Q_bus1': -6.930493427471973, 'P_bus2': -224.0496903469325, 'Q_bus2': -3.0748893969173494}\n",
      "Line 21 - 22 {'P_bus1': -604.3822030092657, 'Q_bus1': -96.72395375100504, 'P_bus2': 607.1926759955132, 'Q_bus2': 118.221438887123}\n",
      "Line 22 - 23 {'P_bus1': 42.807323988683265, 'Q_bus1': 42.42946021049572, 'P_bus2': -42.782234945255894, 'Q_bus2': -62.22350728990616}\n",
      "Line 23 - 24 {'P_bus1': 353.8456862633872, 'Q_bus1': 6.04274483124677, 'P_bus2': -351.3022728958109, 'Q_bus2': -4.533489515075779}\n",
      "Line 25 - 26 {'P_bus1': 90.30107937132851, 'Q_bus1': -23.16009318558485, 'P_bus2': -90.06652545761479, 'Q_bus2': -31.53362307419371}\n",
      "Line 26 - 27 {'P_bus1': 282.0742051364465, 'Q_bus1': 60.565413645199456, 'P_bus2': -281.0000000370164, 'Q_bus2': -75.49999999267453}\n",
      "Line 26 - 28 {'P_bus1': -140.81849412674643, 'Q_bus1': -21.140011209051693, 'P_bus2': 141.60696834852928, 'Q_bus2': -56.43457251756546}\n",
      "Line 26 - 29 {'P_bus1': -190.18918556931067, 'Q_bus1': -24.891779361508696, 'P_bus2': 192.1030219934308, 'Q_bus2': -67.86981688596128}\n",
      "Line 28 - 29 {'P_bus1': -347.606968361008, 'Q_bus1': 28.83457213471027, 'P_bus2': 349.16312404556436, 'Q_bus2': -39.517030033162236}\n",
      "Ptot {'bus1': -523.9834776926631, 'bus2': 553.3861167250317}\n",
      "Qtot {'bus1': -179.50782571124319, 'bus2': -545.7830700547066}\n"
     ]
    }
   ],
   "source": [
    "data_line = np.load(\"C:\\\\Users\\\\aless\\\\Desktop\\\\inertia step simulations\\\\simu_line_no_step\\\\_2.50\\\\IEEE 39 fake grid forming line_AC.npz\", allow_pickle = True)\n",
    "print(data_line['J'].shape)\n",
    "print(data_line['var_names'].shape)\n",
    "for l, val in data_line['PF_without_slack'].item()['lines'].items():\n",
    "    print(l, val)"
   ]
  },
  {
   "cell_type": "code",
   "execution_count": 3,
   "metadata": {},
   "outputs": [],
   "source": [
    "data = np.load(\"IEEE39_stoch_CIG_tran.npz\", allow_pickle = True)"
   ]
  },
  {
   "cell_type": "code",
   "execution_count": 4,
   "metadata": {},
   "outputs": [
    {
     "name": "stdout",
     "output_type": "stream",
     "text": [
      "['config', 'seed', 'OU_seeds', 'inertia', 'energy', 'momentum', 'Stot', 'H', 'S', 'J', 'Psm', 'Qsm', 'Psg', 'Qsg', 'Pload', 'Qload', 'PF_with_slack', 'PF_without_slack', 'time', 'data', 'attributes', 'device_names', 'ref_SMs']\n"
     ]
    }
   ],
   "source": [
    "print(list(data.keys()))"
   ]
  },
  {
   "cell_type": "code",
   "execution_count": 5,
   "metadata": {},
   "outputs": [
    {
     "name": "stdout",
     "output_type": "stream",
     "text": [
      "(200002, 10)\n",
      "(200002,)\n",
      "{'G 01': 5.0, 'G 02': 4.328999996185303, 'G 03': 4.46999979019165, 'G 04': 3.569999933242798, 'G 05': 4.329999923706055, 'G 06': 4.349999904632568, 'G 07': 3.7700002193450928, 'G 08': 3.4699997901916504, 'G 09': 3.450000047683716, 'G 10': 4.199999809265137}\n"
     ]
    }
   ],
   "source": [
    "vect = data['data'].item()['gen']['s:xspeed']\n",
    "time = data['time']\n",
    "print(vect.shape)\n",
    "print(time.shape)\n",
    "print(data['H'])"
   ]
  },
  {
   "cell_type": "code",
   "execution_count": 6,
   "metadata": {},
   "outputs": [
    {
     "data": {
      "image/png": "[encoded data removed]",
      "text/plain": [
       "<Figure size 640x480 with 1 Axes>"
      ]
     },
     "metadata": {},
     "output_type": "display_data"
    }
   ],
   "source": [
    "plt.plot(time, vect[:,7])\n",
    "y_list = [1.0001, 1, 0.9999, 0.9998, 0.9997, 0.9996, 0.9995, 0.9994]\n",
    "y_labels = [str(y) for y in y_list]\n",
    "plt.yticks(y_list, y_labels)\n",
    "plt.ylabel('generator speed normalized')\n",
    "plt.title('GEN 07')\n",
    "plt.xlabel('time [s]')\n",
    "plt.show()"
   ]
  },
  {
   "cell_type": "code",
   "execution_count": null,
   "metadata": {},
   "outputs": [],
   "source": [
    "(f,  pxx) = welch()"
   ]
  }
 ],
 "metadata": {
  "kernelspec": {
   "display_name": ".venv",
   "language": "python",
   "name": "python3"
  },
  "language_info": {
   "codemirror_mode": {
    "name": "ipython",
    "version": 3
   },
   "file_extension": ".py",
   "mimetype": "text/x-python",
   "name": "python",
   "nbconvert_exporter": "python",
   "pygments_lexer": "ipython3",
   "version": "3.9.7"
  }
 },
 "nbformat": 4,
 "nbformat_minor": 2
}
