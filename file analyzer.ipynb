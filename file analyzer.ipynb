{
 "cells": [
  {
   "cell_type": "code",
   "execution_count": 2,
   "metadata": {},
   "outputs": [],
   "source": [
    "import numpy as np\n",
    "import json"
   ]
  },
  {
   "cell_type": "code",
   "execution_count": 3,
   "metadata": {},
   "outputs": [],
   "source": [
    "data = np.load(\"C:\\\\Users\\\\aless\\\\Desktop\\\\inertia step simulations\\\\line\\\\IEEE 39 fake grid forming line_AC.npz\", allow_pickle = True)"
   ]
  },
  {
   "cell_type": "code",
   "execution_count": 30,
   "metadata": {},
   "outputs": [
    {
     "name": "stdout",
     "output_type": "stream",
     "text": [
      "['config', 'inertia', 'energy', 'momentum', 'Stot', 'H', 'S', 'J', 'Psm', 'Qsm', 'Psg', 'Qsg', 'Pload', 'Qload', 'PF_with_slack', 'PF_without_slack', 'vars_idx', 'state_vars', 'voltages', 'currents', 'signals', 'A', 'var_names', 'model_names', 'omega_col_idx', 'gen_names', 'load_buses', 'bus_equiv_terms', 'ref_SMs']\n",
      "SMs\n",
      "SGs\n",
      "buses\n",
      "loads\n",
      "lines\n",
      "transformers\n"
     ]
    }
   ],
   "source": [
    "print(list(data.keys()))\n",
    "for obj in data['PF_without_slack'].item():\n",
    "    print(obj)"
   ]
  },
  {
   "cell_type": "code",
   "execution_count": 32,
   "metadata": {},
   "outputs": [
    {
     "name": "stdout",
     "output_type": "stream",
     "text": [
      "Line 01 - 02\n",
      "Line 01 - 39\n",
      "Line 02 - 03\n",
      "Line 02 - 25\n",
      "Line 03 - 04\n",
      "Line 03 - 18\n",
      "Line 04 - 05\n",
      "Line 04 - 14\n",
      "Line 05 - 06\n",
      "Line 05 - 08\n",
      "Line 06 - 07\n",
      "Line 06 - 11\n",
      "Line 07 - 08\n",
      "Line 08 - 09\n",
      "Line 09 - 39\n",
      "Line 10 - 11\n",
      "Line 10 - 13\n",
      "Line 13 - 14\n",
      "Line 14 - 15\n",
      "Line 15 - 16\n",
      "Line 16 - 17\n",
      "Line 16 - 19\n",
      "Line 16 - 21\n",
      "Line 16 - 24\n",
      "Line 17 - 18\n",
      "Line 21 - 22\n",
      "Line 22 - 23\n",
      "Line 23 - 24\n",
      "Line 25 - 26\n",
      "Line 26 - 27\n",
      "Line 26 - 28\n",
      "Line 26 - 29\n",
      "Line 28 - 29\n",
      "Ptot\n",
      "Qtot\n"
     ]
    }
   ],
   "source": [
    "for l in data['PF_without_slack'].item()['lines']:\n",
    "    print(l)"
   ]
  },
  {
   "cell_type": "code",
   "execution_count": 12,
   "metadata": {},
   "outputs": [
    {
     "name": "stdout",
     "output_type": "stream",
     "text": [
      "(593, 593)\n"
     ]
    }
   ],
   "source": [
    "data_simu = np.load(\"C:\\\\Users\\\\aless\\\\Desktop\\\\inertia step simulations\\\\no_step\\\\_3_3_3_699\\\\IEEE 39 fake grid forming_AC.npz\", allow_pickle = True)\n",
    "print(data_simu['J'].shape)"
   ]
  },
  {
   "cell_type": "code",
   "execution_count": 3,
   "metadata": {},
   "outputs": [
    {
     "name": "stdout",
     "output_type": "stream",
     "text": [
      "(1, 801, 593)\n",
      "(593,)\n"
     ]
    }
   ],
   "source": [
    "data_line = np.load(\"C:\\\\Users\\\\aless\\\\Desktop\\\\inertia step simulations\\\\line\\\\IEEE 39 fake grid forming line_AC_TF_-6.0_2.0_100.npz\", allow_pickle = True)\n",
    "print(data_line['TF'].shape)\n",
    "print(data_line['var_names'].shape)"
   ]
  }
 ],
 "metadata": {
  "kernelspec": {
   "display_name": ".venv",
   "language": "python",
   "name": "python3"
  },
  "language_info": {
   "codemirror_mode": {
    "name": "ipython",
    "version": 3
   },
   "file_extension": ".py",
   "mimetype": "text/x-python",
   "name": "python",
   "nbconvert_exporter": "python",
   "pygments_lexer": "ipython3",
   "version": "3.9.7"
  }
 },
 "nbformat": 4,
 "nbformat_minor": 2
}
